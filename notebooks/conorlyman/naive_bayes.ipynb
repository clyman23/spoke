{
 "cells": [
  {
   "cell_type": "markdown",
   "metadata": {},
   "source": [
    "# Naive Bayes"
   ]
  },
  {
   "cell_type": "code",
   "execution_count": 1,
   "metadata": {},
   "outputs": [],
   "source": [
    "from sklearn.naive_bayes import GaussianNB, MultinomialNB\n",
    "from sklearn.preprocessing import StandardScaler\n",
    "import pandas as pd\n",
    "from sklearn.metrics import roc_curve, roc_auc_score, confusion_matrix\n",
    "import matplotlib.pyplot as plt"
   ]
  },
  {
   "cell_type": "code",
   "execution_count": 2,
   "metadata": {},
   "outputs": [],
   "source": [
    "TRAIN_DATA_FILEPATH = \"../../pipeline_data/2019_thru_2021/train.parquet\"\n",
    "EVAL_DATA_FILEPATH = \"../../pipeline_data/2019_thru_2021/eval.parquet\"\n",
    "TEST_DATA_FILEPATH = \"../../pipeline_data/2019_thru_2021/test.parquet\""
   ]
  },
  {
   "cell_type": "code",
   "execution_count": 3,
   "metadata": {},
   "outputs": [],
   "source": [
    "train_data = pd.read_parquet(TRAIN_DATA_FILEPATH)\n",
    "eval_data = pd.read_parquet(EVAL_DATA_FILEPATH)\n",
    "test_data = pd.read_parquet(TEST_DATA_FILEPATH)"
   ]
  },
  {
   "cell_type": "code",
   "execution_count": 4,
   "metadata": {},
   "outputs": [],
   "source": [
    "X_test = test_data.drop(\"IS_CRASH\", axis=1)\n",
    "y_test = test_data.IS_CRASH"
   ]
  },
  {
   "cell_type": "code",
   "execution_count": 5,
   "metadata": {},
   "outputs": [
    {
     "data": {
      "text/html": [
       "<div>\n",
       "<style scoped>\n",
       "    .dataframe tbody tr th:only-of-type {\n",
       "        vertical-align: middle;\n",
       "    }\n",
       "\n",
       "    .dataframe tbody tr th {\n",
       "        vertical-align: top;\n",
       "    }\n",
       "\n",
       "    .dataframe thead th {\n",
       "        text-align: right;\n",
       "    }\n",
       "</style>\n",
       "<table border=\"1\" class=\"dataframe\">\n",
       "  <thead>\n",
       "    <tr style=\"text-align: right;\">\n",
       "      <th></th>\n",
       "      <th>EVENT_DATE</th>\n",
       "      <th>EVENT_TIME</th>\n",
       "      <th>IS_CRASH</th>\n",
       "      <th>AWND</th>\n",
       "      <th>PGTM</th>\n",
       "      <th>PRCP</th>\n",
       "      <th>SNOW</th>\n",
       "      <th>SNWD</th>\n",
       "      <th>TMAX</th>\n",
       "      <th>TMIN</th>\n",
       "      <th>...</th>\n",
       "      <th>primary</th>\n",
       "      <th>cycleway</th>\n",
       "      <th>unclassified</th>\n",
       "      <th>trunk</th>\n",
       "      <th>pedestrian</th>\n",
       "      <th>tertiary</th>\n",
       "      <th>path</th>\n",
       "      <th>secondary_link</th>\n",
       "      <th>living_street</th>\n",
       "      <th>primary_link</th>\n",
       "    </tr>\n",
       "  </thead>\n",
       "  <tbody>\n",
       "    <tr>\n",
       "      <th>2081026</th>\n",
       "      <td>340</td>\n",
       "      <td>31235.682</td>\n",
       "      <td>False</td>\n",
       "      <td>10.316250</td>\n",
       "      <td>2025.50</td>\n",
       "      <td>0.000127</td>\n",
       "      <td>0.0</td>\n",
       "      <td>0.417391</td>\n",
       "      <td>46.214286</td>\n",
       "      <td>31.857143</td>\n",
       "      <td>...</td>\n",
       "      <td>0.0</td>\n",
       "      <td>0.0</td>\n",
       "      <td>0.0</td>\n",
       "      <td>0.0</td>\n",
       "      <td>0.0</td>\n",
       "      <td>0.0</td>\n",
       "      <td>0.0</td>\n",
       "      <td>0.0</td>\n",
       "      <td>0.0</td>\n",
       "      <td>0.0</td>\n",
       "    </tr>\n",
       "    <tr>\n",
       "      <th>13892716</th>\n",
       "      <td>158</td>\n",
       "      <td>61315.748</td>\n",
       "      <td>False</td>\n",
       "      <td>8.181429</td>\n",
       "      <td>1558.00</td>\n",
       "      <td>0.404432</td>\n",
       "      <td>0.0</td>\n",
       "      <td>0.000000</td>\n",
       "      <td>84.214286</td>\n",
       "      <td>66.928571</td>\n",
       "      <td>...</td>\n",
       "      <td>0.0</td>\n",
       "      <td>0.0</td>\n",
       "      <td>0.0</td>\n",
       "      <td>0.0</td>\n",
       "      <td>0.0</td>\n",
       "      <td>0.0</td>\n",
       "      <td>0.0</td>\n",
       "      <td>0.0</td>\n",
       "      <td>0.0</td>\n",
       "      <td>0.0</td>\n",
       "    </tr>\n",
       "    <tr>\n",
       "      <th>11934664</th>\n",
       "      <td>333</td>\n",
       "      <td>83997.996</td>\n",
       "      <td>False</td>\n",
       "      <td>11.715000</td>\n",
       "      <td>521.50</td>\n",
       "      <td>0.000260</td>\n",
       "      <td>0.0</td>\n",
       "      <td>0.000000</td>\n",
       "      <td>45.500000</td>\n",
       "      <td>24.142857</td>\n",
       "      <td>...</td>\n",
       "      <td>0.0</td>\n",
       "      <td>0.0</td>\n",
       "      <td>0.0</td>\n",
       "      <td>0.0</td>\n",
       "      <td>0.0</td>\n",
       "      <td>4.0</td>\n",
       "      <td>0.0</td>\n",
       "      <td>0.0</td>\n",
       "      <td>0.0</td>\n",
       "      <td>0.0</td>\n",
       "    </tr>\n",
       "    <tr>\n",
       "      <th>8636938</th>\n",
       "      <td>172</td>\n",
       "      <td>62606.920</td>\n",
       "      <td>False</td>\n",
       "      <td>10.065000</td>\n",
       "      <td>1303.50</td>\n",
       "      <td>0.647500</td>\n",
       "      <td>0.0</td>\n",
       "      <td>0.000000</td>\n",
       "      <td>79.076923</td>\n",
       "      <td>64.928571</td>\n",
       "      <td>...</td>\n",
       "      <td>0.0</td>\n",
       "      <td>0.0</td>\n",
       "      <td>0.0</td>\n",
       "      <td>0.0</td>\n",
       "      <td>0.0</td>\n",
       "      <td>0.0</td>\n",
       "      <td>0.0</td>\n",
       "      <td>0.0</td>\n",
       "      <td>0.0</td>\n",
       "      <td>0.0</td>\n",
       "    </tr>\n",
       "    <tr>\n",
       "      <th>4407752</th>\n",
       "      <td>221</td>\n",
       "      <td>57980.122</td>\n",
       "      <td>False</td>\n",
       "      <td>6.598750</td>\n",
       "      <td>1176.75</td>\n",
       "      <td>0.120588</td>\n",
       "      <td>0.0</td>\n",
       "      <td>0.000000</td>\n",
       "      <td>85.428571</td>\n",
       "      <td>66.785714</td>\n",
       "      <td>...</td>\n",
       "      <td>4.0</td>\n",
       "      <td>0.0</td>\n",
       "      <td>0.0</td>\n",
       "      <td>0.0</td>\n",
       "      <td>0.0</td>\n",
       "      <td>0.0</td>\n",
       "      <td>0.0</td>\n",
       "      <td>0.0</td>\n",
       "      <td>0.0</td>\n",
       "      <td>0.0</td>\n",
       "    </tr>\n",
       "  </tbody>\n",
       "</table>\n",
       "<p>5 rows × 41 columns</p>\n",
       "</div>"
      ],
      "text/plain": [
       "          EVENT_DATE  EVENT_TIME  IS_CRASH       AWND     PGTM      PRCP  \\\n",
       "2081026          340   31235.682     False  10.316250  2025.50  0.000127   \n",
       "13892716         158   61315.748     False   8.181429  1558.00  0.404432   \n",
       "11934664         333   83997.996     False  11.715000   521.50  0.000260   \n",
       "8636938          172   62606.920     False  10.065000  1303.50  0.647500   \n",
       "4407752          221   57980.122     False   6.598750  1176.75  0.120588   \n",
       "\n",
       "          SNOW      SNWD       TMAX       TMIN  ...  primary  cycleway  \\\n",
       "2081026    0.0  0.417391  46.214286  31.857143  ...      0.0       0.0   \n",
       "13892716   0.0  0.000000  84.214286  66.928571  ...      0.0       0.0   \n",
       "11934664   0.0  0.000000  45.500000  24.142857  ...      0.0       0.0   \n",
       "8636938    0.0  0.000000  79.076923  64.928571  ...      0.0       0.0   \n",
       "4407752    0.0  0.000000  85.428571  66.785714  ...      4.0       0.0   \n",
       "\n",
       "          unclassified  trunk  pedestrian  tertiary  path  secondary_link  \\\n",
       "2081026            0.0    0.0         0.0       0.0   0.0             0.0   \n",
       "13892716           0.0    0.0         0.0       0.0   0.0             0.0   \n",
       "11934664           0.0    0.0         0.0       4.0   0.0             0.0   \n",
       "8636938            0.0    0.0         0.0       0.0   0.0             0.0   \n",
       "4407752            0.0    0.0         0.0       0.0   0.0             0.0   \n",
       "\n",
       "          living_street  primary_link  \n",
       "2081026             0.0           0.0  \n",
       "13892716            0.0           0.0  \n",
       "11934664            0.0           0.0  \n",
       "8636938             0.0           0.0  \n",
       "4407752             0.0           0.0  \n",
       "\n",
       "[5 rows x 41 columns]"
      ]
     },
     "execution_count": 5,
     "metadata": {},
     "output_type": "execute_result"
    }
   ],
   "source": [
    "train_data.head()"
   ]
  },
  {
   "cell_type": "markdown",
   "metadata": {},
   "source": [
    "## First model\n",
    "First, let's fit a Gaussian Naive Bayes on all of the training data and evaluate performance"
   ]
  },
  {
   "cell_type": "code",
   "execution_count": 6,
   "metadata": {},
   "outputs": [],
   "source": [
    "gnb = GaussianNB()"
   ]
  },
  {
   "cell_type": "code",
   "execution_count": 7,
   "metadata": {},
   "outputs": [],
   "source": [
    "X = train_data.drop(\"IS_CRASH\", axis=1)\n",
    "y = train_data.IS_CRASH"
   ]
  },
  {
   "cell_type": "code",
   "execution_count": 8,
   "metadata": {},
   "outputs": [
    {
     "data": {
      "text/plain": [
       "GaussianNB()"
      ]
     },
     "execution_count": 8,
     "metadata": {},
     "output_type": "execute_result"
    }
   ],
   "source": [
    "gnb.fit(X, y)"
   ]
  },
  {
   "cell_type": "code",
   "execution_count": 9,
   "metadata": {},
   "outputs": [],
   "source": [
    "X_eval = eval_data.drop(\"IS_CRASH\", axis=1)"
   ]
  },
  {
   "cell_type": "code",
   "execution_count": 10,
   "metadata": {},
   "outputs": [],
   "source": [
    "y_pred = gnb.predict(X_eval)"
   ]
  },
  {
   "cell_type": "code",
   "execution_count": 11,
   "metadata": {},
   "outputs": [
    {
     "name": "stdout",
     "output_type": "stream",
     "text": [
      "Number of mislabeled points out of a total 4558995 points : 24035\n"
     ]
    }
   ],
   "source": [
    "y_eval = eval_data.IS_CRASH\n",
    "print(\"Number of mislabeled points out of a total %d points : %d\" % (X_eval.shape[0], (y_eval != y_pred).sum()))"
   ]
  },
  {
   "cell_type": "code",
   "execution_count": 12,
   "metadata": {},
   "outputs": [
    {
     "data": {
      "text/plain": [
       "0.9947280047466601"
      ]
     },
     "execution_count": 12,
     "metadata": {},
     "output_type": "execute_result"
    }
   ],
   "source": [
    "(y_eval == y_pred).sum() / X_eval.shape[0]"
   ]
  },
  {
   "cell_type": "code",
   "execution_count": 13,
   "metadata": {},
   "outputs": [],
   "source": [
    "y_pred_proba = gnb.predict_proba(X_eval)"
   ]
  },
  {
   "cell_type": "code",
   "execution_count": 14,
   "metadata": {},
   "outputs": [
    {
     "data": {
      "text/plain": [
       "(4558995, 2)"
      ]
     },
     "execution_count": 14,
     "metadata": {},
     "output_type": "execute_result"
    }
   ],
   "source": [
    "y_pred_proba.shape"
   ]
  },
  {
   "cell_type": "code",
   "execution_count": 15,
   "metadata": {},
   "outputs": [
    {
     "data": {
      "text/plain": [
       "0.6573474725995916"
      ]
     },
     "execution_count": 15,
     "metadata": {},
     "output_type": "execute_result"
    }
   ],
   "source": [
    "roc_auc_score(y_eval, y_pred_proba[:, 1])"
   ]
  },
  {
   "cell_type": "code",
   "execution_count": 16,
   "metadata": {},
   "outputs": [
    {
     "data": {
      "text/plain": [
       "0.9947035837725627"
      ]
     },
     "execution_count": 16,
     "metadata": {},
     "output_type": "execute_result"
    }
   ],
   "source": [
    "(y == gnb.predict(X)).sum() / X.shape[0]"
   ]
  },
  {
   "cell_type": "code",
   "execution_count": 17,
   "metadata": {},
   "outputs": [
    {
     "data": {
      "text/plain": [
       "0.6455721931880204"
      ]
     },
     "execution_count": 17,
     "metadata": {},
     "output_type": "execute_result"
    }
   ],
   "source": [
    "roc_auc_score(y, gnb.predict_proba(X)[:, 1])"
   ]
  },
  {
   "cell_type": "code",
   "execution_count": 18,
   "metadata": {},
   "outputs": [
    {
     "data": {
      "text/plain": [
       "0.0001438182570075391"
      ]
     },
     "execution_count": 18,
     "metadata": {},
     "output_type": "execute_result"
    }
   ],
   "source": [
    "len(y[y==1]) / len(y)"
   ]
  },
  {
   "cell_type": "code",
   "execution_count": 19,
   "metadata": {},
   "outputs": [
    {
     "data": {
      "text/plain": [
       "0.00015507803803250497"
      ]
     },
     "execution_count": 19,
     "metadata": {},
     "output_type": "execute_result"
    }
   ],
   "source": [
    "len(y_eval[y_eval==1]) / len(y_eval)"
   ]
  },
  {
   "cell_type": "code",
   "execution_count": 20,
   "metadata": {},
   "outputs": [
    {
     "data": {
      "text/plain": [
       "array([[4534941,   23347],\n",
       "       [    688,      19]])"
      ]
     },
     "execution_count": 20,
     "metadata": {},
     "output_type": "execute_result"
    }
   ],
   "source": [
    "# [\n",
    "#     [tn, fp,],\n",
    "#     [fn, tp]\n",
    "# ]\n",
    "confusion_matrix(y_eval, y_pred)"
   ]
  },
  {
   "cell_type": "code",
   "execution_count": 21,
   "metadata": {},
   "outputs": [
    {
     "data": {
      "text/plain": [
       "array([[13604503,    70514],\n",
       "       [    1925,       42]])"
      ]
     },
     "execution_count": 21,
     "metadata": {},
     "output_type": "execute_result"
    }
   ],
   "source": [
    "confusion_matrix(y, gnb.predict(X))"
   ]
  },
  {
   "cell_type": "code",
   "execution_count": 22,
   "metadata": {},
   "outputs": [],
   "source": [
    "fpr, tpr, thresholds = roc_curve(y_eval, y_pred_proba[:, 1])"
   ]
  },
  {
   "cell_type": "code",
   "execution_count": 23,
   "metadata": {},
   "outputs": [
    {
     "data": {
      "image/png": "[encoded data removed]",
      "text/plain": [
       "<Figure size 432x288 with 1 Axes>"
      ]
     },
     "metadata": {
      "needs_background": "light"
     },
     "output_type": "display_data"
    }
   ],
   "source": [
    "plt.figure()\n",
    "plt.plot(fpr, tpr)\n",
    "plt.plot([0, 1], [0, 1], color=\"navy\", linestyle=\"--\")\n",
    "plt.xlabel(\"False Positive Rate\")\n",
    "plt.ylabel(\"True Positive Rate\")\n",
    "plt.xlim([0.0, 1.0])\n",
    "plt.ylim([0.0, 1.05])\n",
    "plt.title(\"ROC Curve for Gaussian Naive Bayes\\neval data\")\n",
    "plt.show()"
   ]
  },
  {
   "cell_type": "code",
   "execution_count": 24,
   "metadata": {},
   "outputs": [
    {
     "data": {
      "text/plain": [
       "0.6393970568799929"
      ]
     },
     "execution_count": 24,
     "metadata": {},
     "output_type": "execute_result"
    }
   ],
   "source": [
    "y_pred_proba = gnb.predict_proba(X_test)\n",
    "roc_auc_score(y_test, y_pred_proba[:, 1])"
   ]
  },
  {
   "cell_type": "markdown",
   "metadata": {},
   "source": [
    "### Analysis\n",
    "We can see here that we don't appear to be overfitting, which is good. The accuracies and ROC-AUC scores on the training and eval data are quite similar. The accuracy probably isn't a helpful metric, since the distribution of the target is fairly skewed. We can try removing/combining some columns of our data to see how that impacts our performance."
   ]
  },
  {
   "cell_type": "markdown",
   "metadata": {},
   "source": [
    "## Second model\n",
    "Let's start by simplifying the road types and see what happens"
   ]
  },
  {
   "cell_type": "code",
   "execution_count": 25,
   "metadata": {},
   "outputs": [
    {
     "data": {
      "text/plain": [
       "Index(['EVENT_DATE', 'EVENT_TIME', 'IS_CRASH', 'AWND', 'PGTM', 'PRCP', 'SNOW',\n",
       "       'SNWD', 'TMAX', 'TMIN', 'TOBS', 'WT01', 'WT02', 'WT03', 'WT04', 'WT05',\n",
       "       'WT06', 'WT08', 'WT09', 'WT10', 'WT11', 'WT13', 'WT14', 'WT15', 'WT16',\n",
       "       'WT18', 'WT19', 'WT22', 'residential', 'service', 'secondary',\n",
       "       'primary', 'cycleway', 'unclassified', 'trunk', 'pedestrian',\n",
       "       'tertiary', 'path', 'secondary_link', 'living_street', 'primary_link'],\n",
       "      dtype='object')"
      ]
     },
     "execution_count": 25,
     "metadata": {},
     "output_type": "execute_result"
    }
   ],
   "source": [
    "train_data.columns"
   ]
  },
  {
   "cell_type": "code",
   "execution_count": 26,
   "metadata": {},
   "outputs": [],
   "source": [
    "busy_roads_train = train_data[[\"primary\", \"secondary\", \"tertiary\"]].sum(axis=1)"
   ]
  },
  {
   "cell_type": "code",
   "execution_count": 27,
   "metadata": {},
   "outputs": [],
   "source": [
    "other_roads_train = train_data[[\n",
    "    \"residential\",\n",
    "    \"unclassified\",\n",
    "    \"trunk\",\n",
    "    \"pedestrian\",\n",
    "    \"path\",\n",
    "    \"secondary_link\",\n",
    "    \"living_street\",\n",
    "    \"primary_link\",\n",
    "    \"service\"\n",
    "]].sum(axis=1)"
   ]
  },
  {
   "cell_type": "code",
   "execution_count": 28,
   "metadata": {},
   "outputs": [],
   "source": [
    "busy_roads_eval = eval_data[[\"primary\", \"secondary\", \"tertiary\"]].sum(axis=1)"
   ]
  },
  {
   "cell_type": "code",
   "execution_count": 29,
   "metadata": {},
   "outputs": [],
   "source": [
    "other_roads_eval = eval_data[[\n",
    "    \"residential\",\n",
    "    \"unclassified\",\n",
    "    \"trunk\",\n",
    "    \"pedestrian\",\n",
    "    \"path\",\n",
    "    \"secondary_link\",\n",
    "    \"living_street\",\n",
    "    \"primary_link\",\n",
    "    \"service\"\n",
    "]].sum(axis=1)"
   ]
  },
  {
   "cell_type": "code",
   "execution_count": 30,
   "metadata": {},
   "outputs": [],
   "source": [
    "X = train_data.drop(\"IS_CRASH\", axis=1)\n",
    "y = train_data.IS_CRASH"
   ]
  },
  {
   "cell_type": "code",
   "execution_count": 31,
   "metadata": {},
   "outputs": [],
   "source": [
    "X.drop(\n",
    "    [\n",
    "        \"primary\",\n",
    "        \"secondary\",\n",
    "        \"tertiary\",\n",
    "        \"residential\",\n",
    "        \"unclassified\",\n",
    "        \"trunk\",\n",
    "        \"pedestrian\",\n",
    "        \"path\",\n",
    "        \"secondary_link\",\n",
    "        \"living_street\",\n",
    "        \"primary_link\",\n",
    "        \"service\"\n",
    "    ],\n",
    "    axis=1,\n",
    "    inplace=True\n",
    ")"
   ]
  },
  {
   "cell_type": "code",
   "execution_count": 32,
   "metadata": {},
   "outputs": [],
   "source": [
    "X[\"busy_road\"] = busy_roads_train\n",
    "X[\"other_roads\"] = other_roads_train"
   ]
  },
  {
   "cell_type": "code",
   "execution_count": 33,
   "metadata": {},
   "outputs": [
    {
     "data": {
      "text/html": [
       "<div>\n",
       "<style scoped>\n",
       "    .dataframe tbody tr th:only-of-type {\n",
       "        vertical-align: middle;\n",
       "    }\n",
       "\n",
       "    .dataframe tbody tr th {\n",
       "        vertical-align: top;\n",
       "    }\n",
       "\n",
       "    .dataframe thead th {\n",
       "        text-align: right;\n",
       "    }\n",
       "</style>\n",
       "<table border=\"1\" class=\"dataframe\">\n",
       "  <thead>\n",
       "    <tr style=\"text-align: right;\">\n",
       "      <th></th>\n",
       "      <th>EVENT_DATE</th>\n",
       "      <th>EVENT_TIME</th>\n",
       "      <th>AWND</th>\n",
       "      <th>PGTM</th>\n",
       "      <th>PRCP</th>\n",
       "      <th>SNOW</th>\n",
       "      <th>SNWD</th>\n",
       "      <th>TMAX</th>\n",
       "      <th>TMIN</th>\n",
       "      <th>TOBS</th>\n",
       "      <th>...</th>\n",
       "      <th>WT13</th>\n",
       "      <th>WT14</th>\n",
       "      <th>WT15</th>\n",
       "      <th>WT16</th>\n",
       "      <th>WT18</th>\n",
       "      <th>WT19</th>\n",
       "      <th>WT22</th>\n",
       "      <th>cycleway</th>\n",
       "      <th>busy_road</th>\n",
       "      <th>other_roads</th>\n",
       "    </tr>\n",
       "  </thead>\n",
       "  <tbody>\n",
       "    <tr>\n",
       "      <th>2081026</th>\n",
       "      <td>340</td>\n",
       "      <td>31235.682</td>\n",
       "      <td>10.316250</td>\n",
       "      <td>2025.50</td>\n",
       "      <td>0.000127</td>\n",
       "      <td>0.0</td>\n",
       "      <td>0.417391</td>\n",
       "      <td>46.214286</td>\n",
       "      <td>31.857143</td>\n",
       "      <td>33.333333</td>\n",
       "      <td>...</td>\n",
       "      <td>0.0</td>\n",
       "      <td>0.0</td>\n",
       "      <td>0.0</td>\n",
       "      <td>0.0</td>\n",
       "      <td>0.0</td>\n",
       "      <td>0.0</td>\n",
       "      <td>0.0</td>\n",
       "      <td>0.0</td>\n",
       "      <td>4.0</td>\n",
       "      <td>2.0</td>\n",
       "    </tr>\n",
       "    <tr>\n",
       "      <th>13892716</th>\n",
       "      <td>158</td>\n",
       "      <td>61315.748</td>\n",
       "      <td>8.181429</td>\n",
       "      <td>1558.00</td>\n",
       "      <td>0.404432</td>\n",
       "      <td>0.0</td>\n",
       "      <td>0.000000</td>\n",
       "      <td>84.214286</td>\n",
       "      <td>66.928571</td>\n",
       "      <td>70.000000</td>\n",
       "      <td>...</td>\n",
       "      <td>0.0</td>\n",
       "      <td>0.0</td>\n",
       "      <td>0.0</td>\n",
       "      <td>0.0</td>\n",
       "      <td>0.0</td>\n",
       "      <td>0.0</td>\n",
       "      <td>0.0</td>\n",
       "      <td>0.0</td>\n",
       "      <td>4.0</td>\n",
       "      <td>2.0</td>\n",
       "    </tr>\n",
       "    <tr>\n",
       "      <th>11934664</th>\n",
       "      <td>333</td>\n",
       "      <td>83997.996</td>\n",
       "      <td>11.715000</td>\n",
       "      <td>521.50</td>\n",
       "      <td>0.000260</td>\n",
       "      <td>0.0</td>\n",
       "      <td>0.000000</td>\n",
       "      <td>45.500000</td>\n",
       "      <td>24.142857</td>\n",
       "      <td>30.400000</td>\n",
       "      <td>...</td>\n",
       "      <td>0.0</td>\n",
       "      <td>0.0</td>\n",
       "      <td>0.0</td>\n",
       "      <td>0.0</td>\n",
       "      <td>0.0</td>\n",
       "      <td>0.0</td>\n",
       "      <td>0.0</td>\n",
       "      <td>0.0</td>\n",
       "      <td>4.0</td>\n",
       "      <td>2.0</td>\n",
       "    </tr>\n",
       "    <tr>\n",
       "      <th>8636938</th>\n",
       "      <td>172</td>\n",
       "      <td>62606.920</td>\n",
       "      <td>10.065000</td>\n",
       "      <td>1303.50</td>\n",
       "      <td>0.647500</td>\n",
       "      <td>0.0</td>\n",
       "      <td>0.000000</td>\n",
       "      <td>79.076923</td>\n",
       "      <td>64.928571</td>\n",
       "      <td>68.500000</td>\n",
       "      <td>...</td>\n",
       "      <td>0.0</td>\n",
       "      <td>0.0</td>\n",
       "      <td>0.0</td>\n",
       "      <td>0.0</td>\n",
       "      <td>0.0</td>\n",
       "      <td>0.0</td>\n",
       "      <td>0.0</td>\n",
       "      <td>0.0</td>\n",
       "      <td>0.0</td>\n",
       "      <td>3.0</td>\n",
       "    </tr>\n",
       "    <tr>\n",
       "      <th>4407752</th>\n",
       "      <td>221</td>\n",
       "      <td>57980.122</td>\n",
       "      <td>6.598750</td>\n",
       "      <td>1176.75</td>\n",
       "      <td>0.120588</td>\n",
       "      <td>0.0</td>\n",
       "      <td>0.000000</td>\n",
       "      <td>85.428571</td>\n",
       "      <td>66.785714</td>\n",
       "      <td>67.833333</td>\n",
       "      <td>...</td>\n",
       "      <td>0.0</td>\n",
       "      <td>0.0</td>\n",
       "      <td>0.0</td>\n",
       "      <td>0.0</td>\n",
       "      <td>0.0</td>\n",
       "      <td>0.0</td>\n",
       "      <td>0.0</td>\n",
       "      <td>0.0</td>\n",
       "      <td>6.0</td>\n",
       "      <td>0.0</td>\n",
       "    </tr>\n",
       "  </tbody>\n",
       "</table>\n",
       "<p>5 rows × 30 columns</p>\n",
       "</div>"
      ],
      "text/plain": [
       "          EVENT_DATE  EVENT_TIME       AWND     PGTM      PRCP  SNOW  \\\n",
       "2081026          340   31235.682  10.316250  2025.50  0.000127   0.0   \n",
       "13892716         158   61315.748   8.181429  1558.00  0.404432   0.0   \n",
       "11934664         333   83997.996  11.715000   521.50  0.000260   0.0   \n",
       "8636938          172   62606.920  10.065000  1303.50  0.647500   0.0   \n",
       "4407752          221   57980.122   6.598750  1176.75  0.120588   0.0   \n",
       "\n",
       "              SNWD       TMAX       TMIN       TOBS  ...  WT13  WT14  WT15  \\\n",
       "2081026   0.417391  46.214286  31.857143  33.333333  ...   0.0   0.0   0.0   \n",
       "13892716  0.000000  84.214286  66.928571  70.000000  ...   0.0   0.0   0.0   \n",
       "11934664  0.000000  45.500000  24.142857  30.400000  ...   0.0   0.0   0.0   \n",
       "8636938   0.000000  79.076923  64.928571  68.500000  ...   0.0   0.0   0.0   \n",
       "4407752   0.000000  85.428571  66.785714  67.833333  ...   0.0   0.0   0.0   \n",
       "\n",
       "          WT16  WT18  WT19  WT22  cycleway  busy_road  other_roads  \n",
       "2081026    0.0   0.0   0.0   0.0       0.0        4.0          2.0  \n",
       "13892716   0.0   0.0   0.0   0.0       0.0        4.0          2.0  \n",
       "11934664   0.0   0.0   0.0   0.0       0.0        4.0          2.0  \n",
       "8636938    0.0   0.0   0.0   0.0       0.0        0.0          3.0  \n",
       "4407752    0.0   0.0   0.0   0.0       0.0        6.0          0.0  \n",
       "\n",
       "[5 rows x 30 columns]"
      ]
     },
     "execution_count": 33,
     "metadata": {},
     "output_type": "execute_result"
    }
   ],
   "source": [
    "X.head()"
   ]
  },
  {
   "cell_type": "code",
   "execution_count": 34,
   "metadata": {},
   "outputs": [],
   "source": [
    "X_eval = eval_data.drop(\"IS_CRASH\", axis=1)\n",
    "y_eval = eval_data.IS_CRASH"
   ]
  },
  {
   "cell_type": "code",
   "execution_count": 35,
   "metadata": {},
   "outputs": [
    {
     "data": {
      "text/html": [
       "<div>\n",
       "<style scoped>\n",
       "    .dataframe tbody tr th:only-of-type {\n",
       "        vertical-align: middle;\n",
       "    }\n",
       "\n",
       "    .dataframe tbody tr th {\n",
       "        vertical-align: top;\n",
       "    }\n",
       "\n",
       "    .dataframe thead th {\n",
       "        text-align: right;\n",
       "    }\n",
       "</style>\n",
       "<table border=\"1\" class=\"dataframe\">\n",
       "  <thead>\n",
       "    <tr style=\"text-align: right;\">\n",
       "      <th></th>\n",
       "      <th>EVENT_DATE</th>\n",
       "      <th>EVENT_TIME</th>\n",
       "      <th>AWND</th>\n",
       "      <th>PGTM</th>\n",
       "      <th>PRCP</th>\n",
       "      <th>SNOW</th>\n",
       "      <th>SNWD</th>\n",
       "      <th>TMAX</th>\n",
       "      <th>TMIN</th>\n",
       "      <th>TOBS</th>\n",
       "      <th>...</th>\n",
       "      <th>WT13</th>\n",
       "      <th>WT14</th>\n",
       "      <th>WT15</th>\n",
       "      <th>WT16</th>\n",
       "      <th>WT18</th>\n",
       "      <th>WT19</th>\n",
       "      <th>WT22</th>\n",
       "      <th>cycleway</th>\n",
       "      <th>busy_road</th>\n",
       "      <th>other_roads</th>\n",
       "    </tr>\n",
       "  </thead>\n",
       "  <tbody>\n",
       "    <tr>\n",
       "      <th>16203066</th>\n",
       "      <td>8</td>\n",
       "      <td>79908.922</td>\n",
       "      <td>14.401250</td>\n",
       "      <td>1703.50</td>\n",
       "      <td>0.022195</td>\n",
       "      <td>0.004444</td>\n",
       "      <td>0.0</td>\n",
       "      <td>43.285714</td>\n",
       "      <td>28.714286</td>\n",
       "      <td>30.500000</td>\n",
       "      <td>...</td>\n",
       "      <td>0.0</td>\n",
       "      <td>0.0</td>\n",
       "      <td>0.0</td>\n",
       "      <td>0.0</td>\n",
       "      <td>0.0</td>\n",
       "      <td>0.0</td>\n",
       "      <td>0.0</td>\n",
       "      <td>2.0</td>\n",
       "      <td>0.0</td>\n",
       "      <td>2.0</td>\n",
       "    </tr>\n",
       "    <tr>\n",
       "      <th>2889199</th>\n",
       "      <td>189</td>\n",
       "      <td>72942.500</td>\n",
       "      <td>3.717500</td>\n",
       "      <td>1286.00</td>\n",
       "      <td>0.056829</td>\n",
       "      <td>0.000000</td>\n",
       "      <td>0.0</td>\n",
       "      <td>82.071429</td>\n",
       "      <td>68.142857</td>\n",
       "      <td>68.200000</td>\n",
       "      <td>...</td>\n",
       "      <td>0.0</td>\n",
       "      <td>0.0</td>\n",
       "      <td>0.0</td>\n",
       "      <td>0.0</td>\n",
       "      <td>0.0</td>\n",
       "      <td>0.0</td>\n",
       "      <td>0.0</td>\n",
       "      <td>0.0</td>\n",
       "      <td>2.0</td>\n",
       "      <td>2.0</td>\n",
       "    </tr>\n",
       "    <tr>\n",
       "      <th>14506408</th>\n",
       "      <td>177</td>\n",
       "      <td>63655.322</td>\n",
       "      <td>5.927500</td>\n",
       "      <td>1711.50</td>\n",
       "      <td>0.000247</td>\n",
       "      <td>0.000000</td>\n",
       "      <td>0.0</td>\n",
       "      <td>87.214286</td>\n",
       "      <td>67.714286</td>\n",
       "      <td>69.833333</td>\n",
       "      <td>...</td>\n",
       "      <td>0.0</td>\n",
       "      <td>0.0</td>\n",
       "      <td>0.0</td>\n",
       "      <td>0.0</td>\n",
       "      <td>0.0</td>\n",
       "      <td>0.0</td>\n",
       "      <td>0.0</td>\n",
       "      <td>4.0</td>\n",
       "      <td>0.0</td>\n",
       "      <td>4.0</td>\n",
       "    </tr>\n",
       "    <tr>\n",
       "      <th>7571704</th>\n",
       "      <td>270</td>\n",
       "      <td>68111.977</td>\n",
       "      <td>4.950000</td>\n",
       "      <td>1594.50</td>\n",
       "      <td>0.056771</td>\n",
       "      <td>0.000000</td>\n",
       "      <td>0.0</td>\n",
       "      <td>78.428571</td>\n",
       "      <td>54.500000</td>\n",
       "      <td>54.600000</td>\n",
       "      <td>...</td>\n",
       "      <td>0.0</td>\n",
       "      <td>0.0</td>\n",
       "      <td>0.0</td>\n",
       "      <td>0.0</td>\n",
       "      <td>0.0</td>\n",
       "      <td>0.0</td>\n",
       "      <td>0.0</td>\n",
       "      <td>0.0</td>\n",
       "      <td>4.0</td>\n",
       "      <td>1.0</td>\n",
       "    </tr>\n",
       "    <tr>\n",
       "      <th>15190919</th>\n",
       "      <td>256</td>\n",
       "      <td>60189.967</td>\n",
       "      <td>7.891429</td>\n",
       "      <td>1235.25</td>\n",
       "      <td>0.001500</td>\n",
       "      <td>0.000000</td>\n",
       "      <td>0.0</td>\n",
       "      <td>74.846154</td>\n",
       "      <td>58.692308</td>\n",
       "      <td>59.833333</td>\n",
       "      <td>...</td>\n",
       "      <td>0.0</td>\n",
       "      <td>0.0</td>\n",
       "      <td>0.0</td>\n",
       "      <td>0.0</td>\n",
       "      <td>0.0</td>\n",
       "      <td>0.0</td>\n",
       "      <td>0.0</td>\n",
       "      <td>0.0</td>\n",
       "      <td>2.0</td>\n",
       "      <td>2.0</td>\n",
       "    </tr>\n",
       "  </tbody>\n",
       "</table>\n",
       "<p>5 rows × 30 columns</p>\n",
       "</div>"
      ],
      "text/plain": [
       "          EVENT_DATE  EVENT_TIME       AWND     PGTM      PRCP      SNOW  \\\n",
       "16203066           8   79908.922  14.401250  1703.50  0.022195  0.004444   \n",
       "2889199          189   72942.500   3.717500  1286.00  0.056829  0.000000   \n",
       "14506408         177   63655.322   5.927500  1711.50  0.000247  0.000000   \n",
       "7571704          270   68111.977   4.950000  1594.50  0.056771  0.000000   \n",
       "15190919         256   60189.967   7.891429  1235.25  0.001500  0.000000   \n",
       "\n",
       "          SNWD       TMAX       TMIN       TOBS  ...  WT13  WT14  WT15  WT16  \\\n",
       "16203066   0.0  43.285714  28.714286  30.500000  ...   0.0   0.0   0.0   0.0   \n",
       "2889199    0.0  82.071429  68.142857  68.200000  ...   0.0   0.0   0.0   0.0   \n",
       "14506408   0.0  87.214286  67.714286  69.833333  ...   0.0   0.0   0.0   0.0   \n",
       "7571704    0.0  78.428571  54.500000  54.600000  ...   0.0   0.0   0.0   0.0   \n",
       "15190919   0.0  74.846154  58.692308  59.833333  ...   0.0   0.0   0.0   0.0   \n",
       "\n",
       "          WT18  WT19  WT22  cycleway  busy_road  other_roads  \n",
       "16203066   0.0   0.0   0.0       2.0        0.0          2.0  \n",
       "2889199    0.0   0.0   0.0       0.0        2.0          2.0  \n",
       "14506408   0.0   0.0   0.0       4.0        0.0          4.0  \n",
       "7571704    0.0   0.0   0.0       0.0        4.0          1.0  \n",
       "15190919   0.0   0.0   0.0       0.0        2.0          2.0  \n",
       "\n",
       "[5 rows x 30 columns]"
      ]
     },
     "execution_count": 35,
     "metadata": {},
     "output_type": "execute_result"
    }
   ],
   "source": [
    "X_eval.drop(\n",
    "    [\n",
    "        \"primary\",\n",
    "        \"secondary\",\n",
    "        \"tertiary\",\n",
    "        \"residential\",\n",
    "        \"unclassified\",\n",
    "        \"trunk\",\n",
    "        \"pedestrian\",\n",
    "        \"path\",\n",
    "        \"secondary_link\",\n",
    "        \"living_street\",\n",
    "        \"primary_link\",\n",
    "        \"service\"\n",
    "    ],\n",
    "    axis=1,\n",
    "    inplace=True\n",
    ")\n",
    "\n",
    "X_eval[\"busy_road\"] = busy_roads_eval\n",
    "X_eval[\"other_roads\"] = other_roads_eval\n",
    "\n",
    "X_eval.head()"
   ]
  },
  {
   "cell_type": "code",
   "execution_count": 36,
   "metadata": {},
   "outputs": [
    {
     "name": "stdout",
     "output_type": "stream",
     "text": [
      "Number of mislabeled points out of a total 4558995 points : 22855\n",
      "0.9949868337210285\n"
     ]
    }
   ],
   "source": [
    "gnb = GaussianNB()\n",
    "gnb.fit(X, y)\n",
    "y_pred = gnb.predict(X_eval)\n",
    "print(\"Number of mislabeled points out of a total %d points : %d\" % (X_eval.shape[0], (y_eval != y_pred).sum()))\n",
    "print((y_eval == y_pred).sum() / X_eval.shape[0])"
   ]
  },
  {
   "cell_type": "code",
   "execution_count": 37,
   "metadata": {},
   "outputs": [
    {
     "name": "stdout",
     "output_type": "stream",
     "text": [
      "0.6445151150720367\n"
     ]
    }
   ],
   "source": [
    "y_pred_proba = gnb.predict_proba(X_eval)\n",
    "print(roc_auc_score(y_eval, y_pred_proba[:, 1]))"
   ]
  },
  {
   "cell_type": "code",
   "execution_count": 38,
   "metadata": {},
   "outputs": [
    {
     "name": "stdout",
     "output_type": "stream",
     "text": [
      "0.9949687738173855\n",
      "0.6402324082375093\n"
     ]
    }
   ],
   "source": [
    "print((y == gnb.predict(X)).sum() / X.shape[0])\n",
    "print(roc_auc_score(y, gnb.predict_proba(X)[:, 1]))"
   ]
  },
  {
   "cell_type": "code",
   "execution_count": 39,
   "metadata": {},
   "outputs": [
    {
     "data": {
      "text/plain": [
       "array([[4536121,   22167],\n",
       "       [    688,      19]])"
      ]
     },
     "execution_count": 39,
     "metadata": {},
     "output_type": "execute_result"
    }
   ],
   "source": [
    "# [\n",
    "#     [tn, fp,],\n",
    "#     [fn, tp]\n",
    "# ]\n",
    "confusion_matrix(y_eval, y_pred)"
   ]
  },
  {
   "cell_type": "code",
   "execution_count": 40,
   "metadata": {},
   "outputs": [],
   "source": [
    "fpr, tpr, thresholds = roc_curve(y_eval, y_pred_proba[:, 1])"
   ]
  },
  {
   "cell_type": "code",
   "execution_count": 41,
   "metadata": {},
   "outputs": [
    {
     "data": {
      "image/png": "[encoded data removed]",
      "text/plain": [
       "<Figure size 432x288 with 1 Axes>"
      ]
     },
     "metadata": {
      "needs_background": "light"
     },
     "output_type": "display_data"
    }
   ],
   "source": [
    "plt.figure()\n",
    "plt.plot(fpr, tpr)\n",
    "plt.plot([0, 1], [0, 1], color=\"navy\", linestyle=\"--\")\n",
    "plt.xlabel(\"False Positive Rate\")\n",
    "plt.ylabel(\"True Positive Rate\")\n",
    "plt.xlim([0.0, 1.0])\n",
    "plt.ylim([0.0, 1.05])\n",
    "plt.title(\"ROC Curve for Gaussian Naive Bayes\\neval data\")\n",
    "plt.show()"
   ]
  },
  {
   "cell_type": "markdown",
   "metadata": {},
   "source": [
    "### Analysis\n",
    "That did not appear to have much meaningful change. Maybe if we keep going...?"
   ]
  },
  {
   "cell_type": "markdown",
   "metadata": {},
   "source": [
    "## Simpler Naive Bayes\n",
    "If we can abstract our information to binary values (or counts, in the case of road types), then we can use a simpler NB model. This might be better, too, because we currently have a mixture of continuous, binary, and \"count\" input data."
   ]
  },
  {
   "cell_type": "code",
   "execution_count": 42,
   "metadata": {},
   "outputs": [
    {
     "data": {
      "text/html": [
       "<div>\n",
       "<style scoped>\n",
       "    .dataframe tbody tr th:only-of-type {\n",
       "        vertical-align: middle;\n",
       "    }\n",
       "\n",
       "    .dataframe tbody tr th {\n",
       "        vertical-align: top;\n",
       "    }\n",
       "\n",
       "    .dataframe thead th {\n",
       "        text-align: right;\n",
       "    }\n",
       "</style>\n",
       "<table border=\"1\" class=\"dataframe\">\n",
       "  <thead>\n",
       "    <tr style=\"text-align: right;\">\n",
       "      <th></th>\n",
       "      <th>EVENT_DATE</th>\n",
       "      <th>EVENT_TIME</th>\n",
       "      <th>AWND</th>\n",
       "      <th>PGTM</th>\n",
       "      <th>PRCP</th>\n",
       "      <th>SNOW</th>\n",
       "      <th>SNWD</th>\n",
       "      <th>TMAX</th>\n",
       "      <th>TMIN</th>\n",
       "      <th>TOBS</th>\n",
       "      <th>...</th>\n",
       "      <th>WT13</th>\n",
       "      <th>WT14</th>\n",
       "      <th>WT15</th>\n",
       "      <th>WT16</th>\n",
       "      <th>WT18</th>\n",
       "      <th>WT19</th>\n",
       "      <th>WT22</th>\n",
       "      <th>cycleway</th>\n",
       "      <th>busy_road</th>\n",
       "      <th>other_roads</th>\n",
       "    </tr>\n",
       "  </thead>\n",
       "  <tbody>\n",
       "    <tr>\n",
       "      <th>2081026</th>\n",
       "      <td>340</td>\n",
       "      <td>31235.682</td>\n",
       "      <td>10.316250</td>\n",
       "      <td>2025.50</td>\n",
       "      <td>0.000127</td>\n",
       "      <td>0.000000</td>\n",
       "      <td>0.417391</td>\n",
       "      <td>46.214286</td>\n",
       "      <td>31.857143</td>\n",
       "      <td>33.333333</td>\n",
       "      <td>...</td>\n",
       "      <td>0.0</td>\n",
       "      <td>0.0</td>\n",
       "      <td>0.0</td>\n",
       "      <td>0.0</td>\n",
       "      <td>0.0</td>\n",
       "      <td>0.0</td>\n",
       "      <td>0.0</td>\n",
       "      <td>0.0</td>\n",
       "      <td>4.0</td>\n",
       "      <td>2.0</td>\n",
       "    </tr>\n",
       "    <tr>\n",
       "      <th>13892716</th>\n",
       "      <td>158</td>\n",
       "      <td>61315.748</td>\n",
       "      <td>8.181429</td>\n",
       "      <td>1558.00</td>\n",
       "      <td>0.404432</td>\n",
       "      <td>0.000000</td>\n",
       "      <td>0.000000</td>\n",
       "      <td>84.214286</td>\n",
       "      <td>66.928571</td>\n",
       "      <td>70.000000</td>\n",
       "      <td>...</td>\n",
       "      <td>0.0</td>\n",
       "      <td>0.0</td>\n",
       "      <td>0.0</td>\n",
       "      <td>0.0</td>\n",
       "      <td>0.0</td>\n",
       "      <td>0.0</td>\n",
       "      <td>0.0</td>\n",
       "      <td>0.0</td>\n",
       "      <td>4.0</td>\n",
       "      <td>2.0</td>\n",
       "    </tr>\n",
       "    <tr>\n",
       "      <th>11934664</th>\n",
       "      <td>333</td>\n",
       "      <td>83997.996</td>\n",
       "      <td>11.715000</td>\n",
       "      <td>521.50</td>\n",
       "      <td>0.000260</td>\n",
       "      <td>0.000000</td>\n",
       "      <td>0.000000</td>\n",
       "      <td>45.500000</td>\n",
       "      <td>24.142857</td>\n",
       "      <td>30.400000</td>\n",
       "      <td>...</td>\n",
       "      <td>0.0</td>\n",
       "      <td>0.0</td>\n",
       "      <td>0.0</td>\n",
       "      <td>0.0</td>\n",
       "      <td>0.0</td>\n",
       "      <td>0.0</td>\n",
       "      <td>0.0</td>\n",
       "      <td>0.0</td>\n",
       "      <td>4.0</td>\n",
       "      <td>2.0</td>\n",
       "    </tr>\n",
       "    <tr>\n",
       "      <th>8636938</th>\n",
       "      <td>172</td>\n",
       "      <td>62606.920</td>\n",
       "      <td>10.065000</td>\n",
       "      <td>1303.50</td>\n",
       "      <td>0.647500</td>\n",
       "      <td>0.000000</td>\n",
       "      <td>0.000000</td>\n",
       "      <td>79.076923</td>\n",
       "      <td>64.928571</td>\n",
       "      <td>68.500000</td>\n",
       "      <td>...</td>\n",
       "      <td>0.0</td>\n",
       "      <td>0.0</td>\n",
       "      <td>0.0</td>\n",
       "      <td>0.0</td>\n",
       "      <td>0.0</td>\n",
       "      <td>0.0</td>\n",
       "      <td>0.0</td>\n",
       "      <td>0.0</td>\n",
       "      <td>0.0</td>\n",
       "      <td>3.0</td>\n",
       "    </tr>\n",
       "    <tr>\n",
       "      <th>4407752</th>\n",
       "      <td>221</td>\n",
       "      <td>57980.122</td>\n",
       "      <td>6.598750</td>\n",
       "      <td>1176.75</td>\n",
       "      <td>0.120588</td>\n",
       "      <td>0.000000</td>\n",
       "      <td>0.000000</td>\n",
       "      <td>85.428571</td>\n",
       "      <td>66.785714</td>\n",
       "      <td>67.833333</td>\n",
       "      <td>...</td>\n",
       "      <td>0.0</td>\n",
       "      <td>0.0</td>\n",
       "      <td>0.0</td>\n",
       "      <td>0.0</td>\n",
       "      <td>0.0</td>\n",
       "      <td>0.0</td>\n",
       "      <td>0.0</td>\n",
       "      <td>0.0</td>\n",
       "      <td>6.0</td>\n",
       "      <td>0.0</td>\n",
       "    </tr>\n",
       "    <tr>\n",
       "      <th>5865990</th>\n",
       "      <td>17</td>\n",
       "      <td>65366.218</td>\n",
       "      <td>7.510000</td>\n",
       "      <td>102.25</td>\n",
       "      <td>0.000127</td>\n",
       "      <td>0.003636</td>\n",
       "      <td>0.000000</td>\n",
       "      <td>34.785714</td>\n",
       "      <td>23.142857</td>\n",
       "      <td>23.333333</td>\n",
       "      <td>...</td>\n",
       "      <td>0.0</td>\n",
       "      <td>0.0</td>\n",
       "      <td>0.0</td>\n",
       "      <td>0.0</td>\n",
       "      <td>0.0</td>\n",
       "      <td>0.0</td>\n",
       "      <td>0.0</td>\n",
       "      <td>0.0</td>\n",
       "      <td>2.0</td>\n",
       "      <td>2.0</td>\n",
       "    </tr>\n",
       "    <tr>\n",
       "      <th>17494784</th>\n",
       "      <td>232</td>\n",
       "      <td>52459.352</td>\n",
       "      <td>3.971250</td>\n",
       "      <td>689.75</td>\n",
       "      <td>0.070345</td>\n",
       "      <td>0.000000</td>\n",
       "      <td>0.000000</td>\n",
       "      <td>79.142857</td>\n",
       "      <td>64.214286</td>\n",
       "      <td>65.833333</td>\n",
       "      <td>...</td>\n",
       "      <td>0.0</td>\n",
       "      <td>0.0</td>\n",
       "      <td>0.0</td>\n",
       "      <td>0.0</td>\n",
       "      <td>0.0</td>\n",
       "      <td>0.0</td>\n",
       "      <td>0.0</td>\n",
       "      <td>0.0</td>\n",
       "      <td>2.0</td>\n",
       "      <td>3.0</td>\n",
       "    </tr>\n",
       "    <tr>\n",
       "      <th>2460723</th>\n",
       "      <td>358</td>\n",
       "      <td>31903.139</td>\n",
       "      <td>7.802500</td>\n",
       "      <td>1185.75</td>\n",
       "      <td>0.000000</td>\n",
       "      <td>0.000000</td>\n",
       "      <td>0.000000</td>\n",
       "      <td>52.928571</td>\n",
       "      <td>31.928571</td>\n",
       "      <td>36.166667</td>\n",
       "      <td>...</td>\n",
       "      <td>0.0</td>\n",
       "      <td>0.0</td>\n",
       "      <td>0.0</td>\n",
       "      <td>0.0</td>\n",
       "      <td>0.0</td>\n",
       "      <td>0.0</td>\n",
       "      <td>0.0</td>\n",
       "      <td>0.0</td>\n",
       "      <td>2.0</td>\n",
       "      <td>2.0</td>\n",
       "    </tr>\n",
       "    <tr>\n",
       "      <th>22173989</th>\n",
       "      <td>150</td>\n",
       "      <td>68893.034</td>\n",
       "      <td>9.394286</td>\n",
       "      <td>1694.75</td>\n",
       "      <td>0.029540</td>\n",
       "      <td>0.000000</td>\n",
       "      <td>0.000000</td>\n",
       "      <td>78.357143</td>\n",
       "      <td>64.928571</td>\n",
       "      <td>67.833333</td>\n",
       "      <td>...</td>\n",
       "      <td>0.0</td>\n",
       "      <td>0.0</td>\n",
       "      <td>0.0</td>\n",
       "      <td>0.0</td>\n",
       "      <td>0.0</td>\n",
       "      <td>0.0</td>\n",
       "      <td>0.0</td>\n",
       "      <td>0.0</td>\n",
       "      <td>2.0</td>\n",
       "      <td>3.0</td>\n",
       "    </tr>\n",
       "    <tr>\n",
       "      <th>8994606</th>\n",
       "      <td>179</td>\n",
       "      <td>72894.548</td>\n",
       "      <td>4.755000</td>\n",
       "      <td>1459.75</td>\n",
       "      <td>0.000000</td>\n",
       "      <td>0.000000</td>\n",
       "      <td>0.000000</td>\n",
       "      <td>90.071429</td>\n",
       "      <td>67.714286</td>\n",
       "      <td>71.400000</td>\n",
       "      <td>...</td>\n",
       "      <td>0.0</td>\n",
       "      <td>0.0</td>\n",
       "      <td>0.0</td>\n",
       "      <td>0.0</td>\n",
       "      <td>0.0</td>\n",
       "      <td>0.0</td>\n",
       "      <td>0.0</td>\n",
       "      <td>0.0</td>\n",
       "      <td>0.0</td>\n",
       "      <td>3.0</td>\n",
       "    </tr>\n",
       "  </tbody>\n",
       "</table>\n",
       "<p>10 rows × 30 columns</p>\n",
       "</div>"
      ],
      "text/plain": [
       "          EVENT_DATE  EVENT_TIME       AWND     PGTM      PRCP      SNOW  \\\n",
       "2081026          340   31235.682  10.316250  2025.50  0.000127  0.000000   \n",
       "13892716         158   61315.748   8.181429  1558.00  0.404432  0.000000   \n",
       "11934664         333   83997.996  11.715000   521.50  0.000260  0.000000   \n",
       "8636938          172   62606.920  10.065000  1303.50  0.647500  0.000000   \n",
       "4407752          221   57980.122   6.598750  1176.75  0.120588  0.000000   \n",
       "5865990           17   65366.218   7.510000   102.25  0.000127  0.003636   \n",
       "17494784         232   52459.352   3.971250   689.75  0.070345  0.000000   \n",
       "2460723          358   31903.139   7.802500  1185.75  0.000000  0.000000   \n",
       "22173989         150   68893.034   9.394286  1694.75  0.029540  0.000000   \n",
       "8994606          179   72894.548   4.755000  1459.75  0.000000  0.000000   \n",
       "\n",
       "              SNWD       TMAX       TMIN       TOBS  ...  WT13  WT14  WT15  \\\n",
       "2081026   0.417391  46.214286  31.857143  33.333333  ...   0.0   0.0   0.0   \n",
       "13892716  0.000000  84.214286  66.928571  70.000000  ...   0.0   0.0   0.0   \n",
       "11934664  0.000000  45.500000  24.142857  30.400000  ...   0.0   0.0   0.0   \n",
       "8636938   0.000000  79.076923  64.928571  68.500000  ...   0.0   0.0   0.0   \n",
       "4407752   0.000000  85.428571  66.785714  67.833333  ...   0.0   0.0   0.0   \n",
       "5865990   0.000000  34.785714  23.142857  23.333333  ...   0.0   0.0   0.0   \n",
       "17494784  0.000000  79.142857  64.214286  65.833333  ...   0.0   0.0   0.0   \n",
       "2460723   0.000000  52.928571  31.928571  36.166667  ...   0.0   0.0   0.0   \n",
       "22173989  0.000000  78.357143  64.928571  67.833333  ...   0.0   0.0   0.0   \n",
       "8994606   0.000000  90.071429  67.714286  71.400000  ...   0.0   0.0   0.0   \n",
       "\n",
       "          WT16  WT18  WT19  WT22  cycleway  busy_road  other_roads  \n",
       "2081026    0.0   0.0   0.0   0.0       0.0        4.0          2.0  \n",
       "13892716   0.0   0.0   0.0   0.0       0.0        4.0          2.0  \n",
       "11934664   0.0   0.0   0.0   0.0       0.0        4.0          2.0  \n",
       "8636938    0.0   0.0   0.0   0.0       0.0        0.0          3.0  \n",
       "4407752    0.0   0.0   0.0   0.0       0.0        6.0          0.0  \n",
       "5865990    0.0   0.0   0.0   0.0       0.0        2.0          2.0  \n",
       "17494784   0.0   0.0   0.0   0.0       0.0        2.0          3.0  \n",
       "2460723    0.0   0.0   0.0   0.0       0.0        2.0          2.0  \n",
       "22173989   0.0   0.0   0.0   0.0       0.0        2.0          3.0  \n",
       "8994606    0.0   0.0   0.0   0.0       0.0        0.0          3.0  \n",
       "\n",
       "[10 rows x 30 columns]"
      ]
     },
     "execution_count": 42,
     "metadata": {},
     "output_type": "execute_result"
    }
   ],
   "source": [
    "X.iloc[:10, :]"
   ]
  },
  {
   "cell_type": "markdown",
   "metadata": {},
   "source": [
    "For starters, let's get a column of the lighting conditions. A more advanced algorithm would lookup the sunrise and sunset and DST and so on, but we will keep it simple for now. Before 6 AM and after 6 PM will be considered \"dark\""
   ]
  },
  {
   "cell_type": "code",
   "execution_count": 43,
   "metadata": {},
   "outputs": [],
   "source": [
    "event_time_hours = X[\"EVENT_TIME\"] / 3600"
   ]
  },
  {
   "cell_type": "code",
   "execution_count": 44,
   "metadata": {},
   "outputs": [
    {
     "data": {
      "text/plain": [
       "2081026      8.676578\n",
       "13892716    17.032152\n",
       "11934664    23.332777\n",
       "8636938     17.390811\n",
       "4407752     16.105589\n",
       "Name: EVENT_TIME, dtype: float64"
      ]
     },
     "execution_count": 44,
     "metadata": {},
     "output_type": "execute_result"
    }
   ],
   "source": [
    "event_time_hours.head()"
   ]
  },
  {
   "cell_type": "code",
   "execution_count": 45,
   "metadata": {},
   "outputs": [
    {
     "data": {
      "text/plain": [
       "array([ 8.67657833, 17.03215222, 23.33277667, ...,  8.81720222,\n",
       "       11.81268694, 16.5722175 ])"
      ]
     },
     "execution_count": 45,
     "metadata": {},
     "output_type": "execute_result"
    }
   ],
   "source": [
    "event_time_hours.values"
   ]
  },
  {
   "cell_type": "code",
   "execution_count": 46,
   "metadata": {},
   "outputs": [],
   "source": [
    "daylight = pd.Series(\n",
    "    [1 if _x > 6 and _x < 18 else 0 for _x in event_time_hours.values],\n",
    "    index=event_time_hours.index\n",
    ")"
   ]
  },
  {
   "cell_type": "code",
   "execution_count": 47,
   "metadata": {},
   "outputs": [
    {
     "data": {
      "text/plain": [
       "2081026     1\n",
       "13892716    1\n",
       "11934664    0\n",
       "8636938     1\n",
       "4407752     1\n",
       "dtype: int64"
      ]
     },
     "execution_count": 47,
     "metadata": {},
     "output_type": "execute_result"
    }
   ],
   "source": [
    "daylight.head()"
   ]
  },
  {
   "cell_type": "code",
   "execution_count": 48,
   "metadata": {},
   "outputs": [],
   "source": [
    "X[\"daylight\"] = daylight"
   ]
  },
  {
   "cell_type": "code",
   "execution_count": 49,
   "metadata": {},
   "outputs": [],
   "source": [
    "X.drop([\"EVENT_DATE\", \"EVENT_TIME\"], inplace=True, axis=1)"
   ]
  },
  {
   "cell_type": "markdown",
   "metadata": {},
   "source": [
    "Now, I'm going to ignore wind and add a boolean column for any precipitation"
   ]
  },
  {
   "cell_type": "code",
   "execution_count": 50,
   "metadata": {},
   "outputs": [],
   "source": [
    "X.drop([\"AWND\", \"PGTM\"], inplace=True, axis=1)"
   ]
  },
  {
   "cell_type": "code",
   "execution_count": 51,
   "metadata": {},
   "outputs": [],
   "source": [
    "prcp_bool = X[\"PRCP\"] > 0\n",
    "snow_bool = X[\"SNOW\"] > 0\n",
    "snwd_bool = X[\"SNWD\"] > 0"
   ]
  },
  {
   "cell_type": "code",
   "execution_count": 52,
   "metadata": {},
   "outputs": [],
   "source": [
    "prcp = (prcp_bool | snow_bool) | snwd_bool "
   ]
  },
  {
   "cell_type": "code",
   "execution_count": 53,
   "metadata": {},
   "outputs": [
    {
     "data": {
      "text/plain": [
       "0.8485726092828653"
      ]
     },
     "execution_count": 53,
     "metadata": {},
     "output_type": "execute_result"
    }
   ],
   "source": [
    "len(prcp[prcp]) / len(prcp)"
   ]
  },
  {
   "cell_type": "markdown",
   "metadata": {},
   "source": [
    "That's a lot of precipitation! Oh well..."
   ]
  },
  {
   "cell_type": "code",
   "execution_count": 54,
   "metadata": {},
   "outputs": [],
   "source": [
    "X[\"PRCP_ANY\"] = prcp.astype(int)"
   ]
  },
  {
   "cell_type": "code",
   "execution_count": 55,
   "metadata": {},
   "outputs": [],
   "source": [
    "X.drop([\"PRCP\", \"SNOW\", \"SNWD\"], inplace=True, axis=1)"
   ]
  },
  {
   "cell_type": "code",
   "execution_count": 56,
   "metadata": {},
   "outputs": [
    {
     "data": {
      "text/html": [
       "<div>\n",
       "<style scoped>\n",
       "    .dataframe tbody tr th:only-of-type {\n",
       "        vertical-align: middle;\n",
       "    }\n",
       "\n",
       "    .dataframe tbody tr th {\n",
       "        vertical-align: top;\n",
       "    }\n",
       "\n",
       "    .dataframe thead th {\n",
       "        text-align: right;\n",
       "    }\n",
       "</style>\n",
       "<table border=\"1\" class=\"dataframe\">\n",
       "  <thead>\n",
       "    <tr style=\"text-align: right;\">\n",
       "      <th></th>\n",
       "      <th>TMAX</th>\n",
       "      <th>TMIN</th>\n",
       "      <th>TOBS</th>\n",
       "      <th>WT01</th>\n",
       "      <th>WT02</th>\n",
       "      <th>WT03</th>\n",
       "      <th>WT04</th>\n",
       "      <th>WT05</th>\n",
       "      <th>WT06</th>\n",
       "      <th>WT08</th>\n",
       "      <th>...</th>\n",
       "      <th>WT15</th>\n",
       "      <th>WT16</th>\n",
       "      <th>WT18</th>\n",
       "      <th>WT19</th>\n",
       "      <th>WT22</th>\n",
       "      <th>cycleway</th>\n",
       "      <th>busy_road</th>\n",
       "      <th>other_roads</th>\n",
       "      <th>daylight</th>\n",
       "      <th>PRCP_ANY</th>\n",
       "    </tr>\n",
       "  </thead>\n",
       "  <tbody>\n",
       "    <tr>\n",
       "      <th>2081026</th>\n",
       "      <td>46.214286</td>\n",
       "      <td>31.857143</td>\n",
       "      <td>33.333333</td>\n",
       "      <td>0.0</td>\n",
       "      <td>0.0</td>\n",
       "      <td>0.0</td>\n",
       "      <td>0.0</td>\n",
       "      <td>0.0</td>\n",
       "      <td>0.0</td>\n",
       "      <td>0.0</td>\n",
       "      <td>...</td>\n",
       "      <td>0.0</td>\n",
       "      <td>0.0</td>\n",
       "      <td>0.0</td>\n",
       "      <td>0.0</td>\n",
       "      <td>0.0</td>\n",
       "      <td>0.0</td>\n",
       "      <td>4.0</td>\n",
       "      <td>2.0</td>\n",
       "      <td>1</td>\n",
       "      <td>1</td>\n",
       "    </tr>\n",
       "    <tr>\n",
       "      <th>13892716</th>\n",
       "      <td>84.214286</td>\n",
       "      <td>66.928571</td>\n",
       "      <td>70.000000</td>\n",
       "      <td>1.0</td>\n",
       "      <td>1.0</td>\n",
       "      <td>1.0</td>\n",
       "      <td>0.0</td>\n",
       "      <td>0.0</td>\n",
       "      <td>0.0</td>\n",
       "      <td>1.0</td>\n",
       "      <td>...</td>\n",
       "      <td>0.0</td>\n",
       "      <td>0.0</td>\n",
       "      <td>0.0</td>\n",
       "      <td>0.0</td>\n",
       "      <td>0.0</td>\n",
       "      <td>0.0</td>\n",
       "      <td>4.0</td>\n",
       "      <td>2.0</td>\n",
       "      <td>1</td>\n",
       "      <td>1</td>\n",
       "    </tr>\n",
       "    <tr>\n",
       "      <th>11934664</th>\n",
       "      <td>45.500000</td>\n",
       "      <td>24.142857</td>\n",
       "      <td>30.400000</td>\n",
       "      <td>0.0</td>\n",
       "      <td>0.0</td>\n",
       "      <td>0.0</td>\n",
       "      <td>0.0</td>\n",
       "      <td>0.0</td>\n",
       "      <td>0.0</td>\n",
       "      <td>0.0</td>\n",
       "      <td>...</td>\n",
       "      <td>0.0</td>\n",
       "      <td>0.0</td>\n",
       "      <td>0.0</td>\n",
       "      <td>0.0</td>\n",
       "      <td>0.0</td>\n",
       "      <td>0.0</td>\n",
       "      <td>4.0</td>\n",
       "      <td>2.0</td>\n",
       "      <td>0</td>\n",
       "      <td>1</td>\n",
       "    </tr>\n",
       "    <tr>\n",
       "      <th>8636938</th>\n",
       "      <td>79.076923</td>\n",
       "      <td>64.928571</td>\n",
       "      <td>68.500000</td>\n",
       "      <td>1.0</td>\n",
       "      <td>0.0</td>\n",
       "      <td>1.0</td>\n",
       "      <td>0.0</td>\n",
       "      <td>0.0</td>\n",
       "      <td>0.0</td>\n",
       "      <td>1.0</td>\n",
       "      <td>...</td>\n",
       "      <td>0.0</td>\n",
       "      <td>0.0</td>\n",
       "      <td>0.0</td>\n",
       "      <td>0.0</td>\n",
       "      <td>0.0</td>\n",
       "      <td>0.0</td>\n",
       "      <td>0.0</td>\n",
       "      <td>3.0</td>\n",
       "      <td>1</td>\n",
       "      <td>1</td>\n",
       "    </tr>\n",
       "    <tr>\n",
       "      <th>4407752</th>\n",
       "      <td>85.428571</td>\n",
       "      <td>66.785714</td>\n",
       "      <td>67.833333</td>\n",
       "      <td>1.0</td>\n",
       "      <td>0.0</td>\n",
       "      <td>1.0</td>\n",
       "      <td>0.0</td>\n",
       "      <td>0.0</td>\n",
       "      <td>0.0</td>\n",
       "      <td>0.0</td>\n",
       "      <td>...</td>\n",
       "      <td>0.0</td>\n",
       "      <td>0.0</td>\n",
       "      <td>0.0</td>\n",
       "      <td>0.0</td>\n",
       "      <td>0.0</td>\n",
       "      <td>0.0</td>\n",
       "      <td>6.0</td>\n",
       "      <td>0.0</td>\n",
       "      <td>1</td>\n",
       "      <td>1</td>\n",
       "    </tr>\n",
       "  </tbody>\n",
       "</table>\n",
       "<p>5 rows × 25 columns</p>\n",
       "</div>"
      ],
      "text/plain": [
       "               TMAX       TMIN       TOBS  WT01  WT02  WT03  WT04  WT05  WT06  \\\n",
       "2081026   46.214286  31.857143  33.333333   0.0   0.0   0.0   0.0   0.0   0.0   \n",
       "13892716  84.214286  66.928571  70.000000   1.0   1.0   1.0   0.0   0.0   0.0   \n",
       "11934664  45.500000  24.142857  30.400000   0.0   0.0   0.0   0.0   0.0   0.0   \n",
       "8636938   79.076923  64.928571  68.500000   1.0   0.0   1.0   0.0   0.0   0.0   \n",
       "4407752   85.428571  66.785714  67.833333   1.0   0.0   1.0   0.0   0.0   0.0   \n",
       "\n",
       "          WT08  ...  WT15  WT16  WT18  WT19  WT22  cycleway  busy_road  \\\n",
       "2081026    0.0  ...   0.0   0.0   0.0   0.0   0.0       0.0        4.0   \n",
       "13892716   1.0  ...   0.0   0.0   0.0   0.0   0.0       0.0        4.0   \n",
       "11934664   0.0  ...   0.0   0.0   0.0   0.0   0.0       0.0        4.0   \n",
       "8636938    1.0  ...   0.0   0.0   0.0   0.0   0.0       0.0        0.0   \n",
       "4407752    0.0  ...   0.0   0.0   0.0   0.0   0.0       0.0        6.0   \n",
       "\n",
       "          other_roads  daylight  PRCP_ANY  \n",
       "2081026           2.0         1         1  \n",
       "13892716          2.0         1         1  \n",
       "11934664          2.0         0         1  \n",
       "8636938           3.0         1         1  \n",
       "4407752           0.0         1         1  \n",
       "\n",
       "[5 rows x 25 columns]"
      ]
     },
     "execution_count": 56,
     "metadata": {},
     "output_type": "execute_result"
    }
   ],
   "source": [
    "X.head()"
   ]
  },
  {
   "cell_type": "markdown",
   "metadata": {},
   "source": [
    "And, finally, drop temperature. *shrugs*"
   ]
  },
  {
   "cell_type": "code",
   "execution_count": 57,
   "metadata": {},
   "outputs": [],
   "source": [
    "X.drop([\"TMAX\", \"TMIN\", \"TOBS\"], inplace=True, axis=1)"
   ]
  },
  {
   "cell_type": "code",
   "execution_count": 58,
   "metadata": {},
   "outputs": [
    {
     "data": {
      "text/html": [
       "<div>\n",
       "<style scoped>\n",
       "    .dataframe tbody tr th:only-of-type {\n",
       "        vertical-align: middle;\n",
       "    }\n",
       "\n",
       "    .dataframe tbody tr th {\n",
       "        vertical-align: top;\n",
       "    }\n",
       "\n",
       "    .dataframe thead th {\n",
       "        text-align: right;\n",
       "    }\n",
       "</style>\n",
       "<table border=\"1\" class=\"dataframe\">\n",
       "  <thead>\n",
       "    <tr style=\"text-align: right;\">\n",
       "      <th></th>\n",
       "      <th>WT01</th>\n",
       "      <th>WT02</th>\n",
       "      <th>WT03</th>\n",
       "      <th>WT04</th>\n",
       "      <th>WT05</th>\n",
       "      <th>WT06</th>\n",
       "      <th>WT08</th>\n",
       "      <th>WT09</th>\n",
       "      <th>WT10</th>\n",
       "      <th>WT11</th>\n",
       "      <th>...</th>\n",
       "      <th>WT15</th>\n",
       "      <th>WT16</th>\n",
       "      <th>WT18</th>\n",
       "      <th>WT19</th>\n",
       "      <th>WT22</th>\n",
       "      <th>cycleway</th>\n",
       "      <th>busy_road</th>\n",
       "      <th>other_roads</th>\n",
       "      <th>daylight</th>\n",
       "      <th>PRCP_ANY</th>\n",
       "    </tr>\n",
       "  </thead>\n",
       "  <tbody>\n",
       "    <tr>\n",
       "      <th>2081026</th>\n",
       "      <td>0.0</td>\n",
       "      <td>0.0</td>\n",
       "      <td>0.0</td>\n",
       "      <td>0.0</td>\n",
       "      <td>0.0</td>\n",
       "      <td>0.0</td>\n",
       "      <td>0.0</td>\n",
       "      <td>0.0</td>\n",
       "      <td>0.0</td>\n",
       "      <td>0.0</td>\n",
       "      <td>...</td>\n",
       "      <td>0.0</td>\n",
       "      <td>0.0</td>\n",
       "      <td>0.0</td>\n",
       "      <td>0.0</td>\n",
       "      <td>0.0</td>\n",
       "      <td>0.0</td>\n",
       "      <td>4.0</td>\n",
       "      <td>2.0</td>\n",
       "      <td>1</td>\n",
       "      <td>1</td>\n",
       "    </tr>\n",
       "    <tr>\n",
       "      <th>13892716</th>\n",
       "      <td>1.0</td>\n",
       "      <td>1.0</td>\n",
       "      <td>1.0</td>\n",
       "      <td>0.0</td>\n",
       "      <td>0.0</td>\n",
       "      <td>0.0</td>\n",
       "      <td>1.0</td>\n",
       "      <td>0.0</td>\n",
       "      <td>0.0</td>\n",
       "      <td>0.0</td>\n",
       "      <td>...</td>\n",
       "      <td>0.0</td>\n",
       "      <td>0.0</td>\n",
       "      <td>0.0</td>\n",
       "      <td>0.0</td>\n",
       "      <td>0.0</td>\n",
       "      <td>0.0</td>\n",
       "      <td>4.0</td>\n",
       "      <td>2.0</td>\n",
       "      <td>1</td>\n",
       "      <td>1</td>\n",
       "    </tr>\n",
       "    <tr>\n",
       "      <th>11934664</th>\n",
       "      <td>0.0</td>\n",
       "      <td>0.0</td>\n",
       "      <td>0.0</td>\n",
       "      <td>0.0</td>\n",
       "      <td>0.0</td>\n",
       "      <td>0.0</td>\n",
       "      <td>0.0</td>\n",
       "      <td>0.0</td>\n",
       "      <td>0.0</td>\n",
       "      <td>0.0</td>\n",
       "      <td>...</td>\n",
       "      <td>0.0</td>\n",
       "      <td>0.0</td>\n",
       "      <td>0.0</td>\n",
       "      <td>0.0</td>\n",
       "      <td>0.0</td>\n",
       "      <td>0.0</td>\n",
       "      <td>4.0</td>\n",
       "      <td>2.0</td>\n",
       "      <td>0</td>\n",
       "      <td>1</td>\n",
       "    </tr>\n",
       "    <tr>\n",
       "      <th>8636938</th>\n",
       "      <td>1.0</td>\n",
       "      <td>0.0</td>\n",
       "      <td>1.0</td>\n",
       "      <td>0.0</td>\n",
       "      <td>0.0</td>\n",
       "      <td>0.0</td>\n",
       "      <td>1.0</td>\n",
       "      <td>0.0</td>\n",
       "      <td>0.0</td>\n",
       "      <td>0.0</td>\n",
       "      <td>...</td>\n",
       "      <td>0.0</td>\n",
       "      <td>0.0</td>\n",
       "      <td>0.0</td>\n",
       "      <td>0.0</td>\n",
       "      <td>0.0</td>\n",
       "      <td>0.0</td>\n",
       "      <td>0.0</td>\n",
       "      <td>3.0</td>\n",
       "      <td>1</td>\n",
       "      <td>1</td>\n",
       "    </tr>\n",
       "    <tr>\n",
       "      <th>4407752</th>\n",
       "      <td>1.0</td>\n",
       "      <td>0.0</td>\n",
       "      <td>1.0</td>\n",
       "      <td>0.0</td>\n",
       "      <td>0.0</td>\n",
       "      <td>0.0</td>\n",
       "      <td>0.0</td>\n",
       "      <td>0.0</td>\n",
       "      <td>0.0</td>\n",
       "      <td>0.0</td>\n",
       "      <td>...</td>\n",
       "      <td>0.0</td>\n",
       "      <td>0.0</td>\n",
       "      <td>0.0</td>\n",
       "      <td>0.0</td>\n",
       "      <td>0.0</td>\n",
       "      <td>0.0</td>\n",
       "      <td>6.0</td>\n",
       "      <td>0.0</td>\n",
       "      <td>1</td>\n",
       "      <td>1</td>\n",
       "    </tr>\n",
       "  </tbody>\n",
       "</table>\n",
       "<p>5 rows × 22 columns</p>\n",
       "</div>"
      ],
      "text/plain": [
       "          WT01  WT02  WT03  WT04  WT05  WT06  WT08  WT09  WT10  WT11  ...  \\\n",
       "2081026    0.0   0.0   0.0   0.0   0.0   0.0   0.0   0.0   0.0   0.0  ...   \n",
       "13892716   1.0   1.0   1.0   0.0   0.0   0.0   1.0   0.0   0.0   0.0  ...   \n",
       "11934664   0.0   0.0   0.0   0.0   0.0   0.0   0.0   0.0   0.0   0.0  ...   \n",
       "8636938    1.0   0.0   1.0   0.0   0.0   0.0   1.0   0.0   0.0   0.0  ...   \n",
       "4407752    1.0   0.0   1.0   0.0   0.0   0.0   0.0   0.0   0.0   0.0  ...   \n",
       "\n",
       "          WT15  WT16  WT18  WT19  WT22  cycleway  busy_road  other_roads  \\\n",
       "2081026    0.0   0.0   0.0   0.0   0.0       0.0        4.0          2.0   \n",
       "13892716   0.0   0.0   0.0   0.0   0.0       0.0        4.0          2.0   \n",
       "11934664   0.0   0.0   0.0   0.0   0.0       0.0        4.0          2.0   \n",
       "8636938    0.0   0.0   0.0   0.0   0.0       0.0        0.0          3.0   \n",
       "4407752    0.0   0.0   0.0   0.0   0.0       0.0        6.0          0.0   \n",
       "\n",
       "          daylight  PRCP_ANY  \n",
       "2081026          1         1  \n",
       "13892716         1         1  \n",
       "11934664         0         1  \n",
       "8636938          1         1  \n",
       "4407752          1         1  \n",
       "\n",
       "[5 rows x 22 columns]"
      ]
     },
     "execution_count": 58,
     "metadata": {},
     "output_type": "execute_result"
    }
   ],
   "source": [
    "X.head()"
   ]
  },
  {
   "cell_type": "markdown",
   "metadata": {},
   "source": [
    "And now do all this for the eval data"
   ]
  },
  {
   "cell_type": "code",
   "execution_count": 59,
   "metadata": {},
   "outputs": [],
   "source": [
    "event_time_hours = X_eval[\"EVENT_TIME\"] / 3600\n",
    "\n",
    "daylight = pd.Series(\n",
    "    [1 if _x > 6 and _x < 18 else 0 for _x in event_time_hours.values],\n",
    "    index=event_time_hours.index\n",
    ")\n",
    "\n",
    "X_eval[\"daylight\"] = daylight\n",
    "\n",
    "X_eval.drop([\"EVENT_DATE\", \"EVENT_TIME\"], inplace=True, axis=1)\n",
    "\n",
    "X_eval.drop([\"AWND\", \"PGTM\"], inplace=True, axis=1)\n",
    "\n",
    "prcp_bool = X_eval[\"PRCP\"] > 0\n",
    "snow_bool = X_eval[\"SNOW\"] > 0\n",
    "snwd_bool = X_eval[\"SNWD\"] > 0\n",
    "prcp = (prcp_bool | snow_bool) | snwd_bool \n",
    "\n",
    "X_eval[\"PRCP_ANY\"] = prcp.astype(int)\n",
    "X_eval.drop([\"PRCP\", \"SNOW\", \"SNWD\"], inplace=True, axis=1)\n",
    "X_eval.drop([\"TMAX\", \"TMIN\", \"TOBS\"], inplace=True, axis=1)"
   ]
  },
  {
   "cell_type": "code",
   "execution_count": 60,
   "metadata": {},
   "outputs": [
    {
     "data": {
      "text/html": [
       "<div>\n",
       "<style scoped>\n",
       "    .dataframe tbody tr th:only-of-type {\n",
       "        vertical-align: middle;\n",
       "    }\n",
       "\n",
       "    .dataframe tbody tr th {\n",
       "        vertical-align: top;\n",
       "    }\n",
       "\n",
       "    .dataframe thead th {\n",
       "        text-align: right;\n",
       "    }\n",
       "</style>\n",
       "<table border=\"1\" class=\"dataframe\">\n",
       "  <thead>\n",
       "    <tr style=\"text-align: right;\">\n",
       "      <th></th>\n",
       "      <th>WT01</th>\n",
       "      <th>WT02</th>\n",
       "      <th>WT03</th>\n",
       "      <th>WT04</th>\n",
       "      <th>WT05</th>\n",
       "      <th>WT06</th>\n",
       "      <th>WT08</th>\n",
       "      <th>WT09</th>\n",
       "      <th>WT10</th>\n",
       "      <th>WT11</th>\n",
       "      <th>...</th>\n",
       "      <th>WT15</th>\n",
       "      <th>WT16</th>\n",
       "      <th>WT18</th>\n",
       "      <th>WT19</th>\n",
       "      <th>WT22</th>\n",
       "      <th>cycleway</th>\n",
       "      <th>busy_road</th>\n",
       "      <th>other_roads</th>\n",
       "      <th>daylight</th>\n",
       "      <th>PRCP_ANY</th>\n",
       "    </tr>\n",
       "  </thead>\n",
       "  <tbody>\n",
       "    <tr>\n",
       "      <th>16203066</th>\n",
       "      <td>0.0</td>\n",
       "      <td>0.0</td>\n",
       "      <td>0.0</td>\n",
       "      <td>0.0</td>\n",
       "      <td>0.0</td>\n",
       "      <td>0.0</td>\n",
       "      <td>1.0</td>\n",
       "      <td>0.0</td>\n",
       "      <td>0.0</td>\n",
       "      <td>0.0</td>\n",
       "      <td>...</td>\n",
       "      <td>0.0</td>\n",
       "      <td>0.0</td>\n",
       "      <td>0.0</td>\n",
       "      <td>0.0</td>\n",
       "      <td>0.0</td>\n",
       "      <td>2.0</td>\n",
       "      <td>0.0</td>\n",
       "      <td>2.0</td>\n",
       "      <td>0</td>\n",
       "      <td>1</td>\n",
       "    </tr>\n",
       "    <tr>\n",
       "      <th>2889199</th>\n",
       "      <td>1.0</td>\n",
       "      <td>0.0</td>\n",
       "      <td>0.0</td>\n",
       "      <td>0.0</td>\n",
       "      <td>0.0</td>\n",
       "      <td>0.0</td>\n",
       "      <td>0.0</td>\n",
       "      <td>0.0</td>\n",
       "      <td>0.0</td>\n",
       "      <td>0.0</td>\n",
       "      <td>...</td>\n",
       "      <td>0.0</td>\n",
       "      <td>0.0</td>\n",
       "      <td>0.0</td>\n",
       "      <td>0.0</td>\n",
       "      <td>0.0</td>\n",
       "      <td>0.0</td>\n",
       "      <td>2.0</td>\n",
       "      <td>2.0</td>\n",
       "      <td>0</td>\n",
       "      <td>1</td>\n",
       "    </tr>\n",
       "    <tr>\n",
       "      <th>14506408</th>\n",
       "      <td>0.0</td>\n",
       "      <td>0.0</td>\n",
       "      <td>0.0</td>\n",
       "      <td>0.0</td>\n",
       "      <td>0.0</td>\n",
       "      <td>0.0</td>\n",
       "      <td>0.0</td>\n",
       "      <td>0.0</td>\n",
       "      <td>0.0</td>\n",
       "      <td>0.0</td>\n",
       "      <td>...</td>\n",
       "      <td>0.0</td>\n",
       "      <td>0.0</td>\n",
       "      <td>0.0</td>\n",
       "      <td>0.0</td>\n",
       "      <td>0.0</td>\n",
       "      <td>4.0</td>\n",
       "      <td>0.0</td>\n",
       "      <td>4.0</td>\n",
       "      <td>1</td>\n",
       "      <td>1</td>\n",
       "    </tr>\n",
       "    <tr>\n",
       "      <th>7571704</th>\n",
       "      <td>1.0</td>\n",
       "      <td>0.0</td>\n",
       "      <td>1.0</td>\n",
       "      <td>0.0</td>\n",
       "      <td>0.0</td>\n",
       "      <td>0.0</td>\n",
       "      <td>0.0</td>\n",
       "      <td>0.0</td>\n",
       "      <td>0.0</td>\n",
       "      <td>0.0</td>\n",
       "      <td>...</td>\n",
       "      <td>0.0</td>\n",
       "      <td>0.0</td>\n",
       "      <td>0.0</td>\n",
       "      <td>0.0</td>\n",
       "      <td>0.0</td>\n",
       "      <td>0.0</td>\n",
       "      <td>4.0</td>\n",
       "      <td>1.0</td>\n",
       "      <td>0</td>\n",
       "      <td>1</td>\n",
       "    </tr>\n",
       "    <tr>\n",
       "      <th>15190919</th>\n",
       "      <td>0.0</td>\n",
       "      <td>0.0</td>\n",
       "      <td>0.0</td>\n",
       "      <td>0.0</td>\n",
       "      <td>0.0</td>\n",
       "      <td>0.0</td>\n",
       "      <td>0.0</td>\n",
       "      <td>0.0</td>\n",
       "      <td>0.0</td>\n",
       "      <td>0.0</td>\n",
       "      <td>...</td>\n",
       "      <td>0.0</td>\n",
       "      <td>0.0</td>\n",
       "      <td>0.0</td>\n",
       "      <td>0.0</td>\n",
       "      <td>0.0</td>\n",
       "      <td>0.0</td>\n",
       "      <td>2.0</td>\n",
       "      <td>2.0</td>\n",
       "      <td>1</td>\n",
       "      <td>1</td>\n",
       "    </tr>\n",
       "    <tr>\n",
       "      <th>1452143</th>\n",
       "      <td>1.0</td>\n",
       "      <td>0.0</td>\n",
       "      <td>0.0</td>\n",
       "      <td>0.0</td>\n",
       "      <td>0.0</td>\n",
       "      <td>0.0</td>\n",
       "      <td>1.0</td>\n",
       "      <td>0.0</td>\n",
       "      <td>0.0</td>\n",
       "      <td>0.0</td>\n",
       "      <td>...</td>\n",
       "      <td>0.0</td>\n",
       "      <td>0.0</td>\n",
       "      <td>0.0</td>\n",
       "      <td>0.0</td>\n",
       "      <td>0.0</td>\n",
       "      <td>0.0</td>\n",
       "      <td>4.0</td>\n",
       "      <td>0.0</td>\n",
       "      <td>1</td>\n",
       "      <td>1</td>\n",
       "    </tr>\n",
       "    <tr>\n",
       "      <th>21361037</th>\n",
       "      <td>1.0</td>\n",
       "      <td>0.0</td>\n",
       "      <td>0.0</td>\n",
       "      <td>0.0</td>\n",
       "      <td>0.0</td>\n",
       "      <td>0.0</td>\n",
       "      <td>1.0</td>\n",
       "      <td>0.0</td>\n",
       "      <td>0.0</td>\n",
       "      <td>0.0</td>\n",
       "      <td>...</td>\n",
       "      <td>0.0</td>\n",
       "      <td>0.0</td>\n",
       "      <td>0.0</td>\n",
       "      <td>0.0</td>\n",
       "      <td>0.0</td>\n",
       "      <td>1.0</td>\n",
       "      <td>2.0</td>\n",
       "      <td>1.0</td>\n",
       "      <td>1</td>\n",
       "      <td>1</td>\n",
       "    </tr>\n",
       "    <tr>\n",
       "      <th>17813439</th>\n",
       "      <td>0.0</td>\n",
       "      <td>0.0</td>\n",
       "      <td>1.0</td>\n",
       "      <td>0.0</td>\n",
       "      <td>0.0</td>\n",
       "      <td>0.0</td>\n",
       "      <td>0.0</td>\n",
       "      <td>0.0</td>\n",
       "      <td>0.0</td>\n",
       "      <td>0.0</td>\n",
       "      <td>...</td>\n",
       "      <td>0.0</td>\n",
       "      <td>0.0</td>\n",
       "      <td>0.0</td>\n",
       "      <td>0.0</td>\n",
       "      <td>0.0</td>\n",
       "      <td>0.0</td>\n",
       "      <td>0.0</td>\n",
       "      <td>4.0</td>\n",
       "      <td>0</td>\n",
       "      <td>1</td>\n",
       "    </tr>\n",
       "    <tr>\n",
       "      <th>367189</th>\n",
       "      <td>1.0</td>\n",
       "      <td>0.0</td>\n",
       "      <td>0.0</td>\n",
       "      <td>0.0</td>\n",
       "      <td>0.0</td>\n",
       "      <td>0.0</td>\n",
       "      <td>0.0</td>\n",
       "      <td>0.0</td>\n",
       "      <td>0.0</td>\n",
       "      <td>0.0</td>\n",
       "      <td>...</td>\n",
       "      <td>0.0</td>\n",
       "      <td>0.0</td>\n",
       "      <td>0.0</td>\n",
       "      <td>0.0</td>\n",
       "      <td>0.0</td>\n",
       "      <td>0.0</td>\n",
       "      <td>2.0</td>\n",
       "      <td>2.0</td>\n",
       "      <td>0</td>\n",
       "      <td>1</td>\n",
       "    </tr>\n",
       "    <tr>\n",
       "      <th>5462385</th>\n",
       "      <td>0.0</td>\n",
       "      <td>0.0</td>\n",
       "      <td>0.0</td>\n",
       "      <td>0.0</td>\n",
       "      <td>0.0</td>\n",
       "      <td>0.0</td>\n",
       "      <td>0.0</td>\n",
       "      <td>0.0</td>\n",
       "      <td>0.0</td>\n",
       "      <td>0.0</td>\n",
       "      <td>...</td>\n",
       "      <td>0.0</td>\n",
       "      <td>0.0</td>\n",
       "      <td>0.0</td>\n",
       "      <td>0.0</td>\n",
       "      <td>0.0</td>\n",
       "      <td>0.0</td>\n",
       "      <td>0.0</td>\n",
       "      <td>5.0</td>\n",
       "      <td>1</td>\n",
       "      <td>1</td>\n",
       "    </tr>\n",
       "  </tbody>\n",
       "</table>\n",
       "<p>10 rows × 22 columns</p>\n",
       "</div>"
      ],
      "text/plain": [
       "          WT01  WT02  WT03  WT04  WT05  WT06  WT08  WT09  WT10  WT11  ...  \\\n",
       "16203066   0.0   0.0   0.0   0.0   0.0   0.0   1.0   0.0   0.0   0.0  ...   \n",
       "2889199    1.0   0.0   0.0   0.0   0.0   0.0   0.0   0.0   0.0   0.0  ...   \n",
       "14506408   0.0   0.0   0.0   0.0   0.0   0.0   0.0   0.0   0.0   0.0  ...   \n",
       "7571704    1.0   0.0   1.0   0.0   0.0   0.0   0.0   0.0   0.0   0.0  ...   \n",
       "15190919   0.0   0.0   0.0   0.0   0.0   0.0   0.0   0.0   0.0   0.0  ...   \n",
       "1452143    1.0   0.0   0.0   0.0   0.0   0.0   1.0   0.0   0.0   0.0  ...   \n",
       "21361037   1.0   0.0   0.0   0.0   0.0   0.0   1.0   0.0   0.0   0.0  ...   \n",
       "17813439   0.0   0.0   1.0   0.0   0.0   0.0   0.0   0.0   0.0   0.0  ...   \n",
       "367189     1.0   0.0   0.0   0.0   0.0   0.0   0.0   0.0   0.0   0.0  ...   \n",
       "5462385    0.0   0.0   0.0   0.0   0.0   0.0   0.0   0.0   0.0   0.0  ...   \n",
       "\n",
       "          WT15  WT16  WT18  WT19  WT22  cycleway  busy_road  other_roads  \\\n",
       "16203066   0.0   0.0   0.0   0.0   0.0       2.0        0.0          2.0   \n",
       "2889199    0.0   0.0   0.0   0.0   0.0       0.0        2.0          2.0   \n",
       "14506408   0.0   0.0   0.0   0.0   0.0       4.0        0.0          4.0   \n",
       "7571704    0.0   0.0   0.0   0.0   0.0       0.0        4.0          1.0   \n",
       "15190919   0.0   0.0   0.0   0.0   0.0       0.0        2.0          2.0   \n",
       "1452143    0.0   0.0   0.0   0.0   0.0       0.0        4.0          0.0   \n",
       "21361037   0.0   0.0   0.0   0.0   0.0       1.0        2.0          1.0   \n",
       "17813439   0.0   0.0   0.0   0.0   0.0       0.0        0.0          4.0   \n",
       "367189     0.0   0.0   0.0   0.0   0.0       0.0        2.0          2.0   \n",
       "5462385    0.0   0.0   0.0   0.0   0.0       0.0        0.0          5.0   \n",
       "\n",
       "          daylight  PRCP_ANY  \n",
       "16203066         0         1  \n",
       "2889199          0         1  \n",
       "14506408         1         1  \n",
       "7571704          0         1  \n",
       "15190919         1         1  \n",
       "1452143          1         1  \n",
       "21361037         1         1  \n",
       "17813439         0         1  \n",
       "367189           0         1  \n",
       "5462385          1         1  \n",
       "\n",
       "[10 rows x 22 columns]"
      ]
     },
     "execution_count": 60,
     "metadata": {},
     "output_type": "execute_result"
    }
   ],
   "source": [
    "X_eval[:10]"
   ]
  },
  {
   "cell_type": "markdown",
   "metadata": {},
   "source": [
    "I think we can also combine a lot of these \"WTxx\", but let's test and come back to that idea"
   ]
  },
  {
   "cell_type": "code",
   "execution_count": 61,
   "metadata": {},
   "outputs": [
    {
     "data": {
      "text/plain": [
       "MultinomialNB()"
      ]
     },
     "execution_count": 61,
     "metadata": {},
     "output_type": "execute_result"
    }
   ],
   "source": [
    "clf = MultinomialNB()\n",
    "clf.fit(X, y)"
   ]
  },
  {
   "cell_type": "code",
   "execution_count": 62,
   "metadata": {},
   "outputs": [],
   "source": [
    "y_pred_proba = clf.predict_proba(X_eval)"
   ]
  },
  {
   "cell_type": "code",
   "execution_count": 63,
   "metadata": {},
   "outputs": [],
   "source": [
    "y_pred = clf.predict(X_eval)"
   ]
  },
  {
   "cell_type": "code",
   "execution_count": 64,
   "metadata": {},
   "outputs": [
    {
     "name": "stdout",
     "output_type": "stream",
     "text": [
      "0.6238286225757796\n"
     ]
    }
   ],
   "source": [
    "print(roc_auc_score(y, clf.predict_proba(X)[:, 1]))"
   ]
  },
  {
   "cell_type": "code",
   "execution_count": 65,
   "metadata": {},
   "outputs": [
    {
     "name": "stdout",
     "output_type": "stream",
     "text": [
      "0.6235615851093175\n"
     ]
    }
   ],
   "source": [
    "print(roc_auc_score(y_eval, y_pred_proba[:, 1]))"
   ]
  },
  {
   "cell_type": "code",
   "execution_count": 66,
   "metadata": {},
   "outputs": [
    {
     "data": {
      "text/plain": [
       "array([[4558288,       0],\n",
       "       [    707,       0]])"
      ]
     },
     "execution_count": 66,
     "metadata": {},
     "output_type": "execute_result"
    }
   ],
   "source": [
    "# [\n",
    "#     [tn, fp,],\n",
    "#     [fn, tp]\n",
    "# ]\n",
    "confusion_matrix(y_eval, y_pred)"
   ]
  },
  {
   "cell_type": "code",
   "execution_count": 67,
   "metadata": {},
   "outputs": [],
   "source": [
    "fpr, tpr, thresholds = roc_curve(y_eval, y_pred_proba[:, 1])"
   ]
  },
  {
   "cell_type": "code",
   "execution_count": 68,
   "metadata": {},
   "outputs": [
    {
     "data": {
      "image/png": "[encoded data removed]",
      "text/plain": [
       "<Figure size 432x288 with 1 Axes>"
      ]
     },
     "metadata": {
      "needs_background": "light"
     },
     "output_type": "display_data"
    }
   ],
   "source": [
    "plt.figure()\n",
    "plt.plot(fpr, tpr)\n",
    "plt.plot([0, 1], [0, 1], color=\"navy\", linestyle=\"--\")\n",
    "plt.xlabel(\"False Positive Rate\")\n",
    "plt.ylabel(\"True Positive Rate\")\n",
    "plt.xlim([0.0, 1.0])\n",
    "plt.ylim([0.0, 1.05])\n",
    "plt.title(\"ROC Curve for Gaussian Naive Bayes\\neval data\")\n",
    "plt.show()"
   ]
  },
  {
   "cell_type": "markdown",
   "metadata": {},
   "source": [
    "### Analysis\n",
    "Ok, that was not better by any stretch. Maybe getting rid of the WTxx columns will help? Or recasting this to be Bernoulli as opposed to multinomial?\n",
    "\n",
    "Let's start with just ignoring all WTxx columns [*shrugs*]"
   ]
  },
  {
   "cell_type": "code",
   "execution_count": 69,
   "metadata": {},
   "outputs": [],
   "source": [
    "X = X[[\"cycleway\", \"busy_road\", \"other_roads\", \"daylight\", \"PRCP_ANY\"]]\n",
    "X_eval = X_eval[[\"cycleway\", \"busy_road\", \"other_roads\", \"daylight\", \"PRCP_ANY\"]]"
   ]
  },
  {
   "cell_type": "code",
   "execution_count": 70,
   "metadata": {},
   "outputs": [
    {
     "data": {
      "text/plain": [
       "MultinomialNB()"
      ]
     },
     "execution_count": 70,
     "metadata": {},
     "output_type": "execute_result"
    }
   ],
   "source": [
    "clf = MultinomialNB()\n",
    "clf.fit(X, y)"
   ]
  },
  {
   "cell_type": "code",
   "execution_count": 71,
   "metadata": {},
   "outputs": [],
   "source": [
    "y_pred_proba = clf.predict_proba(X_eval)"
   ]
  },
  {
   "cell_type": "code",
   "execution_count": 72,
   "metadata": {},
   "outputs": [],
   "source": [
    "y_pred = clf.predict(X_eval)"
   ]
  },
  {
   "cell_type": "code",
   "execution_count": 73,
   "metadata": {},
   "outputs": [
    {
     "name": "stdout",
     "output_type": "stream",
     "text": [
      "0.6191401381876991\n"
     ]
    }
   ],
   "source": [
    "print(roc_auc_score(y, clf.predict_proba(X)[:, 1]))"
   ]
  },
  {
   "cell_type": "code",
   "execution_count": 74,
   "metadata": {},
   "outputs": [
    {
     "name": "stdout",
     "output_type": "stream",
     "text": [
      "0.615812473965076\n"
     ]
    }
   ],
   "source": [
    "print(roc_auc_score(y_eval, y_pred_proba[:, 1]))"
   ]
  },
  {
   "cell_type": "code",
   "execution_count": 75,
   "metadata": {},
   "outputs": [
    {
     "data": {
      "text/plain": [
       "array([[4558288,       0],\n",
       "       [    707,       0]])"
      ]
     },
     "execution_count": 75,
     "metadata": {},
     "output_type": "execute_result"
    }
   ],
   "source": [
    "# [\n",
    "#     [tn, fp,],\n",
    "#     [fn, tp]\n",
    "# ]\n",
    "confusion_matrix(y_eval, y_pred)"
   ]
  },
  {
   "cell_type": "code",
   "execution_count": 76,
   "metadata": {},
   "outputs": [],
   "source": [
    "fpr, tpr, thresholds = roc_curve(y_eval, y_pred_proba[:, 1])"
   ]
  },
  {
   "cell_type": "code",
   "execution_count": 77,
   "metadata": {},
   "outputs": [
    {
     "data": {
      "image/png": "[encoded data removed]",
      "text/plain": [
       "<Figure size 432x288 with 1 Axes>"
      ]
     },
     "metadata": {
      "needs_background": "light"
     },
     "output_type": "display_data"
    }
   ],
   "source": [
    "plt.figure()\n",
    "plt.plot(fpr, tpr)\n",
    "plt.plot([0, 1], [0, 1], color=\"navy\", linestyle=\"--\")\n",
    "plt.xlabel(\"False Positive Rate\")\n",
    "plt.ylabel(\"True Positive Rate\")\n",
    "plt.xlim([0.0, 1.0])\n",
    "plt.ylim([0.0, 1.05])\n",
    "plt.title(\"ROC Curve for Gaussian Naive Bayes\\neval data\")\n",
    "plt.show()"
   ]
  },
  {
   "cell_type": "markdown",
   "metadata": {},
   "source": [
    "### Analysis\n",
    "So far... I appear to be making things worse. Yay..."
   ]
  },
  {
   "cell_type": "code",
   "execution_count": null,
   "metadata": {},
   "outputs": [],
   "source": []
  }
 ],
 "metadata": {
  "interpreter": {
   "hash": "963fe436e8d49c8b0f4a30cd4ef2330e7480fd72f7a9e952c871bc4e5ca196d3"
  },
  "kernelspec": {
   "display_name": "Python 3 (ipykernel)",
   "language": "python",
   "name": "python3"
  },
  "language_info": {
   "codemirror_mode": {
    "name": "ipython",
    "version": 3
   },
   "file_extension": ".py",
   "mimetype": "text/x-python",
   "name": "python",
   "nbconvert_exporter": "python",
   "pygments_lexer": "ipython3",
   "version": "3.8.12"
  }
 },
 "nbformat": 4,
 "nbformat_minor": 2
}
