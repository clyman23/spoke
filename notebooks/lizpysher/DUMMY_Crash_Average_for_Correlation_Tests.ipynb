{
 "cells": [
  {
   "cell_type": "code",
   "execution_count": 1,
   "id": "dc86f3aa-847f-43a6-b975-00a434b3d4f1",
   "metadata": {},
   "outputs": [],
   "source": [
    "# group by node id (since rows are currently node events) .mean of is_crash to have dummy danger metric\n",
    "# associate the node ids with user traslation table to have node ID with tract ID then associate with demographic data\n",
    "# linear regression: ex: percentage black with crash ratio"
   ]
  },
  {
   "cell_type": "code",
   "execution_count": 2,
   "id": "06961940-c86b-4cd2-81e7-169d36e75071",
   "metadata": {},
   "outputs": [],
   "source": [
    "import pandas as pd"
   ]
  },
  {
   "cell_type": "code",
   "execution_count": 3,
   "id": "7734ad7c-439b-4650-9a17-beee2f33df61",
   "metadata": {},
   "outputs": [],
   "source": [
    "# load node events\n",
    "node_events_df = pd.read_csv(\"../../data/unified_dataset.csv\", usecols=['NODE_ID', 'IS_CRASH'])"
   ]
  },
  {
   "cell_type": "code",
   "execution_count": 22,
   "id": "8ec6aeec-4808-4180-adbb-c62fa5a3d86b",
   "metadata": {},
   "outputs": [
    {
     "data": {
      "text/plain": [
       "(22594153, 2)"
      ]
     },
     "execution_count": 22,
     "metadata": {},
     "output_type": "execute_result"
    }
   ],
   "source": [
    "# check shape\n",
    "node_events_df.shape"
   ]
  },
  {
   "cell_type": "code",
   "execution_count": 23,
   "id": "6eee2b20-dae1-4ba7-bbfa-bd37c7eb1307",
   "metadata": {},
   "outputs": [
    {
     "data": {
      "text/html": [
       "<div>\n",
       "<style scoped>\n",
       "    .dataframe tbody tr th:only-of-type {\n",
       "        vertical-align: middle;\n",
       "    }\n",
       "\n",
       "    .dataframe tbody tr th {\n",
       "        vertical-align: top;\n",
       "    }\n",
       "\n",
       "    .dataframe thead th {\n",
       "        text-align: right;\n",
       "    }\n",
       "</style>\n",
       "<table border=\"1\" class=\"dataframe\">\n",
       "  <thead>\n",
       "    <tr style=\"text-align: right;\">\n",
       "      <th></th>\n",
       "      <th>NODE_ID</th>\n",
       "      <th>IS_CRASH</th>\n",
       "    </tr>\n",
       "  </thead>\n",
       "  <tbody>\n",
       "    <tr>\n",
       "      <th>0</th>\n",
       "      <td>42430108</td>\n",
       "      <td>False</td>\n",
       "    </tr>\n",
       "    <tr>\n",
       "      <th>1</th>\n",
       "      <td>42424864</td>\n",
       "      <td>False</td>\n",
       "    </tr>\n",
       "    <tr>\n",
       "      <th>2</th>\n",
       "      <td>42423456</td>\n",
       "      <td>False</td>\n",
       "    </tr>\n",
       "    <tr>\n",
       "      <th>3</th>\n",
       "      <td>4602414021</td>\n",
       "      <td>False</td>\n",
       "    </tr>\n",
       "    <tr>\n",
       "      <th>4</th>\n",
       "      <td>42452015</td>\n",
       "      <td>False</td>\n",
       "    </tr>\n",
       "  </tbody>\n",
       "</table>\n",
       "</div>"
      ],
      "text/plain": [
       "      NODE_ID  IS_CRASH\n",
       "0    42430108     False\n",
       "1    42424864     False\n",
       "2    42423456     False\n",
       "3  4602414021     False\n",
       "4    42452015     False"
      ]
     },
     "execution_count": 23,
     "metadata": {},
     "output_type": "execute_result"
    }
   ],
   "source": [
    "# examine head\n",
    "node_events_df.head()"
   ]
  },
  {
   "cell_type": "code",
   "execution_count": 24,
   "id": "e467523b-0db6-499f-93c1-4d67a70d43f4",
   "metadata": {},
   "outputs": [
    {
     "data": {
      "text/plain": [
       "Index(['NODE_ID', 'IS_CRASH'], dtype='object')"
      ]
     },
     "execution_count": 24,
     "metadata": {},
     "output_type": "execute_result"
    }
   ],
   "source": [
    "# check columns\n",
    "node_events_df.columns"
   ]
  },
  {
   "cell_type": "code",
   "execution_count": 25,
   "id": "50b1a6c3-9b80-4745-bccc-19cf0e3d8205",
   "metadata": {},
   "outputs": [
    {
     "data": {
      "text/html": [
       "<div>\n",
       "<style scoped>\n",
       "    .dataframe tbody tr th:only-of-type {\n",
       "        vertical-align: middle;\n",
       "    }\n",
       "\n",
       "    .dataframe tbody tr th {\n",
       "        vertical-align: top;\n",
       "    }\n",
       "\n",
       "    .dataframe thead th {\n",
       "        text-align: right;\n",
       "    }\n",
       "</style>\n",
       "<table border=\"1\" class=\"dataframe\">\n",
       "  <thead>\n",
       "    <tr style=\"text-align: right;\">\n",
       "      <th></th>\n",
       "      <th>NODE_ID</th>\n",
       "      <th>IS_CRASH</th>\n",
       "    </tr>\n",
       "  </thead>\n",
       "  <tbody>\n",
       "    <tr>\n",
       "      <th>0</th>\n",
       "      <td>42430108</td>\n",
       "      <td>False</td>\n",
       "    </tr>\n",
       "    <tr>\n",
       "      <th>1</th>\n",
       "      <td>42424864</td>\n",
       "      <td>False</td>\n",
       "    </tr>\n",
       "    <tr>\n",
       "      <th>2</th>\n",
       "      <td>42423456</td>\n",
       "      <td>False</td>\n",
       "    </tr>\n",
       "    <tr>\n",
       "      <th>3</th>\n",
       "      <td>4602414021</td>\n",
       "      <td>False</td>\n",
       "    </tr>\n",
       "    <tr>\n",
       "      <th>4</th>\n",
       "      <td>42452015</td>\n",
       "      <td>False</td>\n",
       "    </tr>\n",
       "  </tbody>\n",
       "</table>\n",
       "</div>"
      ],
      "text/plain": [
       "      NODE_ID  IS_CRASH\n",
       "0    42430108     False\n",
       "1    42424864     False\n",
       "2    42423456     False\n",
       "3  4602414021     False\n",
       "4    42452015     False"
      ]
     },
     "execution_count": 25,
     "metadata": {},
     "output_type": "execute_result"
    }
   ],
   "source": [
    "# create df with node ID and IS_CRASH\n",
    "node_ids_crash_avg = node_events_df\n",
    "node_ids_crash_avg.head()"
   ]
  },
  {
   "cell_type": "raw",
   "id": "dca331f0-d8f9-466f-b668-c97e7de173f3",
   "metadata": {},
   "source": [
    "# group by node ID and take average of IS_CRASH to have toy danger metric\n",
    "node_id_crash_df = node_ids_crash_avg.groupby(by='NODE_ID').agg('mean')"
   ]
  },
  {
   "cell_type": "code",
   "execution_count": 27,
   "id": "59b5e0dc-f039-4d5d-a120-f4a233c7fd99",
   "metadata": {},
   "outputs": [
    {
     "data": {
      "text/html": [
       "<div>\n",
       "<style scoped>\n",
       "    .dataframe tbody tr th:only-of-type {\n",
       "        vertical-align: middle;\n",
       "    }\n",
       "\n",
       "    .dataframe tbody tr th {\n",
       "        vertical-align: top;\n",
       "    }\n",
       "\n",
       "    .dataframe thead th {\n",
       "        text-align: right;\n",
       "    }\n",
       "</style>\n",
       "<table border=\"1\" class=\"dataframe\">\n",
       "  <thead>\n",
       "    <tr style=\"text-align: right;\">\n",
       "      <th></th>\n",
       "      <th>IS_CRASH</th>\n",
       "    </tr>\n",
       "    <tr>\n",
       "      <th>NODE_ID</th>\n",
       "      <th></th>\n",
       "    </tr>\n",
       "  </thead>\n",
       "  <tbody>\n",
       "    <tr>\n",
       "      <th>42421828</th>\n",
       "      <td>0.000000</td>\n",
       "    </tr>\n",
       "    <tr>\n",
       "      <th>42421837</th>\n",
       "      <td>0.000000</td>\n",
       "    </tr>\n",
       "    <tr>\n",
       "      <th>42421877</th>\n",
       "      <td>0.000272</td>\n",
       "    </tr>\n",
       "    <tr>\n",
       "      <th>42421889</th>\n",
       "      <td>0.000032</td>\n",
       "    </tr>\n",
       "    <tr>\n",
       "      <th>42421927</th>\n",
       "      <td>0.000000</td>\n",
       "    </tr>\n",
       "  </tbody>\n",
       "</table>\n",
       "</div>"
      ],
      "text/plain": [
       "          IS_CRASH\n",
       "NODE_ID           \n",
       "42421828  0.000000\n",
       "42421837  0.000000\n",
       "42421877  0.000272\n",
       "42421889  0.000032\n",
       "42421927  0.000000"
      ]
     },
     "execution_count": 27,
     "metadata": {},
     "output_type": "execute_result"
    }
   ],
   "source": [
    "# examine head\n",
    "node_id_crash_df.head()"
   ]
  },
  {
   "cell_type": "code",
   "execution_count": 28,
   "id": "4668929b-96b7-4fa8-bd69-da1ce71ef474",
   "metadata": {},
   "outputs": [
    {
     "data": {
      "text/plain": [
       "2101"
      ]
     },
     "execution_count": 28,
     "metadata": {},
     "output_type": "execute_result"
    }
   ],
   "source": [
    "# check unique NOIDE_ID in df matches number of rows in node_id_crash_df\n",
    "assert len(set(node_events_df['NODE_ID'])) == node_id_crash_df.shape[0]\n",
    "\n",
    "# check how many unique NODE_ID in original df\n",
    "len(set(node_events_df['NODE_ID']))"
   ]
  },
  {
   "cell_type": "code",
   "execution_count": 29,
   "id": "fd86227b-05d7-4d9a-ad88-3e7496b8ea23",
   "metadata": {},
   "outputs": [
    {
     "data": {
      "text/plain": [
       "(2587, 2)"
      ]
     },
     "execution_count": 29,
     "metadata": {},
     "output_type": "execute_result"
    }
   ],
   "source": [
    "# load node id to census tract key table\n",
    "node_id_census_tract = pd.read_csv(\"../../data/node_id_census_tract_key.csv\")\n",
    "\n",
    "# check shape\n",
    "node_id_census_tract.shape"
   ]
  },
  {
   "cell_type": "code",
   "execution_count": 30,
   "id": "2d301ce1-edb9-40c7-a3dd-3a2a94e12eff",
   "metadata": {},
   "outputs": [
    {
     "data": {
      "text/html": [
       "<div>\n",
       "<style scoped>\n",
       "    .dataframe tbody tr th:only-of-type {\n",
       "        vertical-align: middle;\n",
       "    }\n",
       "\n",
       "    .dataframe tbody tr th {\n",
       "        vertical-align: top;\n",
       "    }\n",
       "\n",
       "    .dataframe thead th {\n",
       "        text-align: right;\n",
       "    }\n",
       "</style>\n",
       "<table border=\"1\" class=\"dataframe\">\n",
       "  <thead>\n",
       "    <tr style=\"text-align: right;\">\n",
       "      <th></th>\n",
       "      <th>osmid</th>\n",
       "      <th>ct2010</th>\n",
       "    </tr>\n",
       "  </thead>\n",
       "  <tbody>\n",
       "    <tr>\n",
       "      <th>0</th>\n",
       "      <td>42421828</td>\n",
       "      <td>2800</td>\n",
       "    </tr>\n",
       "    <tr>\n",
       "      <th>1</th>\n",
       "      <td>42421837</td>\n",
       "      <td>2800</td>\n",
       "    </tr>\n",
       "    <tr>\n",
       "      <th>2</th>\n",
       "      <td>42430924</td>\n",
       "      <td>2800</td>\n",
       "    </tr>\n",
       "    <tr>\n",
       "      <th>3</th>\n",
       "      <td>42430938</td>\n",
       "      <td>2800</td>\n",
       "    </tr>\n",
       "    <tr>\n",
       "      <th>4</th>\n",
       "      <td>42436957</td>\n",
       "      <td>2800</td>\n",
       "    </tr>\n",
       "  </tbody>\n",
       "</table>\n",
       "</div>"
      ],
      "text/plain": [
       "      osmid  ct2010\n",
       "0  42421828    2800\n",
       "1  42421837    2800\n",
       "2  42430924    2800\n",
       "3  42430938    2800\n",
       "4  42436957    2800"
      ]
     },
     "execution_count": 30,
     "metadata": {},
     "output_type": "execute_result"
    }
   ],
   "source": [
    "# examine head\n",
    "node_id_census_tract.head()"
   ]
  },
  {
   "cell_type": "code",
   "execution_count": 31,
   "id": "d1c43faf-2988-4c9a-907a-30b203e9361d",
   "metadata": {},
   "outputs": [
    {
     "name": "stdout",
     "output_type": "stream",
     "text": [
      "number of node ids in census tract df not in crash df:  486\n"
     ]
    },
    {
     "data": {
      "text/plain": [
       "Index(['IS_CRASH'], dtype='object')"
      ]
     },
     "execution_count": 31,
     "metadata": {},
     "output_type": "execute_result"
    }
   ],
   "source": [
    "# look at why there are more rows in census \n",
    "# ASSUMING THESE ARE NODES FOR WHICH WE HAVE NO NODE EVENTS (neither crashes nor citiBike)\n",
    "print(\"number of node ids in census tract df not in crash df: \", len(set(node_id_census_tract['osmid'])) - len(set(node_events_df['NODE_ID'])))\n",
    "\n",
    "node_id_crash_df.columns"
   ]
  },
  {
   "cell_type": "code",
   "execution_count": 32,
   "id": "00c8e7d5-2d6d-41e8-adb5-24706c687ef8",
   "metadata": {},
   "outputs": [
    {
     "data": {
      "text/plain": [
       "(2101, 3)"
      ]
     },
     "execution_count": 32,
     "metadata": {},
     "output_type": "execute_result"
    }
   ],
   "source": [
    "# merge on node ids: census tracts and avg crash\n",
    "node_ids__crash_avg_census_tracts = node_id_crash_df.merge(node_id_census_tract, how = 'left', left_index=True, right_on='osmid')\n",
    "\n",
    "# rename columns to be clearer\n",
    "col_names = {'osmid':'NODE_ID','IS_CRASH':'CRASH_AVG','ct2010':'CENSUS_TRACT_ID'}\n",
    "node_ids__crash_avg_census_tracts.rename(columns=col_names, inplace=True)\n",
    "\n",
    "# check shape\n",
    "node_ids__crash_avg_census_tracts.shape"
   ]
  },
  {
   "cell_type": "code",
   "execution_count": 33,
   "id": "166a02e1-a02b-47b9-b464-79c3f6f7e10a",
   "metadata": {},
   "outputs": [
    {
     "data": {
      "text/html": [
       "<div>\n",
       "<style scoped>\n",
       "    .dataframe tbody tr th:only-of-type {\n",
       "        vertical-align: middle;\n",
       "    }\n",
       "\n",
       "    .dataframe tbody tr th {\n",
       "        vertical-align: top;\n",
       "    }\n",
       "\n",
       "    .dataframe thead th {\n",
       "        text-align: right;\n",
       "    }\n",
       "</style>\n",
       "<table border=\"1\" class=\"dataframe\">\n",
       "  <thead>\n",
       "    <tr style=\"text-align: right;\">\n",
       "      <th></th>\n",
       "      <th>CRASH_AVG</th>\n",
       "      <th>NODE_ID</th>\n",
       "      <th>CENSUS_TRACT_ID</th>\n",
       "    </tr>\n",
       "  </thead>\n",
       "  <tbody>\n",
       "    <tr>\n",
       "      <th>0</th>\n",
       "      <td>0.000000</td>\n",
       "      <td>42421828</td>\n",
       "      <td>2800</td>\n",
       "    </tr>\n",
       "    <tr>\n",
       "      <th>1</th>\n",
       "      <td>0.000000</td>\n",
       "      <td>42421837</td>\n",
       "      <td>2800</td>\n",
       "    </tr>\n",
       "    <tr>\n",
       "      <th>27</th>\n",
       "      <td>0.000272</td>\n",
       "      <td>42421877</td>\n",
       "      <td>6300</td>\n",
       "    </tr>\n",
       "    <tr>\n",
       "      <th>52</th>\n",
       "      <td>0.000032</td>\n",
       "      <td>42421889</td>\n",
       "      <td>7100</td>\n",
       "    </tr>\n",
       "    <tr>\n",
       "      <th>72</th>\n",
       "      <td>0.000000</td>\n",
       "      <td>42421927</td>\n",
       "      <td>5502</td>\n",
       "    </tr>\n",
       "  </tbody>\n",
       "</table>\n",
       "</div>"
      ],
      "text/plain": [
       "    CRASH_AVG   NODE_ID  CENSUS_TRACT_ID\n",
       "0    0.000000  42421828             2800\n",
       "1    0.000000  42421837             2800\n",
       "27   0.000272  42421877             6300\n",
       "52   0.000032  42421889             7100\n",
       "72   0.000000  42421927             5502"
      ]
     },
     "execution_count": 33,
     "metadata": {},
     "output_type": "execute_result"
    }
   ],
   "source": [
    "# examine head\n",
    "node_ids__crash_avg_census_tracts.head()"
   ]
  },
  {
   "cell_type": "code",
   "execution_count": 34,
   "id": "17987349-4393-4a61-99ed-5b9acbc07049",
   "metadata": {},
   "outputs": [
    {
     "data": {
      "text/html": [
       "<div>\n",
       "<style scoped>\n",
       "    .dataframe tbody tr th:only-of-type {\n",
       "        vertical-align: middle;\n",
       "    }\n",
       "\n",
       "    .dataframe tbody tr th {\n",
       "        vertical-align: top;\n",
       "    }\n",
       "\n",
       "    .dataframe thead th {\n",
       "        text-align: right;\n",
       "    }\n",
       "</style>\n",
       "<table border=\"1\" class=\"dataframe\">\n",
       "  <thead>\n",
       "    <tr style=\"text-align: right;\">\n",
       "      <th></th>\n",
       "      <th>CRASH_AVG</th>\n",
       "      <th>NODE_ID</th>\n",
       "      <th>CENSUS_TRACT_ID</th>\n",
       "    </tr>\n",
       "  </thead>\n",
       "  <tbody>\n",
       "    <tr>\n",
       "      <th>171</th>\n",
       "      <td>1.0</td>\n",
       "      <td>42431902</td>\n",
       "      <td>900</td>\n",
       "    </tr>\n",
       "    <tr>\n",
       "      <th>123</th>\n",
       "      <td>1.0</td>\n",
       "      <td>42429507</td>\n",
       "      <td>700</td>\n",
       "    </tr>\n",
       "    <tr>\n",
       "      <th>2578</th>\n",
       "      <td>1.0</td>\n",
       "      <td>370893397</td>\n",
       "      <td>2000</td>\n",
       "    </tr>\n",
       "    <tr>\n",
       "      <th>970</th>\n",
       "      <td>1.0</td>\n",
       "      <td>4500012797</td>\n",
       "      <td>5400</td>\n",
       "    </tr>\n",
       "    <tr>\n",
       "      <th>557</th>\n",
       "      <td>1.0</td>\n",
       "      <td>7137281959</td>\n",
       "      <td>6200</td>\n",
       "    </tr>\n",
       "    <tr>\n",
       "      <th>...</th>\n",
       "      <td>...</td>\n",
       "      <td>...</td>\n",
       "      <td>...</td>\n",
       "    </tr>\n",
       "    <tr>\n",
       "      <th>2404</th>\n",
       "      <td>0.0</td>\n",
       "      <td>42456568</td>\n",
       "      <td>7200</td>\n",
       "    </tr>\n",
       "    <tr>\n",
       "      <th>1260</th>\n",
       "      <td>0.0</td>\n",
       "      <td>42456303</td>\n",
       "      <td>5900</td>\n",
       "    </tr>\n",
       "    <tr>\n",
       "      <th>1259</th>\n",
       "      <td>0.0</td>\n",
       "      <td>42456211</td>\n",
       "      <td>5900</td>\n",
       "    </tr>\n",
       "    <tr>\n",
       "      <th>1258</th>\n",
       "      <td>0.0</td>\n",
       "      <td>42456206</td>\n",
       "      <td>5900</td>\n",
       "    </tr>\n",
       "    <tr>\n",
       "      <th>2400</th>\n",
       "      <td>0.0</td>\n",
       "      <td>42449308</td>\n",
       "      <td>7200</td>\n",
       "    </tr>\n",
       "  </tbody>\n",
       "</table>\n",
       "<p>2101 rows × 3 columns</p>\n",
       "</div>"
      ],
      "text/plain": [
       "      CRASH_AVG     NODE_ID  CENSUS_TRACT_ID\n",
       "171         1.0    42431902              900\n",
       "123         1.0    42429507              700\n",
       "2578        1.0   370893397             2000\n",
       "970         1.0  4500012797             5400\n",
       "557         1.0  7137281959             6200\n",
       "...         ...         ...              ...\n",
       "2404        0.0    42456568             7200\n",
       "1260        0.0    42456303             5900\n",
       "1259        0.0    42456211             5900\n",
       "1258        0.0    42456206             5900\n",
       "2400        0.0    42449308             7200\n",
       "\n",
       "[2101 rows x 3 columns]"
      ]
     },
     "execution_count": 34,
     "metadata": {},
     "output_type": "execute_result"
    }
   ],
   "source": [
    "node_ids__crash_avg_census_tracts.sort_values('CRASH_AVG', ascending=False)"
   ]
  },
  {
   "cell_type": "code",
   "execution_count": 35,
   "id": "10708ff5-c5b0-428c-aba8-b02da16408f6",
   "metadata": {},
   "outputs": [
    {
     "name": "stdout",
     "output_type": "stream",
     "text": [
      "Nodes with no Crashes: number of nodes (# CRASH / # EVENTS) == 0 :  1005\n",
      "number of nodes (# CRASH / # EVENTS) == 1 :  29\n",
      "number of nodes (# CRASH / # EVENTS) > 1 / 10 :  29\n",
      "number of nodes (# CRASH / # EVENTS) > 1 / 100 :  36\n",
      "number of nodes (# CRASH / # EVENTS) > 1 / 1000 :  125\n"
     ]
    }
   ],
   "source": [
    "print(\"Nodes with no Crashes: number of nodes (# CRASH / # EVENTS) == 0 : \", sum(node_ids__crash_avg_census_tracts['CRASH_AVG']==0))\n",
    "# there are Crash Averages ==1 so looking into this:\n",
    "## do we want to remove Crash Averages that are above a certain fraction?\n",
    "## for example, greater than .001 meaning that there was one crash in 1000 events for the node\n",
    "\n",
    "print(\"number of nodes (# CRASH / # EVENTS) == 1 : \", sum(node_ids__crash_avg_census_tracts['CRASH_AVG']==1))\n",
    "print(\"number of nodes (# CRASH / # EVENTS) > 1 / 10 : \", sum(node_ids__crash_avg_census_tracts['CRASH_AVG']>.1))\n",
    "print(\"number of nodes (# CRASH / # EVENTS) > 1 / 100 : \", sum(node_ids__crash_avg_census_tracts['CRASH_AVG']>.01))\n",
    "print(\"number of nodes (# CRASH / # EVENTS) > 1 / 1000 : \", sum(node_ids__crash_avg_census_tracts['CRASH_AVG']>.001))"
   ]
  },
  {
   "cell_type": "code",
   "execution_count": 36,
   "id": "a52935e6-f02c-471d-aedd-bcde946c7a5f",
   "metadata": {},
   "outputs": [
    {
     "data": {
      "text/html": [
       "<div>\n",
       "<style scoped>\n",
       "    .dataframe tbody tr th:only-of-type {\n",
       "        vertical-align: middle;\n",
       "    }\n",
       "\n",
       "    .dataframe tbody tr th {\n",
       "        vertical-align: top;\n",
       "    }\n",
       "\n",
       "    .dataframe thead th {\n",
       "        text-align: right;\n",
       "    }\n",
       "</style>\n",
       "<table border=\"1\" class=\"dataframe\">\n",
       "  <thead>\n",
       "    <tr style=\"text-align: right;\">\n",
       "      <th></th>\n",
       "      <th>NODE_ID</th>\n",
       "      <th>IS_CRASH</th>\n",
       "    </tr>\n",
       "  </thead>\n",
       "  <tbody>\n",
       "    <tr>\n",
       "      <th>22591956</th>\n",
       "      <td>1728266963</td>\n",
       "      <td>True</td>\n",
       "    </tr>\n",
       "    <tr>\n",
       "      <th>22592078</th>\n",
       "      <td>1728266963</td>\n",
       "      <td>True</td>\n",
       "    </tr>\n",
       "  </tbody>\n",
       "</table>\n",
       "</div>"
      ],
      "text/plain": [
       "             NODE_ID  IS_CRASH\n",
       "22591956  1728266963      True\n",
       "22592078  1728266963      True"
      ]
     },
     "execution_count": 36,
     "metadata": {},
     "output_type": "execute_result"
    }
   ],
   "source": [
    "# look at sample CRASH EVENT == 1 node from original df\n",
    "node_events_df.loc[node_events_df['NODE_ID']==1728266963,:]"
   ]
  },
  {
   "cell_type": "code",
   "execution_count": 37,
   "id": "ee9a0dbe-2673-4f24-88a8-dfcae16aac78",
   "metadata": {},
   "outputs": [],
   "source": [
    "# look at rows with Crash Avg == 1 to ignore in correlation\n",
    "crash_avg_equals_one = node_ids__crash_avg_census_tracts.loc[node_ids__crash_avg_census_tracts['CRASH_AVG']==1,:]"
   ]
  },
  {
   "cell_type": "code",
   "execution_count": 38,
   "id": "9521291d-f96b-4a4d-bc5f-d09c4fd06f31",
   "metadata": {},
   "outputs": [
    {
     "data": {
      "text/plain": [
       "(2072, 3)"
      ]
     },
     "execution_count": 38,
     "metadata": {},
     "output_type": "execute_result"
    }
   ],
   "source": [
    "# create df with rows where Crash Avg < 1\n",
    "node_ids__crash_avg_census_tracts_clean = node_ids__crash_avg_census_tracts.loc[node_ids__crash_avg_census_tracts['CRASH_AVG']<1,:]\n",
    "\n",
    "# check shape\n",
    "node_ids__crash_avg_census_tracts_clean.shape"
   ]
  },
  {
   "cell_type": "code",
   "execution_count": 39,
   "id": "b8b1f1f5-d9f8-4330-ad91-90ec4dee0d2b",
   "metadata": {},
   "outputs": [],
   "source": [
    "# save csv with node ids, census tracts, and DUMMY DANGER metric\n",
    "node_ids__crash_avg_census_tracts_clean.to_csv(path_or_buf='../../data/DUMMY_CRASH_AVG_FOR_CORRELATION_TESTS_node_id_census_tract_key.csv')"
   ]
  },
  {
   "cell_type": "code",
   "execution_count": null,
   "id": "7f555334-4a90-499b-8d52-288f48f3ae35",
   "metadata": {},
   "outputs": [],
   "source": []
  },
  {
   "cell_type": "code",
   "execution_count": null,
   "id": "bd5f5007-a917-496d-9547-a83f212d61d7",
   "metadata": {},
   "outputs": [],
   "source": []
  }
 ],
 "metadata": {
  "kernelspec": {
   "display_name": "Python 3",
   "language": "python",
   "name": "python3"
  },
  "language_info": {
   "codemirror_mode": {
    "name": "ipython",
    "version": 3
   },
   "file_extension": ".py",
   "mimetype": "text/x-python",
   "name": "python",
   "nbconvert_exporter": "python",
   "pygments_lexer": "ipython3",
   "version": "3.8.8"
  }
 },
 "nbformat": 4,
 "nbformat_minor": 5
}
