{
 "cells": [
  {
   "cell_type": "code",
   "execution_count": null,
   "id": "dc86f3aa-847f-43a6-b975-00a434b3d4f1",
   "metadata": {},
   "outputs": [],
   "source": [
    "# group by node id (since rows are currently node events) .mean of is_crash to have dummy danger metric\n",
    "# associate the node ids with user traslation table to have node ID with tract ID then associate with demographic data\n",
    "# linear regression: ex: percentage black with crash ratio"
   ]
  },
  {
   "cell_type": "code",
   "execution_count": 126,
   "id": "06961940-c86b-4cd2-81e7-169d36e75071",
   "metadata": {},
   "outputs": [],
   "source": [
    "import pandas as pd"
   ]
  },
  {
   "cell_type": "code",
   "execution_count": 127,
   "id": "7734ad7c-439b-4650-9a17-beee2f33df61",
   "metadata": {},
   "outputs": [
    {
     "ename": "KeyboardInterrupt",
     "evalue": "",
     "output_type": "error",
     "traceback": [
      "\u001b[0;31m---------------------------------------------------------------------------\u001b[0m",
      "\u001b[0;31mKeyboardInterrupt\u001b[0m                         Traceback (most recent call last)",
      "\u001b[0;32m<ipython-input-127-32270671ab47>\u001b[0m in \u001b[0;36m<module>\u001b[0;34m\u001b[0m\n\u001b[1;32m      1\u001b[0m \u001b[0;31m# load node events\u001b[0m\u001b[0;34m\u001b[0m\u001b[0;34m\u001b[0m\u001b[0;34m\u001b[0m\u001b[0m\n\u001b[0;32m----> 2\u001b[0;31m \u001b[0mnode_events_df\u001b[0m \u001b[0;34m=\u001b[0m \u001b[0mpd\u001b[0m\u001b[0;34m.\u001b[0m\u001b[0mread_csv\u001b[0m\u001b[0;34m(\u001b[0m\u001b[0;34m\"../../data/unified_dataset.csv\"\u001b[0m\u001b[0;34m)\u001b[0m\u001b[0;34m\u001b[0m\u001b[0;34m\u001b[0m\u001b[0m\n\u001b[0m",
      "\u001b[0;32m~/opt/anaconda3/lib/python3.8/site-packages/pandas/util/_decorators.py\u001b[0m in \u001b[0;36mwrapper\u001b[0;34m(*args, **kwargs)\u001b[0m\n\u001b[1;32m    309\u001b[0m                     \u001b[0mstacklevel\u001b[0m\u001b[0;34m=\u001b[0m\u001b[0mstacklevel\u001b[0m\u001b[0;34m,\u001b[0m\u001b[0;34m\u001b[0m\u001b[0;34m\u001b[0m\u001b[0m\n\u001b[1;32m    310\u001b[0m                 )\n\u001b[0;32m--> 311\u001b[0;31m             \u001b[0;32mreturn\u001b[0m \u001b[0mfunc\u001b[0m\u001b[0;34m(\u001b[0m\u001b[0;34m*\u001b[0m\u001b[0margs\u001b[0m\u001b[0;34m,\u001b[0m \u001b[0;34m**\u001b[0m\u001b[0mkwargs\u001b[0m\u001b[0;34m)\u001b[0m\u001b[0;34m\u001b[0m\u001b[0;34m\u001b[0m\u001b[0m\n\u001b[0m\u001b[1;32m    312\u001b[0m \u001b[0;34m\u001b[0m\u001b[0m\n\u001b[1;32m    313\u001b[0m         \u001b[0;32mreturn\u001b[0m \u001b[0mwrapper\u001b[0m\u001b[0;34m\u001b[0m\u001b[0;34m\u001b[0m\u001b[0m\n",
      "\u001b[0;32m~/opt/anaconda3/lib/python3.8/site-packages/pandas/io/parsers/readers.py\u001b[0m in \u001b[0;36mread_csv\u001b[0;34m(filepath_or_buffer, sep, delimiter, header, names, index_col, usecols, squeeze, prefix, mangle_dupe_cols, dtype, engine, converters, true_values, false_values, skipinitialspace, skiprows, skipfooter, nrows, na_values, keep_default_na, na_filter, verbose, skip_blank_lines, parse_dates, infer_datetime_format, keep_date_col, date_parser, dayfirst, cache_dates, iterator, chunksize, compression, thousands, decimal, lineterminator, quotechar, quoting, doublequote, escapechar, comment, encoding, encoding_errors, dialect, error_bad_lines, warn_bad_lines, on_bad_lines, delim_whitespace, low_memory, memory_map, float_precision, storage_options)\u001b[0m\n\u001b[1;32m    584\u001b[0m     \u001b[0mkwds\u001b[0m\u001b[0;34m.\u001b[0m\u001b[0mupdate\u001b[0m\u001b[0;34m(\u001b[0m\u001b[0mkwds_defaults\u001b[0m\u001b[0;34m)\u001b[0m\u001b[0;34m\u001b[0m\u001b[0;34m\u001b[0m\u001b[0m\n\u001b[1;32m    585\u001b[0m \u001b[0;34m\u001b[0m\u001b[0m\n\u001b[0;32m--> 586\u001b[0;31m     \u001b[0;32mreturn\u001b[0m \u001b[0m_read\u001b[0m\u001b[0;34m(\u001b[0m\u001b[0mfilepath_or_buffer\u001b[0m\u001b[0;34m,\u001b[0m \u001b[0mkwds\u001b[0m\u001b[0;34m)\u001b[0m\u001b[0;34m\u001b[0m\u001b[0;34m\u001b[0m\u001b[0m\n\u001b[0m\u001b[1;32m    587\u001b[0m \u001b[0;34m\u001b[0m\u001b[0m\n\u001b[1;32m    588\u001b[0m \u001b[0;34m\u001b[0m\u001b[0m\n",
      "\u001b[0;32m~/opt/anaconda3/lib/python3.8/site-packages/pandas/io/parsers/readers.py\u001b[0m in \u001b[0;36m_read\u001b[0;34m(filepath_or_buffer, kwds)\u001b[0m\n\u001b[1;32m    486\u001b[0m \u001b[0;34m\u001b[0m\u001b[0m\n\u001b[1;32m    487\u001b[0m     \u001b[0;32mwith\u001b[0m \u001b[0mparser\u001b[0m\u001b[0;34m:\u001b[0m\u001b[0;34m\u001b[0m\u001b[0;34m\u001b[0m\u001b[0m\n\u001b[0;32m--> 488\u001b[0;31m         \u001b[0;32mreturn\u001b[0m \u001b[0mparser\u001b[0m\u001b[0;34m.\u001b[0m\u001b[0mread\u001b[0m\u001b[0;34m(\u001b[0m\u001b[0mnrows\u001b[0m\u001b[0;34m)\u001b[0m\u001b[0;34m\u001b[0m\u001b[0;34m\u001b[0m\u001b[0m\n\u001b[0m\u001b[1;32m    489\u001b[0m \u001b[0;34m\u001b[0m\u001b[0m\n\u001b[1;32m    490\u001b[0m \u001b[0;34m\u001b[0m\u001b[0m\n",
      "\u001b[0;32m~/opt/anaconda3/lib/python3.8/site-packages/pandas/io/parsers/readers.py\u001b[0m in \u001b[0;36mread\u001b[0;34m(self, nrows)\u001b[0m\n\u001b[1;32m   1045\u001b[0m     \u001b[0;32mdef\u001b[0m \u001b[0mread\u001b[0m\u001b[0;34m(\u001b[0m\u001b[0mself\u001b[0m\u001b[0;34m,\u001b[0m \u001b[0mnrows\u001b[0m\u001b[0;34m=\u001b[0m\u001b[0;32mNone\u001b[0m\u001b[0;34m)\u001b[0m\u001b[0;34m:\u001b[0m\u001b[0;34m\u001b[0m\u001b[0;34m\u001b[0m\u001b[0m\n\u001b[1;32m   1046\u001b[0m         \u001b[0mnrows\u001b[0m \u001b[0;34m=\u001b[0m \u001b[0mvalidate_integer\u001b[0m\u001b[0;34m(\u001b[0m\u001b[0;34m\"nrows\"\u001b[0m\u001b[0;34m,\u001b[0m \u001b[0mnrows\u001b[0m\u001b[0;34m)\u001b[0m\u001b[0;34m\u001b[0m\u001b[0;34m\u001b[0m\u001b[0m\n\u001b[0;32m-> 1047\u001b[0;31m         \u001b[0mindex\u001b[0m\u001b[0;34m,\u001b[0m \u001b[0mcolumns\u001b[0m\u001b[0;34m,\u001b[0m \u001b[0mcol_dict\u001b[0m \u001b[0;34m=\u001b[0m \u001b[0mself\u001b[0m\u001b[0;34m.\u001b[0m\u001b[0m_engine\u001b[0m\u001b[0;34m.\u001b[0m\u001b[0mread\u001b[0m\u001b[0;34m(\u001b[0m\u001b[0mnrows\u001b[0m\u001b[0;34m)\u001b[0m\u001b[0;34m\u001b[0m\u001b[0;34m\u001b[0m\u001b[0m\n\u001b[0m\u001b[1;32m   1048\u001b[0m \u001b[0;34m\u001b[0m\u001b[0m\n\u001b[1;32m   1049\u001b[0m         \u001b[0;32mif\u001b[0m \u001b[0mindex\u001b[0m \u001b[0;32mis\u001b[0m \u001b[0;32mNone\u001b[0m\u001b[0;34m:\u001b[0m\u001b[0;34m\u001b[0m\u001b[0;34m\u001b[0m\u001b[0m\n",
      "\u001b[0;32m~/opt/anaconda3/lib/python3.8/site-packages/pandas/io/parsers/c_parser_wrapper.py\u001b[0m in \u001b[0;36mread\u001b[0;34m(self, nrows)\u001b[0m\n\u001b[1;32m    221\u001b[0m         \u001b[0;32mtry\u001b[0m\u001b[0;34m:\u001b[0m\u001b[0;34m\u001b[0m\u001b[0;34m\u001b[0m\u001b[0m\n\u001b[1;32m    222\u001b[0m             \u001b[0;32mif\u001b[0m \u001b[0mself\u001b[0m\u001b[0;34m.\u001b[0m\u001b[0mlow_memory\u001b[0m\u001b[0;34m:\u001b[0m\u001b[0;34m\u001b[0m\u001b[0;34m\u001b[0m\u001b[0m\n\u001b[0;32m--> 223\u001b[0;31m                 \u001b[0mchunks\u001b[0m \u001b[0;34m=\u001b[0m \u001b[0mself\u001b[0m\u001b[0;34m.\u001b[0m\u001b[0m_reader\u001b[0m\u001b[0;34m.\u001b[0m\u001b[0mread_low_memory\u001b[0m\u001b[0;34m(\u001b[0m\u001b[0mnrows\u001b[0m\u001b[0;34m)\u001b[0m\u001b[0;34m\u001b[0m\u001b[0;34m\u001b[0m\u001b[0m\n\u001b[0m\u001b[1;32m    224\u001b[0m                 \u001b[0;31m# destructive to chunks\u001b[0m\u001b[0;34m\u001b[0m\u001b[0;34m\u001b[0m\u001b[0;34m\u001b[0m\u001b[0m\n\u001b[1;32m    225\u001b[0m                 \u001b[0mdata\u001b[0m \u001b[0;34m=\u001b[0m \u001b[0m_concatenate_chunks\u001b[0m\u001b[0;34m(\u001b[0m\u001b[0mchunks\u001b[0m\u001b[0;34m)\u001b[0m\u001b[0;34m\u001b[0m\u001b[0;34m\u001b[0m\u001b[0m\n",
      "\u001b[0;32m~/opt/anaconda3/lib/python3.8/site-packages/pandas/_libs/parsers.pyx\u001b[0m in \u001b[0;36mpandas._libs.parsers.TextReader.read_low_memory\u001b[0;34m()\u001b[0m\n",
      "\u001b[0;32m~/opt/anaconda3/lib/python3.8/site-packages/pandas/_libs/parsers.pyx\u001b[0m in \u001b[0;36mpandas._libs.parsers.TextReader._read_rows\u001b[0;34m()\u001b[0m\n",
      "\u001b[0;32m~/opt/anaconda3/lib/python3.8/site-packages/pandas/_libs/parsers.pyx\u001b[0m in \u001b[0;36mpandas._libs.parsers.TextReader._convert_column_data\u001b[0;34m()\u001b[0m\n",
      "\u001b[0;32m~/opt/anaconda3/lib/python3.8/site-packages/pandas/_libs/parsers.pyx\u001b[0m in \u001b[0;36mpandas._libs.parsers.TextReader._convert_tokens\u001b[0;34m()\u001b[0m\n",
      "\u001b[0;32m~/opt/anaconda3/lib/python3.8/site-packages/pandas/_libs/parsers.pyx\u001b[0m in \u001b[0;36mpandas._libs.parsers.TextReader._convert_with_dtype\u001b[0;34m()\u001b[0m\n",
      "\u001b[0;32m~/opt/anaconda3/lib/python3.8/site-packages/pandas/core/dtypes/common.py\u001b[0m in \u001b[0;36mis_extension_array_dtype\u001b[0;34m(arr_or_dtype)\u001b[0m\n\u001b[1;32m   1418\u001b[0m \u001b[0;34m\u001b[0m\u001b[0m\n\u001b[1;32m   1419\u001b[0m \u001b[0;34m\u001b[0m\u001b[0m\n\u001b[0;32m-> 1420\u001b[0;31m \u001b[0;32mdef\u001b[0m \u001b[0mis_extension_array_dtype\u001b[0m\u001b[0;34m(\u001b[0m\u001b[0marr_or_dtype\u001b[0m\u001b[0;34m)\u001b[0m \u001b[0;34m->\u001b[0m \u001b[0mbool\u001b[0m\u001b[0;34m:\u001b[0m\u001b[0;34m\u001b[0m\u001b[0;34m\u001b[0m\u001b[0m\n\u001b[0m\u001b[1;32m   1421\u001b[0m     \"\"\"\n\u001b[1;32m   1422\u001b[0m     \u001b[0mCheck\u001b[0m \u001b[0;32mif\u001b[0m \u001b[0man\u001b[0m \u001b[0mobject\u001b[0m \u001b[0;32mis\u001b[0m \u001b[0ma\u001b[0m \u001b[0mpandas\u001b[0m \u001b[0mextension\u001b[0m \u001b[0marray\u001b[0m \u001b[0mtype\u001b[0m\u001b[0;34m.\u001b[0m\u001b[0;34m\u001b[0m\u001b[0;34m\u001b[0m\u001b[0m\n",
      "\u001b[0;31mKeyboardInterrupt\u001b[0m: "
     ]
    }
   ],
   "source": [
    "# load node events\n",
    "node_events_df = pd.read_csv(\"../../data/unified_dataset.csv\")"
   ]
  },
  {
   "cell_type": "code",
   "execution_count": null,
   "id": "8ec6aeec-4808-4180-adbb-c62fa5a3d86b",
   "metadata": {},
   "outputs": [],
   "source": [
    "# check shape\n",
    "node_events_df.shape"
   ]
  },
  {
   "cell_type": "code",
   "execution_count": null,
   "id": "6eee2b20-dae1-4ba7-bbfa-bd37c7eb1307",
   "metadata": {},
   "outputs": [],
   "source": [
    "# examine head\n",
    "node_events_df.head()"
   ]
  },
  {
   "cell_type": "code",
   "execution_count": null,
   "id": "e467523b-0db6-499f-93c1-4d67a70d43f4",
   "metadata": {},
   "outputs": [],
   "source": [
    "# check columns\n",
    "node_events_df.columns"
   ]
  },
  {
   "cell_type": "code",
   "execution_count": null,
   "id": "50b1a6c3-9b80-4745-bccc-19cf0e3d8205",
   "metadata": {},
   "outputs": [],
   "source": [
    "# create df with node ID and IS_CRASH\n",
    "node_ids_crash_avg = node_events_df[['NODE_ID','IS_CRASH']]\n",
    "node_ids_crash_avg.head()"
   ]
  },
  {
   "cell_type": "code",
   "execution_count": null,
   "id": "450b8145-d570-4e84-a418-1baf69901ebe",
   "metadata": {},
   "outputs": [],
   "source": [
    "# group by node ID and take average of IS_CRASH to have toy danger metric\n",
    "node_id_crash_df = node_ids_crash_avg.groupby(by='NODE_ID').agg('mean')"
   ]
  },
  {
   "cell_type": "code",
   "execution_count": null,
   "id": "59b5e0dc-f039-4d5d-a120-f4a233c7fd99",
   "metadata": {},
   "outputs": [],
   "source": [
    "# examine head\n",
    "node_id_crash_df.head()"
   ]
  },
  {
   "cell_type": "code",
   "execution_count": null,
   "id": "4668929b-96b7-4fa8-bd69-da1ce71ef474",
   "metadata": {},
   "outputs": [],
   "source": [
    "# check unique NOIDE_ID in df matches number of rows in node_id_crash_df\n",
    "assert len(set(node_events_df['NODE_ID'])) == node_id_crash_df.shape[0]\n",
    "\n",
    "# check how many unique NODE_ID in original df\n",
    "len(set(node_events_df['NODE_ID']))"
   ]
  },
  {
   "cell_type": "code",
   "execution_count": null,
   "id": "fd86227b-05d7-4d9a-ad88-3e7496b8ea23",
   "metadata": {},
   "outputs": [],
   "source": [
    "# load node id to census tract key table\n",
    "node_id_census_tract = pd.read_csv(\"../../data/node_id_census_tract_key.csv\")\n",
    "\n",
    "# check shape\n",
    "node_id_census_tract.shape"
   ]
  },
  {
   "cell_type": "code",
   "execution_count": null,
   "id": "2d301ce1-edb9-40c7-a3dd-3a2a94e12eff",
   "metadata": {},
   "outputs": [],
   "source": [
    "# examine head\n",
    "node_id_census_tract.head()"
   ]
  },
  {
   "cell_type": "code",
   "execution_count": null,
   "id": "d1c43faf-2988-4c9a-907a-30b203e9361d",
   "metadata": {},
   "outputs": [],
   "source": [
    "# look at why there are more rows in census \n",
    "# ASSUMING THESE ARE NODES FOR WHICH WE HAVE NO NODE EVENTS (neither crashes nor citiBike)\n",
    "print(\"number of node ids in census tract df not in crash df: \", len(set(node_id_census_tract['osmid'])) - len(set(node_events_df['NODE_ID'])))\n",
    "\n",
    "node_id_crash_df.columns"
   ]
  },
  {
   "cell_type": "code",
   "execution_count": null,
   "id": "00c8e7d5-2d6d-41e8-adb5-24706c687ef8",
   "metadata": {},
   "outputs": [],
   "source": [
    "# merge on node ids: census tracts and avg crash\n",
    "node_ids__crash_avg_census_tracts = node_id_crash_df.merge(node_id_census_tract, how = 'left', left_index=True, right_on='osmid')\n",
    "\n",
    "# rename columns to be clearer\n",
    "col_names = {'osmid':'NODE_ID','IS_CRASH':'CRASH_AVG','ct2010':'CENSUS_TRACT_ID'}\n",
    "node_ids__crash_avg_census_tracts.rename(columns=col_names, inplace=True)\n",
    "\n",
    "# check shape\n",
    "node_ids__crash_avg_census_tracts.shape"
   ]
  },
  {
   "cell_type": "code",
   "execution_count": null,
   "id": "166a02e1-a02b-47b9-b464-79c3f6f7e10a",
   "metadata": {},
   "outputs": [],
   "source": [
    "# examine head\n",
    "node_ids__crash_avg_census_tracts.head()"
   ]
  },
  {
   "cell_type": "code",
   "execution_count": null,
   "id": "17987349-4393-4a61-99ed-5b9acbc07049",
   "metadata": {},
   "outputs": [],
   "source": [
    "node_ids__crash_avg_census_tracts.sort_values('CRASH_AVG', ascending=False)"
   ]
  },
  {
   "cell_type": "code",
   "execution_count": null,
   "id": "10708ff5-c5b0-428c-aba8-b02da16408f6",
   "metadata": {},
   "outputs": [],
   "source": [
    "print(\"Nodes with no Crashes: number of nodes (# CRASH / # EVENTS) == 0 : \", sum(node_ids__crash_avg_census_tracts['CRASH_AVG']==0))\n",
    "# there are Crash Averages ==1 so looking into this:\n",
    "## do we want to remove Crash Averages that are above a certain fraction?\n",
    "## for example, greater than .001 meaning that there was one crash in 1000 events for the node\n",
    "\n",
    "print(\"number of nodes (# CRASH / # EVENTS) == 1 : \", sum(node_ids__crash_avg_census_tracts['CRASH_AVG']==1))\n",
    "print(\"number of nodes (# CRASH / # EVENTS) > 1 / 10 : \", sum(node_ids__crash_avg_census_tracts['CRASH_AVG']>.1))\n",
    "print(\"number of nodes (# CRASH / # EVENTS) > 1 / 100 : \", sum(node_ids__crash_avg_census_tracts['CRASH_AVG']>.01))\n",
    "print(\"number of nodes (# CRASH / # EVENTS) > 1 / 1000 : \", sum(node_ids__crash_avg_census_tracts['CRASH_AVG']>.001))"
   ]
  },
  {
   "cell_type": "code",
   "execution_count": null,
   "id": "a52935e6-f02c-471d-aedd-bcde946c7a5f",
   "metadata": {},
   "outputs": [],
   "source": [
    "# look at sample CRASH EVENT == 1 node from original df\n",
    "node_events_df.loc[node_events_df['NODE_ID']==1728266963,:]"
   ]
  },
  {
   "cell_type": "code",
   "execution_count": null,
   "id": "ee9a0dbe-2673-4f24-88a8-dfcae16aac78",
   "metadata": {},
   "outputs": [],
   "source": [
    "# look at rows with Crash Avg == 1 to ignore in correlation\n",
    "crash_avg_equals_one = node_ids__crash_avg_census_tracts.loc[node_ids__crash_avg_census_tracts['CRASH_AVG']==1,:]"
   ]
  },
  {
   "cell_type": "code",
   "execution_count": null,
   "id": "9521291d-f96b-4a4d-bc5f-d09c4fd06f31",
   "metadata": {},
   "outputs": [],
   "source": [
    "# create df with rows where Crash Avg < 1\n",
    "node_ids__crash_avg_census_tracts_clean = node_ids__crash_avg_census_tracts.loc[node_ids__crash_avg_census_tracts['CRASH_AVG']<1,:]\n",
    "\n",
    "# check shape\n",
    "node_ids__crash_avg_census_tracts_clean.shape"
   ]
  },
  {
   "cell_type": "code",
   "execution_count": null,
   "id": "b8b1f1f5-d9f8-4330-ad91-90ec4dee0d2b",
   "metadata": {},
   "outputs": [],
   "source": [
    "# save csv with node ids, census tracts, and DUMMY DANGER metric\n",
    "node_ids__crash_avg_census_tracts_clean.to_csv(path_or_buf='../../data/DUMMY_CRASH_AVG_FOR_CORRELATION_TESTS_node_id_census_tract_key.csv')"
   ]
  },
  {
   "cell_type": "code",
   "execution_count": null,
   "id": "7f555334-4a90-499b-8d52-288f48f3ae35",
   "metadata": {},
   "outputs": [],
   "source": []
  },
  {
   "cell_type": "code",
   "execution_count": null,
   "id": "bd5f5007-a917-496d-9547-a83f212d61d7",
   "metadata": {},
   "outputs": [],
   "source": []
  }
 ],
 "metadata": {
  "kernelspec": {
   "display_name": "Python 3",
   "language": "python",
   "name": "python3"
  },
  "language_info": {
   "codemirror_mode": {
    "name": "ipython",
    "version": 3
   },
   "file_extension": ".py",
   "mimetype": "text/x-python",
   "name": "python",
   "nbconvert_exporter": "python",
   "pygments_lexer": "ipython3",
   "version": "3.8.8"
  }
 },
 "nbformat": 4,
 "nbformat_minor": 5
}
