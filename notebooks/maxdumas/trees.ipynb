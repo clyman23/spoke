{
 "cells": [
  {
   "cell_type": "code",
   "execution_count": 1,
   "metadata": {},
   "outputs": [],
   "source": [
    "import pandas as pd\n",
    "from sklearn.metrics import roc_auc_score\n",
    "from sklearn.experimental import enable_halving_search_cv\n",
    "from sklearn.model_selection import HalvingGridSearchCV\n",
    "from sklearn.ensemble import RandomForestClassifier, HistGradientBoostingClassifier"
   ]
  },
  {
   "cell_type": "code",
   "execution_count": 2,
   "metadata": {},
   "outputs": [],
   "source": [
    "df = pd.read_parquet('/Users/max/sync/cornell/2021_FA_Final_Project/spoke/pipeline_data/2019_thru_2021/train.parquet')"
   ]
  },
  {
   "cell_type": "code",
   "execution_count": 3,
   "metadata": {},
   "outputs": [],
   "source": [
    "crashes = df.query('IS_CRASH == 1')\n",
    "non_crashes = df.query('IS_CRASH == 0').sample(n=10_000)\n",
    "cols_to_drop = [\n",
    "    'IS_CRASH',\n",
    "    'WT10',\n",
    "    'WT13',\n",
    "    'WT14',\n",
    "    'WT15',\n",
    "    'WT16',\n",
    "    'WT18',\n",
    "    'WT19',\n",
    "    'WT22',\n",
    "    ]\n",
    "\n",
    "df_trunc = pd.concat((crashes, non_crashes))\n",
    "X = df_trunc.drop(columns=cols_to_drop)\n",
    "y = df_trunc.IS_CRASH"
   ]
  },
  {
   "cell_type": "code",
   "execution_count": 4,
   "metadata": {},
   "outputs": [],
   "source": [
    "# Fixed parameter values below were determined by previous passes of grid search\n",
    "dtc = RandomForestClassifier(max_samples=0.8, random_state=42, n_jobs=-1)\n",
    "model = HalvingGridSearchCV(dtc, {\n",
    "    'max_depth': list(range(12, 25)),\n",
    "}, scoring='roc_auc', n_jobs=-1, verbose=1)"
   ]
  },
  {
   "cell_type": "code",
   "execution_count": 5,
   "metadata": {},
   "outputs": [
    {
     "name": "stdout",
     "output_type": "stream",
     "text": [
      "n_iterations: 3\n",
      "n_required_iterations: 3\n",
      "n_possible_iterations: 3\n",
      "min_resources_: 1329\n",
      "max_resources_: 11967\n",
      "aggressive_elimination: False\n",
      "factor: 3\n",
      "----------\n",
      "iter: 0\n",
      "n_candidates: 13\n",
      "n_resources: 1329\n",
      "Fitting 5 folds for each of 13 candidates, totalling 65 fits\n",
      "----------\n",
      "iter: 1\n",
      "n_candidates: 5\n",
      "n_resources: 3987\n",
      "Fitting 5 folds for each of 5 candidates, totalling 25 fits\n",
      "----------\n",
      "iter: 2\n",
      "n_candidates: 2\n",
      "n_resources: 11961\n",
      "Fitting 5 folds for each of 2 candidates, totalling 10 fits\n"
     ]
    },
    {
     "data": {
      "text/plain": [
       "HalvingGridSearchCV(estimator=RandomForestClassifier(max_samples=0.8, n_jobs=-1,\n",
       "                                                     random_state=42),\n",
       "                    n_jobs=-1,\n",
       "                    param_grid={'max_depth': [12, 13, 14, 15, 16, 17, 18, 19,\n",
       "                                              20, 21, 22, 23, 24]},\n",
       "                    scoring='roc_auc', verbose=1)"
      ]
     },
     "execution_count": 5,
     "metadata": {},
     "output_type": "execute_result"
    }
   ],
   "source": [
    "model.fit(X, y)"
   ]
  },
  {
   "cell_type": "code",
   "execution_count": 6,
   "metadata": {},
   "outputs": [
    {
     "data": {
      "text/plain": [
       "0.7176505656006313"
      ]
     },
     "execution_count": 6,
     "metadata": {},
     "output_type": "execute_result"
    }
   ],
   "source": [
    "model.best_score_"
   ]
  },
  {
   "cell_type": "code",
   "execution_count": 7,
   "metadata": {},
   "outputs": [
    {
     "data": {
      "text/plain": [
       "{'max_depth': 16}"
      ]
     },
     "execution_count": 7,
     "metadata": {},
     "output_type": "execute_result"
    }
   ],
   "source": [
    "model.best_params_"
   ]
  },
  {
   "cell_type": "markdown",
   "metadata": {},
   "source": [
    "Let's recap here. So the ROC AUC Score is basically plotting our True Positive Rate (TPR; the fraction of rows that we predict to be crashes that are in fact crashes) against our False Positive Rate (FPR; the fraction of rows that we predict to be crashes that are not in fact crashes), as you vary the \"discrimination threshold\". The area under that curve is the score that we receive.\n",
    "\n",
    "\n",
    "What is the \"discrimination threshold\"? It's the decision boundary. Oh I see I see. It's basically representing the tradeoff between a more permissive discrimination threshold and a less permissive one. As you move to the right on the X-axis, the FPR is going up, meaning that you're classifying more things as positive that you shouldn't be. You'd expect that your Y-axis should go up as you do that too—you want to be classifying more positive things correctly too. If you just classify everything as true, you end up with a TPR and an FPR of 1.\n",
    "\n",
    "So the best models would get you to a very high TPR while keeping you at a low FPR. In other words, you'd model a decision boundary that is able to correctly classify everything. Duh. The best possible model would just be a point at TPR=1, FPR=0.\n",
    "\n",
    "What I don't quite understand is how this translates to a notion of \"area\"? How, for a given model, can I compute the ROC AUC score? Is it just taking y-value of that specific decision boundary? In other words, just the TPR? That doesn't seem to make any sense to me.\n",
    "\n",
    "Here's another interpretationg offered from Google: https://developers.google.com/machine-learning/crash-course/classification/roc-and-auc\n",
    "> \"One way of interpreting AUC is as the probability that the model ranks a random positive example more highly than a random negative example.\""
   ]
  },
  {
   "cell_type": "code",
   "execution_count": 8,
   "metadata": {},
   "outputs": [],
   "source": [
    "df_eval = pd.read_parquet('/Users/max/sync/cornell/2021_FA_Final_Project/spoke/pipeline_data/2019_thru_2021/eval.parquet')\n",
    "X_eval = df_eval.drop(columns=cols_to_drop)\n",
    "y_eval = df_eval.IS_CRASH"
   ]
  },
  {
   "cell_type": "code",
   "execution_count": 9,
   "metadata": {},
   "outputs": [
    {
     "data": {
      "text/plain": [
       "0.744707272751068"
      ]
     },
     "execution_count": 9,
     "metadata": {},
     "output_type": "execute_result"
    }
   ],
   "source": [
    "roc_auc_score(y_eval, model.predict_proba(X_eval)[:, 1])"
   ]
  },
  {
   "cell_type": "code",
   "execution_count": 10,
   "metadata": {},
   "outputs": [],
   "source": [
    "df_test = pd.read_parquet('/Users/max/sync/cornell/2021_FA_Final_Project/spoke/pipeline_data/2019_thru_2021/test.parquet')\n",
    "X_test = df_test.drop(columns=cols_to_drop)\n",
    "y_test = df_test.IS_CRASH"
   ]
  },
  {
   "cell_type": "code",
   "execution_count": 11,
   "metadata": {},
   "outputs": [
    {
     "data": {
      "text/plain": [
       "0.7310924820225171"
      ]
     },
     "execution_count": 11,
     "metadata": {},
     "output_type": "execute_result"
    }
   ],
   "source": [
    "roc_auc_score(y_test, model.predict_proba(X_test)[:, 1])"
   ]
  },
  {
   "cell_type": "markdown",
   "metadata": {},
   "source": [
    "This is saying that \"for any given crash event in the dataset, there is a 74.5% chance that we would predict it to have a higher probability of being a crash than we would for any given non-crash event in the dataset.\"\n",
    "\n",
    "Cool, so with that intepretation the result we're seeing from the cross validation now makes total sense. The best it was able to do on the cross-validation set was a score of ~73%. We also got a score of 75.5% on our own validation set.\n",
    "\n",
    "Let's now look at which features the classifier learned to find important. These features are ranked by their ability to reduce the size of the overall criterion."
   ]
  },
  {
   "cell_type": "code",
   "execution_count": 12,
   "metadata": {},
   "outputs": [
    {
     "data": {
      "text/plain": [
       "EVENT_TIME      0.187256\n",
       "EVENT_DATE      0.100253\n",
       "TAVG            0.099170\n",
       "PGTM            0.094554\n",
       "PRCP            0.093269\n",
       "AWND            0.093260\n",
       "primary         0.053714\n",
       "residential     0.047198\n",
       "secondary       0.046968\n",
       "SNWD            0.034973\n",
       "cycleway        0.030805\n",
       "WT08            0.014165\n",
       "unclassified    0.012269\n",
       "WT01            0.012075\n",
       "service         0.011978\n",
       "dtype: float64"
      ]
     },
     "execution_count": 12,
     "metadata": {},
     "output_type": "execute_result"
    }
   ],
   "source": [
    "pd.Series(model.best_estimator_.feature_importances_, index=model.best_estimator_.feature_names_in_).sort_values(ascending=False).head(n=15)"
   ]
  },
  {
   "cell_type": "code",
   "execution_count": 18,
   "metadata": {},
   "outputs": [
    {
     "data": {
      "image/png": "[encoded data removed]",
      "text/plain": [
       "<Figure size 864x648 with 2 Axes>"
      ]
     },
     "metadata": {
      "needs_background": "light"
     },
     "output_type": "display_data"
    }
   ],
   "source": [
    "import matplotlib.pyplot as plt\n",
    "import seaborn as sns\n",
    "plt.subplots(figsize=(12, 9))\n",
    "sns.heatmap(pd.concat((X, y), axis=1).corr())\n",
    "plt.savefig('corr.png')"
   ]
  },
  {
   "cell_type": "code",
   "execution_count": 19,
   "metadata": {},
   "outputs": [],
   "source": [
    "import pickle\n",
    "with open('../../data/random_forest_model.pkl', 'wb') as f:\n",
    "    \n",
    "    pickle.dump(model, f)"
   ]
  }
 ],
 "metadata": {
  "interpreter": {
   "hash": "ce1bf4d16d860ac636a5410af7aa5970cefc547016c85a03eba855d74c743df7"
  },
  "kernelspec": {
   "display_name": "Python 3.8.12 64-bit ('spokenv': conda)",
   "language": "python",
   "name": "python3"
  },
  "language_info": {
   "codemirror_mode": {
    "name": "ipython",
    "version": 3
   },
   "file_extension": ".py",
   "mimetype": "text/x-python",
   "name": "python",
   "nbconvert_exporter": "python",
   "pygments_lexer": "ipython3",
   "version": "3.8.12"
  },
  "orig_nbformat": 4
 },
 "nbformat": 4,
 "nbformat_minor": 2
}
