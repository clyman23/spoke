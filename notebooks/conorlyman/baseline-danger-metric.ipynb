{
 "cells": [
  {
   "cell_type": "markdown",
   "id": "8282cb08",
   "metadata": {},
   "source": [
    "## Baseline danger metric\n",
    "Development of baseline danger metric for a bike ride"
   ]
  },
  {
   "cell_type": "code",
   "execution_count": 1,
   "id": "dc099522",
   "metadata": {},
   "outputs": [],
   "source": [
    "import pandas as pd\n",
    "import osmnx as ox\n",
    "import numpy as np\n",
    "import matplotlib.pyplot as plt"
   ]
  },
  {
   "cell_type": "code",
   "execution_count": 2,
   "id": "8e63f6d1",
   "metadata": {},
   "outputs": [],
   "source": [
    "CRASHES_FILEPATH = \"../../data/Motor_Vehicle_Collisions_-_Crashes.csv\""
   ]
  },
  {
   "cell_type": "markdown",
   "id": "6990b04d",
   "metadata": {},
   "source": [
    "# Use helper funcs from .py files"
   ]
  },
  {
   "cell_type": "code",
   "execution_count": 3,
   "id": "0d6c3ff1",
   "metadata": {},
   "outputs": [
    {
     "name": "stdout",
     "output_type": "stream",
     "text": [
      "/Users/conorlyman/school/aml/spoke/notebooks/conorlyman\n",
      "['/Users/conorlyman/school/aml/spoke/notebooks/conorlyman', '/Users/conorlyman/opt/anaconda3/envs/spokenv/lib/python38.zip', '/Users/conorlyman/opt/anaconda3/envs/spokenv/lib/python3.8', '/Users/conorlyman/opt/anaconda3/envs/spokenv/lib/python3.8/lib-dynload', '', '/Users/conorlyman/opt/anaconda3/envs/spokenv/lib/python3.8/site-packages', '/Users/conorlyman/opt/anaconda3/envs/spokenv/lib/python3.8/site-packages/IPython/extensions', '/Users/conorlyman/.ipython', '/Users/conorlyman/school/aml/spoke']\n"
     ]
    }
   ],
   "source": [
    "import os\n",
    "print(os.getcwd())\n",
    "\n",
    "import sys\n",
    "module_path = os.path.abspath(os.path.join('../..'))\n",
    "if module_path not in sys.path:\n",
    "    sys.path.append(module_path)\n",
    "    \n",
    "print(sys.path)"
   ]
  },
  {
   "cell_type": "code",
   "execution_count": 4,
   "id": "a426f5f7",
   "metadata": {},
   "outputs": [],
   "source": [
    "from spoke.bike_route import BikeRoute"
   ]
  },
  {
   "cell_type": "code",
   "execution_count": 5,
   "id": "b221c790",
   "metadata": {},
   "outputs": [
    {
     "name": "stderr",
     "output_type": "stream",
     "text": [
      "/Users/conorlyman/opt/anaconda3/envs/spokenv/lib/python3.8/site-packages/osmnx/utils_geo.py:335: ShapelyDeprecationWarning: Iteration over multi-part geometries is deprecated and will be removed in Shapely 2.0. Use the `geoms` property to access the constituent parts of a multi-part geometry.\n",
      "  for polygon in geometry:\n",
      "/Users/conorlyman/opt/anaconda3/envs/spokenv/lib/python3.8/site-packages/osmnx/utils_geo.py:426: ShapelyDeprecationWarning: Iteration over multi-part geometries is deprecated and will be removed in Shapely 2.0. Use the `geoms` property to access the constituent parts of a multi-part geometry.\n",
      "  for poly in multipoly:\n",
      "/Users/conorlyman/opt/anaconda3/envs/spokenv/lib/python3.8/site-packages/osmnx/utils_geo.py:426: ShapelyDeprecationWarning: Iteration over multi-part geometries is deprecated and will be removed in Shapely 2.0. Use the `geoms` property to access the constituent parts of a multi-part geometry.\n",
      "  for poly in multipoly:\n"
     ]
    }
   ],
   "source": [
    "G = ox.graph_from_address(\"420 East 73rd Street, New York, New York 10021\", network_type=\"bike\", dist=1500)"
   ]
  },
  {
   "cell_type": "code",
   "execution_count": 6,
   "id": "fe793f0c",
   "metadata": {},
   "outputs": [],
   "source": [
    "starting_point_coord = (40.768998, -73.954808)\n",
    "ending_point_coord = (40.771166, -73.964105)"
   ]
  },
  {
   "cell_type": "code",
   "execution_count": 7,
   "id": "eb7777f2",
   "metadata": {},
   "outputs": [],
   "source": [
    "bike_route = BikeRoute(G, starting_point_coord, ending_point_coord)"
   ]
  },
  {
   "cell_type": "code",
   "execution_count": 8,
   "id": "908d1e3a",
   "metadata": {},
   "outputs": [
    {
     "data": {
      "text/plain": [
       "[42439567,\n",
       " 42430075,\n",
       " 6263083538,\n",
       " 6176390171,\n",
       " 42430068,\n",
       " 42439563,\n",
       " 42438802,\n",
       " 42436489,\n",
       " 42436486,\n",
       " 42436484,\n",
       " 42436481,\n",
       " 596776057]"
      ]
     },
     "execution_count": 8,
     "metadata": {},
     "output_type": "execute_result"
    }
   ],
   "source": [
    "bike_route.get_route()"
   ]
  },
  {
   "cell_type": "code",
   "execution_count": 9,
   "id": "34b269f1",
   "metadata": {},
   "outputs": [],
   "source": [
    "import spoke.crashes as crash_helpers"
   ]
  },
  {
   "cell_type": "code",
   "execution_count": 10,
   "id": "4293f7b1",
   "metadata": {},
   "outputs": [
    {
     "name": "stderr",
     "output_type": "stream",
     "text": [
      "/var/folders/q4/7911fbv57wv3c68srp1cdlkm0000gn/T/ipykernel_48693/548374056.py:1: DtypeWarning: Columns (3) have mixed types.Specify dtype option on import or set low_memory=False.\n",
      "  crashes_df = crash_helpers.get_crashes(CRASHES_FILEPATH)\n"
     ]
    }
   ],
   "source": [
    "crashes_df = crash_helpers.get_crashes(CRASHES_FILEPATH)"
   ]
  },
  {
   "cell_type": "code",
   "execution_count": 11,
   "id": "0627849f",
   "metadata": {},
   "outputs": [
    {
     "data": {
      "text/html": [
       "<div>\n",
       "<style scoped>\n",
       "    .dataframe tbody tr th:only-of-type {\n",
       "        vertical-align: middle;\n",
       "    }\n",
       "\n",
       "    .dataframe tbody tr th {\n",
       "        vertical-align: top;\n",
       "    }\n",
       "\n",
       "    .dataframe thead th {\n",
       "        text-align: right;\n",
       "    }\n",
       "</style>\n",
       "<table border=\"1\" class=\"dataframe\">\n",
       "  <thead>\n",
       "    <tr style=\"text-align: right;\">\n",
       "      <th></th>\n",
       "      <th>CRASH DATE</th>\n",
       "      <th>CRASH TIME</th>\n",
       "      <th>BOROUGH</th>\n",
       "      <th>ZIP CODE</th>\n",
       "      <th>LATITUDE</th>\n",
       "      <th>LONGITUDE</th>\n",
       "      <th>LOCATION</th>\n",
       "      <th>ON STREET NAME</th>\n",
       "      <th>CROSS STREET NAME</th>\n",
       "      <th>OFF STREET NAME</th>\n",
       "      <th>...</th>\n",
       "      <th>CONTRIBUTING FACTOR VEHICLE 2</th>\n",
       "      <th>CONTRIBUTING FACTOR VEHICLE 3</th>\n",
       "      <th>CONTRIBUTING FACTOR VEHICLE 4</th>\n",
       "      <th>CONTRIBUTING FACTOR VEHICLE 5</th>\n",
       "      <th>COLLISION_ID</th>\n",
       "      <th>VEHICLE TYPE CODE 1</th>\n",
       "      <th>VEHICLE TYPE CODE 2</th>\n",
       "      <th>VEHICLE TYPE CODE 3</th>\n",
       "      <th>VEHICLE TYPE CODE 4</th>\n",
       "      <th>VEHICLE TYPE CODE 5</th>\n",
       "    </tr>\n",
       "  </thead>\n",
       "  <tbody>\n",
       "    <tr>\n",
       "      <th>30</th>\n",
       "      <td>04/16/2021</td>\n",
       "      <td>21:20</td>\n",
       "      <td>MANHATTAN</td>\n",
       "      <td>10025.0</td>\n",
       "      <td>40.793350</td>\n",
       "      <td>-73.972750</td>\n",
       "      <td>(40.79335, -73.97275)</td>\n",
       "      <td>WEST 94 STREET</td>\n",
       "      <td>BROADWAY</td>\n",
       "      <td>NaN</td>\n",
       "      <td>...</td>\n",
       "      <td>Unspecified</td>\n",
       "      <td>NaN</td>\n",
       "      <td>NaN</td>\n",
       "      <td>NaN</td>\n",
       "      <td>4407958</td>\n",
       "      <td>Sedan</td>\n",
       "      <td>NaN</td>\n",
       "      <td>NaN</td>\n",
       "      <td>NaN</td>\n",
       "      <td>NaN</td>\n",
       "    </tr>\n",
       "    <tr>\n",
       "      <th>31</th>\n",
       "      <td>04/16/2021</td>\n",
       "      <td>17:20</td>\n",
       "      <td>MANHATTAN</td>\n",
       "      <td>10012.0</td>\n",
       "      <td>40.725380</td>\n",
       "      <td>-74.000110</td>\n",
       "      <td>(40.72538, -74.00011)</td>\n",
       "      <td>PRINCE STREET</td>\n",
       "      <td>WOOSTER STREET</td>\n",
       "      <td>NaN</td>\n",
       "      <td>...</td>\n",
       "      <td>Unspecified</td>\n",
       "      <td>NaN</td>\n",
       "      <td>NaN</td>\n",
       "      <td>NaN</td>\n",
       "      <td>4407885</td>\n",
       "      <td>Station Wagon/Sport Utility Vehicle</td>\n",
       "      <td>Sedan</td>\n",
       "      <td>NaN</td>\n",
       "      <td>NaN</td>\n",
       "      <td>NaN</td>\n",
       "    </tr>\n",
       "    <tr>\n",
       "      <th>70</th>\n",
       "      <td>04/16/2021</td>\n",
       "      <td>20:55</td>\n",
       "      <td>MANHATTAN</td>\n",
       "      <td>10032.0</td>\n",
       "      <td>40.841717</td>\n",
       "      <td>-73.944350</td>\n",
       "      <td>(40.841717, -73.94435)</td>\n",
       "      <td>NaN</td>\n",
       "      <td>NaN</td>\n",
       "      <td>1051      RIVERSIDE DRIVE</td>\n",
       "      <td>...</td>\n",
       "      <td>Unspecified</td>\n",
       "      <td>NaN</td>\n",
       "      <td>NaN</td>\n",
       "      <td>NaN</td>\n",
       "      <td>4408280</td>\n",
       "      <td>Sedan</td>\n",
       "      <td>Station Wagon/Sport Utility Vehicle</td>\n",
       "      <td>NaN</td>\n",
       "      <td>NaN</td>\n",
       "      <td>NaN</td>\n",
       "    </tr>\n",
       "    <tr>\n",
       "      <th>80</th>\n",
       "      <td>04/15/2021</td>\n",
       "      <td>22:25</td>\n",
       "      <td>MANHATTAN</td>\n",
       "      <td>10036.0</td>\n",
       "      <td>40.760822</td>\n",
       "      <td>-73.998320</td>\n",
       "      <td>(40.760822, -73.99832)</td>\n",
       "      <td>WEST 42 STREET</td>\n",
       "      <td>11 AVENUE</td>\n",
       "      <td>NaN</td>\n",
       "      <td>...</td>\n",
       "      <td>NaN</td>\n",
       "      <td>NaN</td>\n",
       "      <td>NaN</td>\n",
       "      <td>NaN</td>\n",
       "      <td>4407830</td>\n",
       "      <td>Sedan</td>\n",
       "      <td>NaN</td>\n",
       "      <td>NaN</td>\n",
       "      <td>NaN</td>\n",
       "      <td>NaN</td>\n",
       "    </tr>\n",
       "    <tr>\n",
       "      <th>81</th>\n",
       "      <td>04/14/2021</td>\n",
       "      <td>10:09</td>\n",
       "      <td>MANHATTAN</td>\n",
       "      <td>10016.0</td>\n",
       "      <td>40.746080</td>\n",
       "      <td>-73.974945</td>\n",
       "      <td>(40.74608, -73.974945)</td>\n",
       "      <td>2 AVENUE</td>\n",
       "      <td>EAST 36 STREET</td>\n",
       "      <td>NaN</td>\n",
       "      <td>...</td>\n",
       "      <td>Unspecified</td>\n",
       "      <td>NaN</td>\n",
       "      <td>NaN</td>\n",
       "      <td>NaN</td>\n",
       "      <td>4407282</td>\n",
       "      <td>Tow Truck / Wrecker</td>\n",
       "      <td>Dump</td>\n",
       "      <td>NaN</td>\n",
       "      <td>NaN</td>\n",
       "      <td>NaN</td>\n",
       "    </tr>\n",
       "  </tbody>\n",
       "</table>\n",
       "<p>5 rows × 29 columns</p>\n",
       "</div>"
      ],
      "text/plain": [
       "    CRASH DATE CRASH TIME    BOROUGH ZIP CODE   LATITUDE  LONGITUDE  \\\n",
       "30  04/16/2021      21:20  MANHATTAN  10025.0  40.793350 -73.972750   \n",
       "31  04/16/2021      17:20  MANHATTAN  10012.0  40.725380 -74.000110   \n",
       "70  04/16/2021      20:55  MANHATTAN  10032.0  40.841717 -73.944350   \n",
       "80  04/15/2021      22:25  MANHATTAN  10036.0  40.760822 -73.998320   \n",
       "81  04/14/2021      10:09  MANHATTAN  10016.0  40.746080 -73.974945   \n",
       "\n",
       "                  LOCATION  ON STREET NAME CROSS STREET NAME  \\\n",
       "30   (40.79335, -73.97275)  WEST 94 STREET          BROADWAY   \n",
       "31   (40.72538, -74.00011)   PRINCE STREET    WOOSTER STREET   \n",
       "70  (40.841717, -73.94435)             NaN               NaN   \n",
       "80  (40.760822, -73.99832)  WEST 42 STREET         11 AVENUE   \n",
       "81  (40.74608, -73.974945)        2 AVENUE    EAST 36 STREET   \n",
       "\n",
       "              OFF STREET NAME  ...  CONTRIBUTING FACTOR VEHICLE 2  \\\n",
       "30                        NaN  ...                    Unspecified   \n",
       "31                        NaN  ...                    Unspecified   \n",
       "70  1051      RIVERSIDE DRIVE  ...                    Unspecified   \n",
       "80                        NaN  ...                            NaN   \n",
       "81                        NaN  ...                    Unspecified   \n",
       "\n",
       "    CONTRIBUTING FACTOR VEHICLE 3  CONTRIBUTING FACTOR VEHICLE 4  \\\n",
       "30                            NaN                            NaN   \n",
       "31                            NaN                            NaN   \n",
       "70                            NaN                            NaN   \n",
       "80                            NaN                            NaN   \n",
       "81                            NaN                            NaN   \n",
       "\n",
       "    CONTRIBUTING FACTOR VEHICLE 5  COLLISION_ID  \\\n",
       "30                            NaN       4407958   \n",
       "31                            NaN       4407885   \n",
       "70                            NaN       4408280   \n",
       "80                            NaN       4407830   \n",
       "81                            NaN       4407282   \n",
       "\n",
       "                    VEHICLE TYPE CODE 1                  VEHICLE TYPE CODE 2  \\\n",
       "30                                Sedan                                  NaN   \n",
       "31  Station Wagon/Sport Utility Vehicle                                Sedan   \n",
       "70                                Sedan  Station Wagon/Sport Utility Vehicle   \n",
       "80                                Sedan                                  NaN   \n",
       "81                  Tow Truck / Wrecker                                 Dump   \n",
       "\n",
       "    VEHICLE TYPE CODE 3 VEHICLE TYPE CODE 4 VEHICLE TYPE CODE 5  \n",
       "30                  NaN                 NaN                 NaN  \n",
       "31                  NaN                 NaN                 NaN  \n",
       "70                  NaN                 NaN                 NaN  \n",
       "80                  NaN                 NaN                 NaN  \n",
       "81                  NaN                 NaN                 NaN  \n",
       "\n",
       "[5 rows x 29 columns]"
      ]
     },
     "execution_count": 11,
     "metadata": {},
     "output_type": "execute_result"
    }
   ],
   "source": [
    "manhattan_crashes_df = crash_helpers.get_borough_crashes(crashes_df, \"manhattan\")\n",
    "manhattan_crashes_df.head()"
   ]
  },
  {
   "cell_type": "code",
   "execution_count": 12,
   "id": "909ff657",
   "metadata": {},
   "outputs": [],
   "source": [
    "manhattan_bike_crashes_df = crash_helpers.get_bike_crashes(manhattan_crashes_df)"
   ]
  },
  {
   "cell_type": "code",
   "execution_count": 13,
   "id": "0236636e",
   "metadata": {},
   "outputs": [
    {
     "name": "stderr",
     "output_type": "stream",
     "text": [
      "/var/folders/q4/7911fbv57wv3c68srp1cdlkm0000gn/T/ipykernel_48693/319154683.py:1: SettingWithCopyWarning: \n",
      "A value is trying to be set on a copy of a slice from a DataFrame.\n",
      "Try using .loc[row_indexer,col_indexer] = value instead\n",
      "\n",
      "See the caveats in the documentation: https://pandas.pydata.org/pandas-docs/stable/user_guide/indexing.html#returning-a-view-versus-a-copy\n",
      "  manhattan_bike_crashes_df[\"crash_node\"] = crash_helpers.get_crash_nodes(G, manhattan_bike_crashes_df)\n"
     ]
    }
   ],
   "source": [
    "manhattan_bike_crashes_df[\"crash_node\"] = crash_helpers.get_crash_nodes(G, manhattan_bike_crashes_df)"
   ]
  },
  {
   "cell_type": "code",
   "execution_count": 14,
   "id": "e027bf09",
   "metadata": {},
   "outputs": [
    {
     "data": {
      "text/html": [
       "<div>\n",
       "<style scoped>\n",
       "    .dataframe tbody tr th:only-of-type {\n",
       "        vertical-align: middle;\n",
       "    }\n",
       "\n",
       "    .dataframe tbody tr th {\n",
       "        vertical-align: top;\n",
       "    }\n",
       "\n",
       "    .dataframe thead th {\n",
       "        text-align: right;\n",
       "    }\n",
       "</style>\n",
       "<table border=\"1\" class=\"dataframe\">\n",
       "  <thead>\n",
       "    <tr style=\"text-align: right;\">\n",
       "      <th></th>\n",
       "      <th>CRASH DATE</th>\n",
       "      <th>CRASH TIME</th>\n",
       "      <th>BOROUGH</th>\n",
       "      <th>ZIP CODE</th>\n",
       "      <th>LATITUDE</th>\n",
       "      <th>LONGITUDE</th>\n",
       "      <th>LOCATION</th>\n",
       "      <th>ON STREET NAME</th>\n",
       "      <th>CROSS STREET NAME</th>\n",
       "      <th>OFF STREET NAME</th>\n",
       "      <th>...</th>\n",
       "      <th>CONTRIBUTING FACTOR VEHICLE 3</th>\n",
       "      <th>CONTRIBUTING FACTOR VEHICLE 4</th>\n",
       "      <th>CONTRIBUTING FACTOR VEHICLE 5</th>\n",
       "      <th>COLLISION_ID</th>\n",
       "      <th>VEHICLE TYPE CODE 1</th>\n",
       "      <th>VEHICLE TYPE CODE 2</th>\n",
       "      <th>VEHICLE TYPE CODE 3</th>\n",
       "      <th>VEHICLE TYPE CODE 4</th>\n",
       "      <th>VEHICLE TYPE CODE 5</th>\n",
       "      <th>crash_node</th>\n",
       "    </tr>\n",
       "  </thead>\n",
       "  <tbody>\n",
       "    <tr>\n",
       "      <th>501</th>\n",
       "      <td>04/01/2021</td>\n",
       "      <td>15:10</td>\n",
       "      <td>MANHATTAN</td>\n",
       "      <td>10016.0</td>\n",
       "      <td>40.740580</td>\n",
       "      <td>-73.978935</td>\n",
       "      <td>(40.74058, -73.978935)</td>\n",
       "      <td>NaN</td>\n",
       "      <td>NaN</td>\n",
       "      <td>484       2 AVENUE</td>\n",
       "      <td>...</td>\n",
       "      <td>NaN</td>\n",
       "      <td>NaN</td>\n",
       "      <td>NaN</td>\n",
       "      <td>4408084</td>\n",
       "      <td>Sedan</td>\n",
       "      <td>Bike</td>\n",
       "      <td>NaN</td>\n",
       "      <td>NaN</td>\n",
       "      <td>NaN</td>\n",
       "      <td>42448813</td>\n",
       "    </tr>\n",
       "    <tr>\n",
       "      <th>846</th>\n",
       "      <td>04/17/2021</td>\n",
       "      <td>21:25</td>\n",
       "      <td>MANHATTAN</td>\n",
       "      <td>10022.0</td>\n",
       "      <td>40.757810</td>\n",
       "      <td>-73.973530</td>\n",
       "      <td>(40.75781, -73.97353)</td>\n",
       "      <td>EAST 51 STREET</td>\n",
       "      <td>PARK AVENUE</td>\n",
       "      <td>NaN</td>\n",
       "      <td>...</td>\n",
       "      <td>NaN</td>\n",
       "      <td>NaN</td>\n",
       "      <td>NaN</td>\n",
       "      <td>4408436</td>\n",
       "      <td>Sedan</td>\n",
       "      <td>Bike</td>\n",
       "      <td>NaN</td>\n",
       "      <td>NaN</td>\n",
       "      <td>NaN</td>\n",
       "      <td>42440459</td>\n",
       "    </tr>\n",
       "    <tr>\n",
       "      <th>865</th>\n",
       "      <td>04/17/2021</td>\n",
       "      <td>19:37</td>\n",
       "      <td>MANHATTAN</td>\n",
       "      <td>10012.0</td>\n",
       "      <td>40.724968</td>\n",
       "      <td>-74.001580</td>\n",
       "      <td>(40.724968, -74.00158)</td>\n",
       "      <td>NaN</td>\n",
       "      <td>NaN</td>\n",
       "      <td>415       WEST BROADWAY</td>\n",
       "      <td>...</td>\n",
       "      <td>NaN</td>\n",
       "      <td>NaN</td>\n",
       "      <td>NaN</td>\n",
       "      <td>4408181</td>\n",
       "      <td>Sedan</td>\n",
       "      <td>Bike</td>\n",
       "      <td>NaN</td>\n",
       "      <td>NaN</td>\n",
       "      <td>NaN</td>\n",
       "      <td>42448813</td>\n",
       "    </tr>\n",
       "    <tr>\n",
       "      <th>891</th>\n",
       "      <td>04/16/2021</td>\n",
       "      <td>10:00</td>\n",
       "      <td>MANHATTAN</td>\n",
       "      <td>10019.0</td>\n",
       "      <td>40.764626</td>\n",
       "      <td>-73.995550</td>\n",
       "      <td>(40.764626, -73.99555)</td>\n",
       "      <td>11 AVENUE</td>\n",
       "      <td>WEST 48 STREET</td>\n",
       "      <td>NaN</td>\n",
       "      <td>...</td>\n",
       "      <td>NaN</td>\n",
       "      <td>NaN</td>\n",
       "      <td>NaN</td>\n",
       "      <td>4408438</td>\n",
       "      <td>Station Wagon/Sport Utility Vehicle</td>\n",
       "      <td>Bike</td>\n",
       "      <td>NaN</td>\n",
       "      <td>NaN</td>\n",
       "      <td>NaN</td>\n",
       "      <td>8254176966</td>\n",
       "    </tr>\n",
       "    <tr>\n",
       "      <th>929</th>\n",
       "      <td>04/17/2021</td>\n",
       "      <td>17:50</td>\n",
       "      <td>MANHATTAN</td>\n",
       "      <td>10029.0</td>\n",
       "      <td>40.799984</td>\n",
       "      <td>-73.944855</td>\n",
       "      <td>(40.799984, -73.944855)</td>\n",
       "      <td>EAST 116 STREET</td>\n",
       "      <td>MADISON AVENUE</td>\n",
       "      <td>NaN</td>\n",
       "      <td>...</td>\n",
       "      <td>NaN</td>\n",
       "      <td>NaN</td>\n",
       "      <td>NaN</td>\n",
       "      <td>4408507</td>\n",
       "      <td>E-Bike</td>\n",
       "      <td>NaN</td>\n",
       "      <td>NaN</td>\n",
       "      <td>NaN</td>\n",
       "      <td>NaN</td>\n",
       "      <td>42443046</td>\n",
       "    </tr>\n",
       "  </tbody>\n",
       "</table>\n",
       "<p>5 rows × 30 columns</p>\n",
       "</div>"
      ],
      "text/plain": [
       "     CRASH DATE CRASH TIME    BOROUGH ZIP CODE   LATITUDE  LONGITUDE  \\\n",
       "501  04/01/2021      15:10  MANHATTAN  10016.0  40.740580 -73.978935   \n",
       "846  04/17/2021      21:25  MANHATTAN  10022.0  40.757810 -73.973530   \n",
       "865  04/17/2021      19:37  MANHATTAN  10012.0  40.724968 -74.001580   \n",
       "891  04/16/2021      10:00  MANHATTAN  10019.0  40.764626 -73.995550   \n",
       "929  04/17/2021      17:50  MANHATTAN  10029.0  40.799984 -73.944855   \n",
       "\n",
       "                    LOCATION   ON STREET NAME CROSS STREET NAME  \\\n",
       "501   (40.74058, -73.978935)              NaN               NaN   \n",
       "846    (40.75781, -73.97353)   EAST 51 STREET       PARK AVENUE   \n",
       "865   (40.724968, -74.00158)              NaN               NaN   \n",
       "891   (40.764626, -73.99555)        11 AVENUE    WEST 48 STREET   \n",
       "929  (40.799984, -73.944855)  EAST 116 STREET    MADISON AVENUE   \n",
       "\n",
       "             OFF STREET NAME  ...  CONTRIBUTING FACTOR VEHICLE 3  \\\n",
       "501       484       2 AVENUE  ...                            NaN   \n",
       "846                      NaN  ...                            NaN   \n",
       "865  415       WEST BROADWAY  ...                            NaN   \n",
       "891                      NaN  ...                            NaN   \n",
       "929                      NaN  ...                            NaN   \n",
       "\n",
       "     CONTRIBUTING FACTOR VEHICLE 4  CONTRIBUTING FACTOR VEHICLE 5  \\\n",
       "501                            NaN                            NaN   \n",
       "846                            NaN                            NaN   \n",
       "865                            NaN                            NaN   \n",
       "891                            NaN                            NaN   \n",
       "929                            NaN                            NaN   \n",
       "\n",
       "     COLLISION_ID                  VEHICLE TYPE CODE 1  VEHICLE TYPE CODE 2  \\\n",
       "501       4408084                                Sedan                 Bike   \n",
       "846       4408436                                Sedan                 Bike   \n",
       "865       4408181                                Sedan                 Bike   \n",
       "891       4408438  Station Wagon/Sport Utility Vehicle                 Bike   \n",
       "929       4408507                               E-Bike                  NaN   \n",
       "\n",
       "     VEHICLE TYPE CODE 3  VEHICLE TYPE CODE 4 VEHICLE TYPE CODE 5  crash_node  \n",
       "501                  NaN                  NaN                 NaN    42448813  \n",
       "846                  NaN                  NaN                 NaN    42440459  \n",
       "865                  NaN                  NaN                 NaN    42448813  \n",
       "891                  NaN                  NaN                 NaN  8254176966  \n",
       "929                  NaN                  NaN                 NaN    42443046  \n",
       "\n",
       "[5 rows x 30 columns]"
      ]
     },
     "execution_count": 14,
     "metadata": {},
     "output_type": "execute_result"
    }
   ],
   "source": [
    "manhattan_bike_crashes_df.head()"
   ]
  },
  {
   "cell_type": "code",
   "execution_count": 15,
   "id": "7690043a",
   "metadata": {},
   "outputs": [],
   "source": [
    "route = bike_route.get_route()"
   ]
  },
  {
   "cell_type": "code",
   "execution_count": 16,
   "id": "b4b5d8ea",
   "metadata": {},
   "outputs": [],
   "source": [
    "route_crashes = crash_helpers.get_route_crashes(manhattan_bike_crashes_df, route)"
   ]
  },
  {
   "cell_type": "code",
   "execution_count": 17,
   "id": "fe9dbbb2",
   "metadata": {},
   "outputs": [],
   "source": [
    "num_node_crashes = crash_helpers.get_num_node_crashes(route_crashes)"
   ]
  },
  {
   "cell_type": "code",
   "execution_count": 18,
   "id": "192cebed",
   "metadata": {},
   "outputs": [
    {
     "data": {
      "text/plain": [
       "['primary', 'residential', 'residential', 'primary']"
      ]
     },
     "execution_count": 18,
     "metadata": {},
     "output_type": "execute_result"
    }
   ],
   "source": [
    "bike_route.get_roads_at_node(42439563)"
   ]
  },
  {
   "cell_type": "code",
   "execution_count": 19,
   "id": "3222fa15",
   "metadata": {},
   "outputs": [
    {
     "data": {
      "text/plain": [
       "{'primary': 2, 'residential': 2}"
      ]
     },
     "execution_count": 19,
     "metadata": {},
     "output_type": "execute_result"
    }
   ],
   "source": [
    "bike_route.count_road_types(42439563)"
   ]
  },
  {
   "cell_type": "code",
   "execution_count": 20,
   "id": "4cbe0fa7",
   "metadata": {},
   "outputs": [],
   "source": [
    "node_crash_attrs = crash_helpers.get_node_crash_attributes(route_crashes, bike_route, G)"
   ]
  },
  {
   "cell_type": "code",
   "execution_count": 21,
   "id": "68458121",
   "metadata": {},
   "outputs": [
    {
     "data": {
      "text/plain": [
       "{42439563: {'num_crashes': 10, 'primary': 2, 'residential': 2},\n",
       " 42436489: {'num_crashes': 9, 'secondary': 4, 'primary': 2},\n",
       " 42436481: {'num_crashes': 7, 'secondary': 6},\n",
       " 42436486: {'num_crashes': 6, 'secondary': 4, 'primary': 2},\n",
       " 42430068: {'num_crashes': 6, 'primary': 2, 'residential': 2},\n",
       " 42439567: {'num_crashes': 5, 'primary': 2, 'residential': 2},\n",
       " 42436484: {'num_crashes': 5, 'secondary': 6},\n",
       " 42438802: {'num_crashes': 4, 'primary': 2, 'residential': 2},\n",
       " 42430075: {'num_crashes': 2, 'residential': 2, 'primary': 2}}"
      ]
     },
     "execution_count": 21,
     "metadata": {},
     "output_type": "execute_result"
    }
   ],
   "source": [
    "node_crash_attrs"
   ]
  },
  {
   "cell_type": "code",
   "execution_count": 24,
   "id": "38f302ea",
   "metadata": {},
   "outputs": [],
   "source": [
    "node_crash_attrs_df = pd.DataFrame.from_dict(node_crash_attrs, orient=\"index\").fillna(0)"
   ]
  },
  {
   "cell_type": "code",
   "execution_count": 25,
   "id": "4faaad3e",
   "metadata": {},
   "outputs": [
    {
     "data": {
      "text/html": [
       "<div>\n",
       "<style scoped>\n",
       "    .dataframe tbody tr th:only-of-type {\n",
       "        vertical-align: middle;\n",
       "    }\n",
       "\n",
       "    .dataframe tbody tr th {\n",
       "        vertical-align: top;\n",
       "    }\n",
       "\n",
       "    .dataframe thead th {\n",
       "        text-align: right;\n",
       "    }\n",
       "</style>\n",
       "<table border=\"1\" class=\"dataframe\">\n",
       "  <thead>\n",
       "    <tr style=\"text-align: right;\">\n",
       "      <th></th>\n",
       "      <th>num_crashes</th>\n",
       "      <th>primary</th>\n",
       "      <th>residential</th>\n",
       "      <th>secondary</th>\n",
       "    </tr>\n",
       "  </thead>\n",
       "  <tbody>\n",
       "    <tr>\n",
       "      <th>42439563</th>\n",
       "      <td>10</td>\n",
       "      <td>2.0</td>\n",
       "      <td>2.0</td>\n",
       "      <td>0.0</td>\n",
       "    </tr>\n",
       "    <tr>\n",
       "      <th>42436489</th>\n",
       "      <td>9</td>\n",
       "      <td>2.0</td>\n",
       "      <td>0.0</td>\n",
       "      <td>4.0</td>\n",
       "    </tr>\n",
       "    <tr>\n",
       "      <th>42436481</th>\n",
       "      <td>7</td>\n",
       "      <td>0.0</td>\n",
       "      <td>0.0</td>\n",
       "      <td>6.0</td>\n",
       "    </tr>\n",
       "    <tr>\n",
       "      <th>42436486</th>\n",
       "      <td>6</td>\n",
       "      <td>2.0</td>\n",
       "      <td>0.0</td>\n",
       "      <td>4.0</td>\n",
       "    </tr>\n",
       "    <tr>\n",
       "      <th>42430068</th>\n",
       "      <td>6</td>\n",
       "      <td>2.0</td>\n",
       "      <td>2.0</td>\n",
       "      <td>0.0</td>\n",
       "    </tr>\n",
       "    <tr>\n",
       "      <th>42439567</th>\n",
       "      <td>5</td>\n",
       "      <td>2.0</td>\n",
       "      <td>2.0</td>\n",
       "      <td>0.0</td>\n",
       "    </tr>\n",
       "    <tr>\n",
       "      <th>42436484</th>\n",
       "      <td>5</td>\n",
       "      <td>0.0</td>\n",
       "      <td>0.0</td>\n",
       "      <td>6.0</td>\n",
       "    </tr>\n",
       "    <tr>\n",
       "      <th>42438802</th>\n",
       "      <td>4</td>\n",
       "      <td>2.0</td>\n",
       "      <td>2.0</td>\n",
       "      <td>0.0</td>\n",
       "    </tr>\n",
       "    <tr>\n",
       "      <th>42430075</th>\n",
       "      <td>2</td>\n",
       "      <td>2.0</td>\n",
       "      <td>2.0</td>\n",
       "      <td>0.0</td>\n",
       "    </tr>\n",
       "  </tbody>\n",
       "</table>\n",
       "</div>"
      ],
      "text/plain": [
       "          num_crashes  primary  residential  secondary\n",
       "42439563           10      2.0          2.0        0.0\n",
       "42436489            9      2.0          0.0        4.0\n",
       "42436481            7      0.0          0.0        6.0\n",
       "42436486            6      2.0          0.0        4.0\n",
       "42430068            6      2.0          2.0        0.0\n",
       "42439567            5      2.0          2.0        0.0\n",
       "42436484            5      0.0          0.0        6.0\n",
       "42438802            4      2.0          2.0        0.0\n",
       "42430075            2      2.0          2.0        0.0"
      ]
     },
     "execution_count": 25,
     "metadata": {},
     "output_type": "execute_result"
    }
   ],
   "source": [
    "node_crash_attrs_df"
   ]
  },
  {
   "cell_type": "markdown",
   "id": "621adb4c",
   "metadata": {},
   "source": [
    "# Linear Regression"
   ]
  },
  {
   "cell_type": "code",
   "execution_count": 26,
   "id": "ce400f74",
   "metadata": {},
   "outputs": [],
   "source": [
    "from sklearn.linear_model import LinearRegression"
   ]
  },
  {
   "cell_type": "code",
   "execution_count": 27,
   "id": "4e5ef076",
   "metadata": {},
   "outputs": [
    {
     "data": {
      "text/plain": [
       "LinearRegression()"
      ]
     },
     "execution_count": 27,
     "metadata": {},
     "output_type": "execute_result"
    }
   ],
   "source": [
    "reg = LinearRegression()\n",
    "reg.fit(node_crash_attrs_df.drop(\"num_crashes\", axis=1), node_crash_attrs_df[\"num_crashes\"])"
   ]
  },
  {
   "cell_type": "code",
   "execution_count": 28,
   "id": "cc90fa45",
   "metadata": {},
   "outputs": [
    {
     "data": {
      "text/plain": [
       "array([ 0.975, -0.6  ,  0.225])"
      ]
     },
     "execution_count": 28,
     "metadata": {},
     "output_type": "execute_result"
    }
   ],
   "source": [
    "reg.coef_"
   ]
  },
  {
   "cell_type": "code",
   "execution_count": 29,
   "id": "1afefaf9",
   "metadata": {},
   "outputs": [
    {
     "data": {
      "text/plain": [
       "4.649999999999999"
      ]
     },
     "execution_count": 29,
     "metadata": {},
     "output_type": "execute_result"
    }
   ],
   "source": [
    "reg.intercept_"
   ]
  },
  {
   "cell_type": "markdown",
   "id": "7ba7be9d",
   "metadata": {},
   "source": [
    "# Plot"
   ]
  },
  {
   "cell_type": "code",
   "execution_count": 36,
   "id": "893c94e6",
   "metadata": {},
   "outputs": [
    {
     "data": {
      "image/png": "[encoded data removed]",
      "text/plain": [
       "<Figure size 576x576 with 1 Axes>"
      ]
     },
     "metadata": {},
     "output_type": "display_data"
    }
   ],
   "source": [
    "fig, ax = ox.plot_graph_route(G, route, route_color=\"green\", route_alpha=0.75, show=False, close=False)\n",
    "ax.scatter(route_crashes[\"LONGITUDE\"], route_crashes[\"LATITUDE\"], marker=\"x\", c=\"red\")\n",
    "plt.show()"
   ]
  },
  {
   "cell_type": "code",
   "execution_count": null,
   "id": "da4b783e",
   "metadata": {},
   "outputs": [],
   "source": []
  }
 ],
 "metadata": {
  "kernelspec": {
   "display_name": "Python 3 (ipykernel)",
   "language": "python",
   "name": "python3"
  },
  "language_info": {
   "codemirror_mode": {
    "name": "ipython",
    "version": 3
   },
   "file_extension": ".py",
   "mimetype": "text/x-python",
   "name": "python",
   "nbconvert_exporter": "python",
   "pygments_lexer": "ipython3",
   "version": "3.8.12"
  }
 },
 "nbformat": 4,
 "nbformat_minor": 5
}
