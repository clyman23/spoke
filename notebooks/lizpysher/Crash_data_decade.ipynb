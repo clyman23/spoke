{
 "cells": [
  {
   "cell_type": "code",
   "execution_count": null,
   "id": "a82897f6-35c8-42f8-b067-d079e291e9b3",
   "metadata": {},
   "outputs": [],
   "source": []
  },
  {
   "cell_type": "code",
   "execution_count": 1,
   "id": "745f9398-8342-40a5-ac7e-782ff4d53cbe",
   "metadata": {},
   "outputs": [],
   "source": [
    "import pandas as pd"
   ]
  },
  {
   "cell_type": "code",
   "execution_count": 2,
   "id": "234ded9e-dd09-43be-8e5a-bb25e0749872",
   "metadata": {},
   "outputs": [],
   "source": [
    "TIME_PERIOD_START='2011-01-01'\n",
    "TIME_PERIOD_END='2021-11-01'"
   ]
  },
  {
   "cell_type": "code",
   "execution_count": null,
   "id": "d4d4eb6c-4482-4f68-a1f9-d3a40b9cfaf1",
   "metadata": {},
   "outputs": [],
   "source": [
    "crash_df = pd.read_csv('../../data/raw_data/Motor_Vehicle_Collisions_-_Crashes.csv', parse_dates=['CRASH DATE'], infer_datetime_format=True)"
   ]
  }
 ],
 "metadata": {
  "kernelspec": {
   "display_name": "Python 3",
   "language": "python",
   "name": "python3"
  },
  "language_info": {
   "codemirror_mode": {
    "name": "ipython",
    "version": 3
   },
   "file_extension": ".py",
   "mimetype": "text/x-python",
   "name": "python",
   "nbconvert_exporter": "python",
   "pygments_lexer": "ipython3",
   "version": "3.8.8"
  }
 },
 "nbformat": 4,
 "nbformat_minor": 5
}
