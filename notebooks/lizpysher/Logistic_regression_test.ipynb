{
 "cells": [
  {
   "cell_type": "code",
   "execution_count": 1,
   "id": "32d408f5-2cb8-452a-b6d0-38cf21a4cc0f",
   "metadata": {},
   "outputs": [],
   "source": [
    "# imports\n",
    "import pandas as pd\n",
    "import numpy as np\n",
    "import osmnx as ox\n",
    "import matplotlib.pyplot as plt\n",
    "import seaborn as sns\n",
    "import statsmodels.api as sm\n",
    "from sklearn.preprocessing import StandardScaler\n",
    "from sklearn.linear_model import LogisticRegression\n",
    "from sklearn.metrics import roc_auc_score\n",
    "\n",
    "# no max rows\n",
    "pd.set_option('display.max_rows', None)\n",
    "pd.set_option('display.max_columns', None)"
   ]
  },
  {
   "cell_type": "code",
   "execution_count": 2,
   "id": "bd769cd6-a4fc-4f28-8aa8-70810bc9ffd2",
   "metadata": {},
   "outputs": [
    {
     "name": "stdout",
     "output_type": "stream",
     "text": [
      "Requirement already satisfied: fastparquet in /Users/elizabethpysher/opt/anaconda3/lib/python3.8/site-packages (0.7.2)\n",
      "Requirement already satisfied: cramjam>=2.3.0 in /Users/elizabethpysher/opt/anaconda3/lib/python3.8/site-packages (from fastparquet) (2.5.0)\n",
      "Requirement already satisfied: numpy>=1.18 in /Users/elizabethpysher/opt/anaconda3/lib/python3.8/site-packages (from fastparquet) (1.21.4)\n",
      "Requirement already satisfied: fsspec in /Users/elizabethpysher/opt/anaconda3/lib/python3.8/site-packages (from fastparquet) (0.9.0)\n",
      "Requirement already satisfied: pandas>=1.1.0 in /Users/elizabethpysher/opt/anaconda3/lib/python3.8/site-packages (from fastparquet) (1.3.4)\n",
      "Requirement already satisfied: thrift>=0.11.0 in /Users/elizabethpysher/opt/anaconda3/lib/python3.8/site-packages (from fastparquet) (0.15.0)\n",
      "Requirement already satisfied: pytz>=2017.3 in /Users/elizabethpysher/opt/anaconda3/lib/python3.8/site-packages (from pandas>=1.1.0->fastparquet) (2021.1)\n",
      "Requirement already satisfied: python-dateutil>=2.7.3 in /Users/elizabethpysher/opt/anaconda3/lib/python3.8/site-packages (from pandas>=1.1.0->fastparquet) (2.8.1)\n",
      "Requirement already satisfied: six>=1.5 in /Users/elizabethpysher/opt/anaconda3/lib/python3.8/site-packages (from python-dateutil>=2.7.3->pandas>=1.1.0->fastparquet) (1.15.0)\n"
     ]
    }
   ],
   "source": [
    "# install\n",
    "!pip install fastparquet"
   ]
  },
  {
   "cell_type": "code",
   "execution_count": 3,
   "id": "66c63fa7-4834-4578-9f35-2ded72059f2c",
   "metadata": {},
   "outputs": [
    {
     "name": "stdout",
     "output_type": "stream",
     "text": [
      "train shape:  (13676984, 41)\n",
      "dev shape:  (4558995, 41)\n",
      "test shape:  (4558995, 41)\n"
     ]
    }
   ],
   "source": [
    "# load crash data\n",
    "train = pd.read_parquet(\"/Users/elizabethpysher/spoke/pipeline_data/2019_thru_2021/train.parquet\")\n",
    "dev = pd.read_parquet(\"/Users/elizabethpysher/spoke/pipeline_data/2019_thru_2021/eval.parquet\")\n",
    "test = pd.read_parquet(\"/Users/elizabethpysher/spoke/pipeline_data/2019_thru_2021/test.parquet\")\n",
    "\n",
    "# check shapes\n",
    "print(\"train shape: \", train.shape)\n",
    "print(\"dev shape: \", dev.shape)\n",
    "print(\"test shape: \", test.shape)"
   ]
  },
  {
   "cell_type": "code",
   "execution_count": 4,
   "id": "edcb9d18-f487-458b-93a7-6c309d00f8af",
   "metadata": {},
   "outputs": [
    {
     "data": {
      "text/html": [
       "<div>\n",
       "<style scoped>\n",
       "    .dataframe tbody tr th:only-of-type {\n",
       "        vertical-align: middle;\n",
       "    }\n",
       "\n",
       "    .dataframe tbody tr th {\n",
       "        vertical-align: top;\n",
       "    }\n",
       "\n",
       "    .dataframe thead th {\n",
       "        text-align: right;\n",
       "    }\n",
       "</style>\n",
       "<table border=\"1\" class=\"dataframe\">\n",
       "  <thead>\n",
       "    <tr style=\"text-align: right;\">\n",
       "      <th></th>\n",
       "      <th>EVENT_DATE</th>\n",
       "      <th>EVENT_TIME</th>\n",
       "      <th>IS_CRASH</th>\n",
       "      <th>AWND</th>\n",
       "      <th>PGTM</th>\n",
       "      <th>PRCP</th>\n",
       "      <th>SNOW</th>\n",
       "      <th>SNWD</th>\n",
       "      <th>TMAX</th>\n",
       "      <th>TMIN</th>\n",
       "      <th>TOBS</th>\n",
       "      <th>WT01</th>\n",
       "      <th>WT02</th>\n",
       "      <th>WT03</th>\n",
       "      <th>WT04</th>\n",
       "      <th>WT05</th>\n",
       "      <th>WT06</th>\n",
       "      <th>WT08</th>\n",
       "      <th>WT09</th>\n",
       "      <th>WT10</th>\n",
       "      <th>WT11</th>\n",
       "      <th>WT13</th>\n",
       "      <th>WT14</th>\n",
       "      <th>WT15</th>\n",
       "      <th>WT16</th>\n",
       "      <th>WT18</th>\n",
       "      <th>WT19</th>\n",
       "      <th>WT22</th>\n",
       "      <th>residential</th>\n",
       "      <th>service</th>\n",
       "      <th>secondary</th>\n",
       "      <th>primary</th>\n",
       "      <th>cycleway</th>\n",
       "      <th>unclassified</th>\n",
       "      <th>trunk</th>\n",
       "      <th>pedestrian</th>\n",
       "      <th>tertiary</th>\n",
       "      <th>path</th>\n",
       "      <th>secondary_link</th>\n",
       "      <th>living_street</th>\n",
       "      <th>primary_link</th>\n",
       "    </tr>\n",
       "  </thead>\n",
       "  <tbody>\n",
       "    <tr>\n",
       "      <th>2081026</th>\n",
       "      <td>340</td>\n",
       "      <td>31235.682</td>\n",
       "      <td>False</td>\n",
       "      <td>10.316250</td>\n",
       "      <td>2025.50</td>\n",
       "      <td>0.000127</td>\n",
       "      <td>0.0</td>\n",
       "      <td>0.417391</td>\n",
       "      <td>46.214286</td>\n",
       "      <td>31.857143</td>\n",
       "      <td>33.333333</td>\n",
       "      <td>0.0</td>\n",
       "      <td>0.0</td>\n",
       "      <td>0.0</td>\n",
       "      <td>0.0</td>\n",
       "      <td>0.0</td>\n",
       "      <td>0.0</td>\n",
       "      <td>0.0</td>\n",
       "      <td>0.0</td>\n",
       "      <td>0.0</td>\n",
       "      <td>0.0</td>\n",
       "      <td>0.0</td>\n",
       "      <td>0.0</td>\n",
       "      <td>0.0</td>\n",
       "      <td>0.0</td>\n",
       "      <td>0.0</td>\n",
       "      <td>0.0</td>\n",
       "      <td>0.0</td>\n",
       "      <td>2.0</td>\n",
       "      <td>0.0</td>\n",
       "      <td>4.0</td>\n",
       "      <td>0.0</td>\n",
       "      <td>0.0</td>\n",
       "      <td>0.0</td>\n",
       "      <td>0.0</td>\n",
       "      <td>0.0</td>\n",
       "      <td>0.0</td>\n",
       "      <td>0.0</td>\n",
       "      <td>0.0</td>\n",
       "      <td>0.0</td>\n",
       "      <td>0.0</td>\n",
       "    </tr>\n",
       "    <tr>\n",
       "      <th>13892716</th>\n",
       "      <td>158</td>\n",
       "      <td>61315.748</td>\n",
       "      <td>False</td>\n",
       "      <td>8.181429</td>\n",
       "      <td>1558.00</td>\n",
       "      <td>0.404432</td>\n",
       "      <td>0.0</td>\n",
       "      <td>0.000000</td>\n",
       "      <td>84.214286</td>\n",
       "      <td>66.928571</td>\n",
       "      <td>70.000000</td>\n",
       "      <td>1.0</td>\n",
       "      <td>1.0</td>\n",
       "      <td>1.0</td>\n",
       "      <td>0.0</td>\n",
       "      <td>0.0</td>\n",
       "      <td>0.0</td>\n",
       "      <td>1.0</td>\n",
       "      <td>0.0</td>\n",
       "      <td>0.0</td>\n",
       "      <td>0.0</td>\n",
       "      <td>0.0</td>\n",
       "      <td>0.0</td>\n",
       "      <td>0.0</td>\n",
       "      <td>0.0</td>\n",
       "      <td>0.0</td>\n",
       "      <td>0.0</td>\n",
       "      <td>0.0</td>\n",
       "      <td>2.0</td>\n",
       "      <td>0.0</td>\n",
       "      <td>4.0</td>\n",
       "      <td>0.0</td>\n",
       "      <td>0.0</td>\n",
       "      <td>0.0</td>\n",
       "      <td>0.0</td>\n",
       "      <td>0.0</td>\n",
       "      <td>0.0</td>\n",
       "      <td>0.0</td>\n",
       "      <td>0.0</td>\n",
       "      <td>0.0</td>\n",
       "      <td>0.0</td>\n",
       "    </tr>\n",
       "    <tr>\n",
       "      <th>11934664</th>\n",
       "      <td>333</td>\n",
       "      <td>83997.996</td>\n",
       "      <td>False</td>\n",
       "      <td>11.715000</td>\n",
       "      <td>521.50</td>\n",
       "      <td>0.000260</td>\n",
       "      <td>0.0</td>\n",
       "      <td>0.000000</td>\n",
       "      <td>45.500000</td>\n",
       "      <td>24.142857</td>\n",
       "      <td>30.400000</td>\n",
       "      <td>0.0</td>\n",
       "      <td>0.0</td>\n",
       "      <td>0.0</td>\n",
       "      <td>0.0</td>\n",
       "      <td>0.0</td>\n",
       "      <td>0.0</td>\n",
       "      <td>0.0</td>\n",
       "      <td>0.0</td>\n",
       "      <td>0.0</td>\n",
       "      <td>0.0</td>\n",
       "      <td>0.0</td>\n",
       "      <td>0.0</td>\n",
       "      <td>0.0</td>\n",
       "      <td>0.0</td>\n",
       "      <td>0.0</td>\n",
       "      <td>0.0</td>\n",
       "      <td>0.0</td>\n",
       "      <td>2.0</td>\n",
       "      <td>0.0</td>\n",
       "      <td>0.0</td>\n",
       "      <td>0.0</td>\n",
       "      <td>0.0</td>\n",
       "      <td>0.0</td>\n",
       "      <td>0.0</td>\n",
       "      <td>0.0</td>\n",
       "      <td>4.0</td>\n",
       "      <td>0.0</td>\n",
       "      <td>0.0</td>\n",
       "      <td>0.0</td>\n",
       "      <td>0.0</td>\n",
       "    </tr>\n",
       "    <tr>\n",
       "      <th>8636938</th>\n",
       "      <td>172</td>\n",
       "      <td>62606.920</td>\n",
       "      <td>False</td>\n",
       "      <td>10.065000</td>\n",
       "      <td>1303.50</td>\n",
       "      <td>0.647500</td>\n",
       "      <td>0.0</td>\n",
       "      <td>0.000000</td>\n",
       "      <td>79.076923</td>\n",
       "      <td>64.928571</td>\n",
       "      <td>68.500000</td>\n",
       "      <td>1.0</td>\n",
       "      <td>0.0</td>\n",
       "      <td>1.0</td>\n",
       "      <td>0.0</td>\n",
       "      <td>0.0</td>\n",
       "      <td>0.0</td>\n",
       "      <td>1.0</td>\n",
       "      <td>0.0</td>\n",
       "      <td>0.0</td>\n",
       "      <td>0.0</td>\n",
       "      <td>0.0</td>\n",
       "      <td>0.0</td>\n",
       "      <td>0.0</td>\n",
       "      <td>0.0</td>\n",
       "      <td>0.0</td>\n",
       "      <td>0.0</td>\n",
       "      <td>0.0</td>\n",
       "      <td>3.0</td>\n",
       "      <td>0.0</td>\n",
       "      <td>0.0</td>\n",
       "      <td>0.0</td>\n",
       "      <td>0.0</td>\n",
       "      <td>0.0</td>\n",
       "      <td>0.0</td>\n",
       "      <td>0.0</td>\n",
       "      <td>0.0</td>\n",
       "      <td>0.0</td>\n",
       "      <td>0.0</td>\n",
       "      <td>0.0</td>\n",
       "      <td>0.0</td>\n",
       "    </tr>\n",
       "    <tr>\n",
       "      <th>4407752</th>\n",
       "      <td>221</td>\n",
       "      <td>57980.122</td>\n",
       "      <td>False</td>\n",
       "      <td>6.598750</td>\n",
       "      <td>1176.75</td>\n",
       "      <td>0.120588</td>\n",
       "      <td>0.0</td>\n",
       "      <td>0.000000</td>\n",
       "      <td>85.428571</td>\n",
       "      <td>66.785714</td>\n",
       "      <td>67.833333</td>\n",
       "      <td>1.0</td>\n",
       "      <td>0.0</td>\n",
       "      <td>1.0</td>\n",
       "      <td>0.0</td>\n",
       "      <td>0.0</td>\n",
       "      <td>0.0</td>\n",
       "      <td>0.0</td>\n",
       "      <td>0.0</td>\n",
       "      <td>0.0</td>\n",
       "      <td>0.0</td>\n",
       "      <td>0.0</td>\n",
       "      <td>0.0</td>\n",
       "      <td>0.0</td>\n",
       "      <td>0.0</td>\n",
       "      <td>0.0</td>\n",
       "      <td>0.0</td>\n",
       "      <td>0.0</td>\n",
       "      <td>0.0</td>\n",
       "      <td>0.0</td>\n",
       "      <td>2.0</td>\n",
       "      <td>4.0</td>\n",
       "      <td>0.0</td>\n",
       "      <td>0.0</td>\n",
       "      <td>0.0</td>\n",
       "      <td>0.0</td>\n",
       "      <td>0.0</td>\n",
       "      <td>0.0</td>\n",
       "      <td>0.0</td>\n",
       "      <td>0.0</td>\n",
       "      <td>0.0</td>\n",
       "    </tr>\n",
       "  </tbody>\n",
       "</table>\n",
       "</div>"
      ],
      "text/plain": [
       "          EVENT_DATE  EVENT_TIME  IS_CRASH       AWND     PGTM      PRCP  \\\n",
       "2081026          340   31235.682     False  10.316250  2025.50  0.000127   \n",
       "13892716         158   61315.748     False   8.181429  1558.00  0.404432   \n",
       "11934664         333   83997.996     False  11.715000   521.50  0.000260   \n",
       "8636938          172   62606.920     False  10.065000  1303.50  0.647500   \n",
       "4407752          221   57980.122     False   6.598750  1176.75  0.120588   \n",
       "\n",
       "          SNOW      SNWD       TMAX       TMIN       TOBS  WT01  WT02  WT03  \\\n",
       "2081026    0.0  0.417391  46.214286  31.857143  33.333333   0.0   0.0   0.0   \n",
       "13892716   0.0  0.000000  84.214286  66.928571  70.000000   1.0   1.0   1.0   \n",
       "11934664   0.0  0.000000  45.500000  24.142857  30.400000   0.0   0.0   0.0   \n",
       "8636938    0.0  0.000000  79.076923  64.928571  68.500000   1.0   0.0   1.0   \n",
       "4407752    0.0  0.000000  85.428571  66.785714  67.833333   1.0   0.0   1.0   \n",
       "\n",
       "          WT04  WT05  WT06  WT08  WT09  WT10  WT11  WT13  WT14  WT15  WT16  \\\n",
       "2081026    0.0   0.0   0.0   0.0   0.0   0.0   0.0   0.0   0.0   0.0   0.0   \n",
       "13892716   0.0   0.0   0.0   1.0   0.0   0.0   0.0   0.0   0.0   0.0   0.0   \n",
       "11934664   0.0   0.0   0.0   0.0   0.0   0.0   0.0   0.0   0.0   0.0   0.0   \n",
       "8636938    0.0   0.0   0.0   1.0   0.0   0.0   0.0   0.0   0.0   0.0   0.0   \n",
       "4407752    0.0   0.0   0.0   0.0   0.0   0.0   0.0   0.0   0.0   0.0   0.0   \n",
       "\n",
       "          WT18  WT19  WT22  residential  service  secondary  primary  \\\n",
       "2081026    0.0   0.0   0.0          2.0      0.0        4.0      0.0   \n",
       "13892716   0.0   0.0   0.0          2.0      0.0        4.0      0.0   \n",
       "11934664   0.0   0.0   0.0          2.0      0.0        0.0      0.0   \n",
       "8636938    0.0   0.0   0.0          3.0      0.0        0.0      0.0   \n",
       "4407752    0.0   0.0   0.0          0.0      0.0        2.0      4.0   \n",
       "\n",
       "          cycleway  unclassified  trunk  pedestrian  tertiary  path  \\\n",
       "2081026        0.0           0.0    0.0         0.0       0.0   0.0   \n",
       "13892716       0.0           0.0    0.0         0.0       0.0   0.0   \n",
       "11934664       0.0           0.0    0.0         0.0       4.0   0.0   \n",
       "8636938        0.0           0.0    0.0         0.0       0.0   0.0   \n",
       "4407752        0.0           0.0    0.0         0.0       0.0   0.0   \n",
       "\n",
       "          secondary_link  living_street  primary_link  \n",
       "2081026              0.0            0.0           0.0  \n",
       "13892716             0.0            0.0           0.0  \n",
       "11934664             0.0            0.0           0.0  \n",
       "8636938              0.0            0.0           0.0  \n",
       "4407752              0.0            0.0           0.0  "
      ]
     },
     "execution_count": 4,
     "metadata": {},
     "output_type": "execute_result"
    }
   ],
   "source": [
    "# examine head\n",
    "train.head()"
   ]
  },
  {
   "cell_type": "code",
   "execution_count": 5,
   "id": "29c67c56-8b21-4198-8654-8ce2e63e8687",
   "metadata": {},
   "outputs": [
    {
     "data": {
      "text/html": [
       "<div>\n",
       "<style scoped>\n",
       "    .dataframe tbody tr th:only-of-type {\n",
       "        vertical-align: middle;\n",
       "    }\n",
       "\n",
       "    .dataframe tbody tr th {\n",
       "        vertical-align: top;\n",
       "    }\n",
       "\n",
       "    .dataframe thead th {\n",
       "        text-align: right;\n",
       "    }\n",
       "</style>\n",
       "<table border=\"1\" class=\"dataframe\">\n",
       "  <thead>\n",
       "    <tr style=\"text-align: right;\">\n",
       "      <th></th>\n",
       "      <th>EVENT_DATE</th>\n",
       "      <th>EVENT_TIME</th>\n",
       "      <th>AWND</th>\n",
       "      <th>PGTM</th>\n",
       "      <th>PRCP</th>\n",
       "      <th>SNOW</th>\n",
       "      <th>SNWD</th>\n",
       "      <th>TMAX</th>\n",
       "      <th>TMIN</th>\n",
       "      <th>TOBS</th>\n",
       "      <th>WT01</th>\n",
       "      <th>WT02</th>\n",
       "      <th>WT03</th>\n",
       "      <th>WT04</th>\n",
       "      <th>WT05</th>\n",
       "      <th>WT06</th>\n",
       "      <th>WT08</th>\n",
       "      <th>WT09</th>\n",
       "      <th>WT10</th>\n",
       "      <th>WT11</th>\n",
       "      <th>WT13</th>\n",
       "      <th>WT14</th>\n",
       "      <th>WT15</th>\n",
       "      <th>WT16</th>\n",
       "      <th>WT18</th>\n",
       "      <th>WT19</th>\n",
       "      <th>WT22</th>\n",
       "      <th>residential</th>\n",
       "      <th>service</th>\n",
       "      <th>secondary</th>\n",
       "      <th>primary</th>\n",
       "      <th>cycleway</th>\n",
       "      <th>unclassified</th>\n",
       "      <th>trunk</th>\n",
       "      <th>pedestrian</th>\n",
       "      <th>tertiary</th>\n",
       "      <th>path</th>\n",
       "      <th>secondary_link</th>\n",
       "      <th>living_street</th>\n",
       "      <th>primary_link</th>\n",
       "    </tr>\n",
       "  </thead>\n",
       "  <tbody>\n",
       "    <tr>\n",
       "      <th>count</th>\n",
       "      <td>1.367698e+07</td>\n",
       "      <td>1.367698e+07</td>\n",
       "      <td>1.367698e+07</td>\n",
       "      <td>1.367698e+07</td>\n",
       "      <td>1.367698e+07</td>\n",
       "      <td>1.367698e+07</td>\n",
       "      <td>1.367698e+07</td>\n",
       "      <td>1.367698e+07</td>\n",
       "      <td>1.367698e+07</td>\n",
       "      <td>1.367698e+07</td>\n",
       "      <td>1.367698e+07</td>\n",
       "      <td>1.367698e+07</td>\n",
       "      <td>1.367698e+07</td>\n",
       "      <td>1.367698e+07</td>\n",
       "      <td>1.367698e+07</td>\n",
       "      <td>1.367698e+07</td>\n",
       "      <td>1.367698e+07</td>\n",
       "      <td>1.367698e+07</td>\n",
       "      <td>13676984.0</td>\n",
       "      <td>1.367698e+07</td>\n",
       "      <td>13676984.0</td>\n",
       "      <td>13676984.0</td>\n",
       "      <td>13676984.0</td>\n",
       "      <td>13676984.0</td>\n",
       "      <td>13676984.0</td>\n",
       "      <td>13676984.0</td>\n",
       "      <td>13676984.0</td>\n",
       "      <td>1.367698e+07</td>\n",
       "      <td>1.367698e+07</td>\n",
       "      <td>1.367698e+07</td>\n",
       "      <td>1.367698e+07</td>\n",
       "      <td>1.367698e+07</td>\n",
       "      <td>1.367698e+07</td>\n",
       "      <td>1.367698e+07</td>\n",
       "      <td>1.367698e+07</td>\n",
       "      <td>1.367698e+07</td>\n",
       "      <td>1.367698e+07</td>\n",
       "      <td>1.367698e+07</td>\n",
       "      <td>1.367698e+07</td>\n",
       "      <td>1.367698e+07</td>\n",
       "    </tr>\n",
       "    <tr>\n",
       "      <th>mean</th>\n",
       "      <td>1.947017e+02</td>\n",
       "      <td>5.262883e+04</td>\n",
       "      <td>7.768428e+00</td>\n",
       "      <td>1.301508e+03</td>\n",
       "      <td>1.296435e-01</td>\n",
       "      <td>1.865502e-02</td>\n",
       "      <td>5.285212e-02</td>\n",
       "      <td>6.753832e+01</td>\n",
       "      <td>5.054260e+01</td>\n",
       "      <td>5.295503e+01</td>\n",
       "      <td>5.657372e-01</td>\n",
       "      <td>9.687202e-02</td>\n",
       "      <td>2.115079e-01</td>\n",
       "      <td>3.120015e-02</td>\n",
       "      <td>8.124379e-03</td>\n",
       "      <td>1.183075e-02</td>\n",
       "      <td>2.758367e-01</td>\n",
       "      <td>2.252178e-03</td>\n",
       "      <td>0.0</td>\n",
       "      <td>2.452690e-02</td>\n",
       "      <td>0.0</td>\n",
       "      <td>0.0</td>\n",
       "      <td>0.0</td>\n",
       "      <td>0.0</td>\n",
       "      <td>0.0</td>\n",
       "      <td>0.0</td>\n",
       "      <td>0.0</td>\n",
       "      <td>1.791704e+00</td>\n",
       "      <td>1.865302e-01</td>\n",
       "      <td>1.135846e+00</td>\n",
       "      <td>8.408221e-01</td>\n",
       "      <td>3.010175e-01</td>\n",
       "      <td>1.034314e-01</td>\n",
       "      <td>7.996646e-04</td>\n",
       "      <td>1.076661e-01</td>\n",
       "      <td>7.107437e-02</td>\n",
       "      <td>4.451566e-03</td>\n",
       "      <td>1.398993e-02</td>\n",
       "      <td>1.155767e-02</td>\n",
       "      <td>8.765090e-03</td>\n",
       "    </tr>\n",
       "    <tr>\n",
       "      <th>std</th>\n",
       "      <td>9.838313e+01</td>\n",
       "      <td>1.701540e+04</td>\n",
       "      <td>3.043891e+00</td>\n",
       "      <td>3.957676e+02</td>\n",
       "      <td>2.796745e-01</td>\n",
       "      <td>1.970000e-01</td>\n",
       "      <td>3.659107e-01</td>\n",
       "      <td>1.690296e+01</td>\n",
       "      <td>1.590123e+01</td>\n",
       "      <td>1.585062e+01</td>\n",
       "      <td>4.956598e-01</td>\n",
       "      <td>2.957834e-01</td>\n",
       "      <td>4.083777e-01</td>\n",
       "      <td>1.738583e-01</td>\n",
       "      <td>8.976845e-02</td>\n",
       "      <td>1.081239e-01</td>\n",
       "      <td>4.469349e-01</td>\n",
       "      <td>4.740365e-02</td>\n",
       "      <td>0.0</td>\n",
       "      <td>1.546782e-01</td>\n",
       "      <td>0.0</td>\n",
       "      <td>0.0</td>\n",
       "      <td>0.0</td>\n",
       "      <td>0.0</td>\n",
       "      <td>0.0</td>\n",
       "      <td>0.0</td>\n",
       "      <td>0.0</td>\n",
       "      <td>1.420882e+00</td>\n",
       "      <td>6.267650e-01</td>\n",
       "      <td>1.463021e+00</td>\n",
       "      <td>1.395609e+00</td>\n",
       "      <td>8.266592e-01</td>\n",
       "      <td>5.045174e-01</td>\n",
       "      <td>2.826703e-02</td>\n",
       "      <td>5.533865e-01</td>\n",
       "      <td>3.952031e-01</td>\n",
       "      <td>9.425135e-02</td>\n",
       "      <td>1.314987e-01</td>\n",
       "      <td>1.239350e-01</td>\n",
       "      <td>1.118547e-01</td>\n",
       "    </tr>\n",
       "    <tr>\n",
       "      <th>min</th>\n",
       "      <td>1.000000e+00</td>\n",
       "      <td>0.000000e+00</td>\n",
       "      <td>1.957500e+00</td>\n",
       "      <td>4.075000e+01</td>\n",
       "      <td>0.000000e+00</td>\n",
       "      <td>0.000000e+00</td>\n",
       "      <td>0.000000e+00</td>\n",
       "      <td>1.961538e+01</td>\n",
       "      <td>1.615385e+00</td>\n",
       "      <td>1.400000e+00</td>\n",
       "      <td>0.000000e+00</td>\n",
       "      <td>0.000000e+00</td>\n",
       "      <td>0.000000e+00</td>\n",
       "      <td>0.000000e+00</td>\n",
       "      <td>0.000000e+00</td>\n",
       "      <td>0.000000e+00</td>\n",
       "      <td>0.000000e+00</td>\n",
       "      <td>0.000000e+00</td>\n",
       "      <td>0.0</td>\n",
       "      <td>0.000000e+00</td>\n",
       "      <td>0.0</td>\n",
       "      <td>0.0</td>\n",
       "      <td>0.0</td>\n",
       "      <td>0.0</td>\n",
       "      <td>0.0</td>\n",
       "      <td>0.0</td>\n",
       "      <td>0.0</td>\n",
       "      <td>0.000000e+00</td>\n",
       "      <td>0.000000e+00</td>\n",
       "      <td>0.000000e+00</td>\n",
       "      <td>0.000000e+00</td>\n",
       "      <td>0.000000e+00</td>\n",
       "      <td>0.000000e+00</td>\n",
       "      <td>0.000000e+00</td>\n",
       "      <td>0.000000e+00</td>\n",
       "      <td>0.000000e+00</td>\n",
       "      <td>0.000000e+00</td>\n",
       "      <td>0.000000e+00</td>\n",
       "      <td>0.000000e+00</td>\n",
       "      <td>0.000000e+00</td>\n",
       "    </tr>\n",
       "    <tr>\n",
       "      <th>25%</th>\n",
       "      <td>1.130000e+02</td>\n",
       "      <td>3.943422e+04</td>\n",
       "      <td>5.566250e+00</td>\n",
       "      <td>1.111000e+03</td>\n",
       "      <td>3.571429e-04</td>\n",
       "      <td>0.000000e+00</td>\n",
       "      <td>0.000000e+00</td>\n",
       "      <td>5.321429e+01</td>\n",
       "      <td>3.692857e+01</td>\n",
       "      <td>3.980000e+01</td>\n",
       "      <td>0.000000e+00</td>\n",
       "      <td>0.000000e+00</td>\n",
       "      <td>0.000000e+00</td>\n",
       "      <td>0.000000e+00</td>\n",
       "      <td>0.000000e+00</td>\n",
       "      <td>0.000000e+00</td>\n",
       "      <td>0.000000e+00</td>\n",
       "      <td>0.000000e+00</td>\n",
       "      <td>0.0</td>\n",
       "      <td>0.000000e+00</td>\n",
       "      <td>0.0</td>\n",
       "      <td>0.0</td>\n",
       "      <td>0.0</td>\n",
       "      <td>0.0</td>\n",
       "      <td>0.0</td>\n",
       "      <td>0.0</td>\n",
       "      <td>0.0</td>\n",
       "      <td>1.000000e+00</td>\n",
       "      <td>0.000000e+00</td>\n",
       "      <td>0.000000e+00</td>\n",
       "      <td>0.000000e+00</td>\n",
       "      <td>0.000000e+00</td>\n",
       "      <td>0.000000e+00</td>\n",
       "      <td>0.000000e+00</td>\n",
       "      <td>0.000000e+00</td>\n",
       "      <td>0.000000e+00</td>\n",
       "      <td>0.000000e+00</td>\n",
       "      <td>0.000000e+00</td>\n",
       "      <td>0.000000e+00</td>\n",
       "      <td>0.000000e+00</td>\n",
       "    </tr>\n",
       "    <tr>\n",
       "      <th>50%</th>\n",
       "      <td>2.110000e+02</td>\n",
       "      <td>5.497257e+04</td>\n",
       "      <td>7.101250e+00</td>\n",
       "      <td>1.353500e+03</td>\n",
       "      <td>9.764706e-03</td>\n",
       "      <td>0.000000e+00</td>\n",
       "      <td>0.000000e+00</td>\n",
       "      <td>7.023077e+01</td>\n",
       "      <td>5.242857e+01</td>\n",
       "      <td>5.580000e+01</td>\n",
       "      <td>1.000000e+00</td>\n",
       "      <td>0.000000e+00</td>\n",
       "      <td>0.000000e+00</td>\n",
       "      <td>0.000000e+00</td>\n",
       "      <td>0.000000e+00</td>\n",
       "      <td>0.000000e+00</td>\n",
       "      <td>0.000000e+00</td>\n",
       "      <td>0.000000e+00</td>\n",
       "      <td>0.0</td>\n",
       "      <td>0.000000e+00</td>\n",
       "      <td>0.0</td>\n",
       "      <td>0.0</td>\n",
       "      <td>0.0</td>\n",
       "      <td>0.0</td>\n",
       "      <td>0.0</td>\n",
       "      <td>0.0</td>\n",
       "      <td>0.0</td>\n",
       "      <td>2.000000e+00</td>\n",
       "      <td>0.000000e+00</td>\n",
       "      <td>0.000000e+00</td>\n",
       "      <td>0.000000e+00</td>\n",
       "      <td>0.000000e+00</td>\n",
       "      <td>0.000000e+00</td>\n",
       "      <td>0.000000e+00</td>\n",
       "      <td>0.000000e+00</td>\n",
       "      <td>0.000000e+00</td>\n",
       "      <td>0.000000e+00</td>\n",
       "      <td>0.000000e+00</td>\n",
       "      <td>0.000000e+00</td>\n",
       "      <td>0.000000e+00</td>\n",
       "    </tr>\n",
       "    <tr>\n",
       "      <th>75%</th>\n",
       "      <td>2.720000e+02</td>\n",
       "      <td>6.571478e+04</td>\n",
       "      <td>9.228750e+00</td>\n",
       "      <td>1.510000e+03</td>\n",
       "      <td>1.101282e-01</td>\n",
       "      <td>0.000000e+00</td>\n",
       "      <td>0.000000e+00</td>\n",
       "      <td>8.228571e+01</td>\n",
       "      <td>6.507692e+01</td>\n",
       "      <td>6.680000e+01</td>\n",
       "      <td>1.000000e+00</td>\n",
       "      <td>0.000000e+00</td>\n",
       "      <td>0.000000e+00</td>\n",
       "      <td>0.000000e+00</td>\n",
       "      <td>0.000000e+00</td>\n",
       "      <td>0.000000e+00</td>\n",
       "      <td>1.000000e+00</td>\n",
       "      <td>0.000000e+00</td>\n",
       "      <td>0.0</td>\n",
       "      <td>0.000000e+00</td>\n",
       "      <td>0.0</td>\n",
       "      <td>0.0</td>\n",
       "      <td>0.0</td>\n",
       "      <td>0.0</td>\n",
       "      <td>0.0</td>\n",
       "      <td>0.0</td>\n",
       "      <td>0.0</td>\n",
       "      <td>2.000000e+00</td>\n",
       "      <td>0.000000e+00</td>\n",
       "      <td>2.000000e+00</td>\n",
       "      <td>2.000000e+00</td>\n",
       "      <td>0.000000e+00</td>\n",
       "      <td>0.000000e+00</td>\n",
       "      <td>0.000000e+00</td>\n",
       "      <td>0.000000e+00</td>\n",
       "      <td>0.000000e+00</td>\n",
       "      <td>0.000000e+00</td>\n",
       "      <td>0.000000e+00</td>\n",
       "      <td>0.000000e+00</td>\n",
       "      <td>0.000000e+00</td>\n",
       "    </tr>\n",
       "    <tr>\n",
       "      <th>max</th>\n",
       "      <td>3.660000e+02</td>\n",
       "      <td>8.639999e+04</td>\n",
       "      <td>2.542667e+01</td>\n",
       "      <td>2.335500e+03</td>\n",
       "      <td>5.207917e+00</td>\n",
       "      <td>6.385965e+00</td>\n",
       "      <td>1.298788e+01</td>\n",
       "      <td>9.771429e+01</td>\n",
       "      <td>7.921429e+01</td>\n",
       "      <td>8.180000e+01</td>\n",
       "      <td>1.000000e+00</td>\n",
       "      <td>1.000000e+00</td>\n",
       "      <td>1.000000e+00</td>\n",
       "      <td>1.000000e+00</td>\n",
       "      <td>1.000000e+00</td>\n",
       "      <td>1.000000e+00</td>\n",
       "      <td>1.000000e+00</td>\n",
       "      <td>1.000000e+00</td>\n",
       "      <td>0.0</td>\n",
       "      <td>1.000000e+00</td>\n",
       "      <td>0.0</td>\n",
       "      <td>0.0</td>\n",
       "      <td>0.0</td>\n",
       "      <td>0.0</td>\n",
       "      <td>0.0</td>\n",
       "      <td>0.0</td>\n",
       "      <td>0.0</td>\n",
       "      <td>1.500000e+01</td>\n",
       "      <td>1.000000e+01</td>\n",
       "      <td>7.000000e+00</td>\n",
       "      <td>6.000000e+00</td>\n",
       "      <td>6.000000e+00</td>\n",
       "      <td>5.000000e+00</td>\n",
       "      <td>1.000000e+00</td>\n",
       "      <td>1.000000e+01</td>\n",
       "      <td>4.000000e+00</td>\n",
       "      <td>2.000000e+00</td>\n",
       "      <td>2.000000e+00</td>\n",
       "      <td>2.000000e+00</td>\n",
       "      <td>3.000000e+00</td>\n",
       "    </tr>\n",
       "  </tbody>\n",
       "</table>\n",
       "</div>"
      ],
      "text/plain": [
       "         EVENT_DATE    EVENT_TIME          AWND          PGTM          PRCP  \\\n",
       "count  1.367698e+07  1.367698e+07  1.367698e+07  1.367698e+07  1.367698e+07   \n",
       "mean   1.947017e+02  5.262883e+04  7.768428e+00  1.301508e+03  1.296435e-01   \n",
       "std    9.838313e+01  1.701540e+04  3.043891e+00  3.957676e+02  2.796745e-01   \n",
       "min    1.000000e+00  0.000000e+00  1.957500e+00  4.075000e+01  0.000000e+00   \n",
       "25%    1.130000e+02  3.943422e+04  5.566250e+00  1.111000e+03  3.571429e-04   \n",
       "50%    2.110000e+02  5.497257e+04  7.101250e+00  1.353500e+03  9.764706e-03   \n",
       "75%    2.720000e+02  6.571478e+04  9.228750e+00  1.510000e+03  1.101282e-01   \n",
       "max    3.660000e+02  8.639999e+04  2.542667e+01  2.335500e+03  5.207917e+00   \n",
       "\n",
       "               SNOW          SNWD          TMAX          TMIN          TOBS  \\\n",
       "count  1.367698e+07  1.367698e+07  1.367698e+07  1.367698e+07  1.367698e+07   \n",
       "mean   1.865502e-02  5.285212e-02  6.753832e+01  5.054260e+01  5.295503e+01   \n",
       "std    1.970000e-01  3.659107e-01  1.690296e+01  1.590123e+01  1.585062e+01   \n",
       "min    0.000000e+00  0.000000e+00  1.961538e+01  1.615385e+00  1.400000e+00   \n",
       "25%    0.000000e+00  0.000000e+00  5.321429e+01  3.692857e+01  3.980000e+01   \n",
       "50%    0.000000e+00  0.000000e+00  7.023077e+01  5.242857e+01  5.580000e+01   \n",
       "75%    0.000000e+00  0.000000e+00  8.228571e+01  6.507692e+01  6.680000e+01   \n",
       "max    6.385965e+00  1.298788e+01  9.771429e+01  7.921429e+01  8.180000e+01   \n",
       "\n",
       "               WT01          WT02          WT03          WT04          WT05  \\\n",
       "count  1.367698e+07  1.367698e+07  1.367698e+07  1.367698e+07  1.367698e+07   \n",
       "mean   5.657372e-01  9.687202e-02  2.115079e-01  3.120015e-02  8.124379e-03   \n",
       "std    4.956598e-01  2.957834e-01  4.083777e-01  1.738583e-01  8.976845e-02   \n",
       "min    0.000000e+00  0.000000e+00  0.000000e+00  0.000000e+00  0.000000e+00   \n",
       "25%    0.000000e+00  0.000000e+00  0.000000e+00  0.000000e+00  0.000000e+00   \n",
       "50%    1.000000e+00  0.000000e+00  0.000000e+00  0.000000e+00  0.000000e+00   \n",
       "75%    1.000000e+00  0.000000e+00  0.000000e+00  0.000000e+00  0.000000e+00   \n",
       "max    1.000000e+00  1.000000e+00  1.000000e+00  1.000000e+00  1.000000e+00   \n",
       "\n",
       "               WT06          WT08          WT09        WT10          WT11  \\\n",
       "count  1.367698e+07  1.367698e+07  1.367698e+07  13676984.0  1.367698e+07   \n",
       "mean   1.183075e-02  2.758367e-01  2.252178e-03         0.0  2.452690e-02   \n",
       "std    1.081239e-01  4.469349e-01  4.740365e-02         0.0  1.546782e-01   \n",
       "min    0.000000e+00  0.000000e+00  0.000000e+00         0.0  0.000000e+00   \n",
       "25%    0.000000e+00  0.000000e+00  0.000000e+00         0.0  0.000000e+00   \n",
       "50%    0.000000e+00  0.000000e+00  0.000000e+00         0.0  0.000000e+00   \n",
       "75%    0.000000e+00  1.000000e+00  0.000000e+00         0.0  0.000000e+00   \n",
       "max    1.000000e+00  1.000000e+00  1.000000e+00         0.0  1.000000e+00   \n",
       "\n",
       "             WT13        WT14        WT15        WT16        WT18        WT19  \\\n",
       "count  13676984.0  13676984.0  13676984.0  13676984.0  13676984.0  13676984.0   \n",
       "mean          0.0         0.0         0.0         0.0         0.0         0.0   \n",
       "std           0.0         0.0         0.0         0.0         0.0         0.0   \n",
       "min           0.0         0.0         0.0         0.0         0.0         0.0   \n",
       "25%           0.0         0.0         0.0         0.0         0.0         0.0   \n",
       "50%           0.0         0.0         0.0         0.0         0.0         0.0   \n",
       "75%           0.0         0.0         0.0         0.0         0.0         0.0   \n",
       "max           0.0         0.0         0.0         0.0         0.0         0.0   \n",
       "\n",
       "             WT22   residential       service     secondary       primary  \\\n",
       "count  13676984.0  1.367698e+07  1.367698e+07  1.367698e+07  1.367698e+07   \n",
       "mean          0.0  1.791704e+00  1.865302e-01  1.135846e+00  8.408221e-01   \n",
       "std           0.0  1.420882e+00  6.267650e-01  1.463021e+00  1.395609e+00   \n",
       "min           0.0  0.000000e+00  0.000000e+00  0.000000e+00  0.000000e+00   \n",
       "25%           0.0  1.000000e+00  0.000000e+00  0.000000e+00  0.000000e+00   \n",
       "50%           0.0  2.000000e+00  0.000000e+00  0.000000e+00  0.000000e+00   \n",
       "75%           0.0  2.000000e+00  0.000000e+00  2.000000e+00  2.000000e+00   \n",
       "max           0.0  1.500000e+01  1.000000e+01  7.000000e+00  6.000000e+00   \n",
       "\n",
       "           cycleway  unclassified         trunk    pedestrian      tertiary  \\\n",
       "count  1.367698e+07  1.367698e+07  1.367698e+07  1.367698e+07  1.367698e+07   \n",
       "mean   3.010175e-01  1.034314e-01  7.996646e-04  1.076661e-01  7.107437e-02   \n",
       "std    8.266592e-01  5.045174e-01  2.826703e-02  5.533865e-01  3.952031e-01   \n",
       "min    0.000000e+00  0.000000e+00  0.000000e+00  0.000000e+00  0.000000e+00   \n",
       "25%    0.000000e+00  0.000000e+00  0.000000e+00  0.000000e+00  0.000000e+00   \n",
       "50%    0.000000e+00  0.000000e+00  0.000000e+00  0.000000e+00  0.000000e+00   \n",
       "75%    0.000000e+00  0.000000e+00  0.000000e+00  0.000000e+00  0.000000e+00   \n",
       "max    6.000000e+00  5.000000e+00  1.000000e+00  1.000000e+01  4.000000e+00   \n",
       "\n",
       "               path  secondary_link  living_street  primary_link  \n",
       "count  1.367698e+07    1.367698e+07   1.367698e+07  1.367698e+07  \n",
       "mean   4.451566e-03    1.398993e-02   1.155767e-02  8.765090e-03  \n",
       "std    9.425135e-02    1.314987e-01   1.239350e-01  1.118547e-01  \n",
       "min    0.000000e+00    0.000000e+00   0.000000e+00  0.000000e+00  \n",
       "25%    0.000000e+00    0.000000e+00   0.000000e+00  0.000000e+00  \n",
       "50%    0.000000e+00    0.000000e+00   0.000000e+00  0.000000e+00  \n",
       "75%    0.000000e+00    0.000000e+00   0.000000e+00  0.000000e+00  \n",
       "max    2.000000e+00    2.000000e+00   2.000000e+00  3.000000e+00  "
      ]
     },
     "execution_count": 5,
     "metadata": {},
     "output_type": "execute_result"
    }
   ],
   "source": [
    "# look for outliers\n",
    "train.describe()"
   ]
  },
  {
   "cell_type": "code",
   "execution_count": 6,
   "id": "562c0114-685e-4637-8c68-63a87f368012",
   "metadata": {},
   "outputs": [
    {
     "data": {
      "text/plain": [
       "EVENT_DATE          int64\n",
       "EVENT_TIME        float64\n",
       "IS_CRASH             bool\n",
       "AWND              float64\n",
       "PGTM              float64\n",
       "PRCP              float64\n",
       "SNOW              float64\n",
       "SNWD              float64\n",
       "TMAX              float64\n",
       "TMIN              float64\n",
       "TOBS              float64\n",
       "WT01              float64\n",
       "WT02              float64\n",
       "WT03              float64\n",
       "WT04              float64\n",
       "WT05              float64\n",
       "WT06              float64\n",
       "WT08              float64\n",
       "WT09              float64\n",
       "WT10              float64\n",
       "WT11              float64\n",
       "WT13              float64\n",
       "WT14              float64\n",
       "WT15              float64\n",
       "WT16              float64\n",
       "WT18              float64\n",
       "WT19              float64\n",
       "WT22              float64\n",
       "residential       float64\n",
       "service           float64\n",
       "secondary         float64\n",
       "primary           float64\n",
       "cycleway          float64\n",
       "unclassified      float64\n",
       "trunk             float64\n",
       "pedestrian        float64\n",
       "tertiary          float64\n",
       "path              float64\n",
       "secondary_link    float64\n",
       "living_street     float64\n",
       "primary_link      float64\n",
       "dtype: object"
      ]
     },
     "execution_count": 6,
     "metadata": {},
     "output_type": "execute_result"
    }
   ],
   "source": [
    "# examine data types\n",
    "train.dtypes"
   ]
  },
  {
   "cell_type": "code",
   "execution_count": 7,
   "id": "369f70f8-aa46-4e5f-9fa6-9fde6a035bda",
   "metadata": {},
   "outputs": [],
   "source": [
    "# convert boolean IS_CRASH to int for LogReg\n",
    "train['IS_CRASH'] = train['IS_CRASH'].astype(int)\n",
    "dev['IS_CRASH'] = dev['IS_CRASH'].astype(int)"
   ]
  },
  {
   "cell_type": "code",
   "execution_count": 8,
   "id": "e75d5a64-8c45-4912-8d76-7c81a50ad096",
   "metadata": {},
   "outputs": [
    {
     "data": {
      "text/plain": [
       "EVENT_DATE          int64\n",
       "EVENT_TIME        float64\n",
       "IS_CRASH            int64\n",
       "AWND              float64\n",
       "PGTM              float64\n",
       "PRCP              float64\n",
       "SNOW              float64\n",
       "SNWD              float64\n",
       "TMAX              float64\n",
       "TMIN              float64\n",
       "TOBS              float64\n",
       "WT01              float64\n",
       "WT02              float64\n",
       "WT03              float64\n",
       "WT04              float64\n",
       "WT05              float64\n",
       "WT06              float64\n",
       "WT08              float64\n",
       "WT09              float64\n",
       "WT10              float64\n",
       "WT11              float64\n",
       "WT13              float64\n",
       "WT14              float64\n",
       "WT15              float64\n",
       "WT16              float64\n",
       "WT18              float64\n",
       "WT19              float64\n",
       "WT22              float64\n",
       "residential       float64\n",
       "service           float64\n",
       "secondary         float64\n",
       "primary           float64\n",
       "cycleway          float64\n",
       "unclassified      float64\n",
       "trunk             float64\n",
       "pedestrian        float64\n",
       "tertiary          float64\n",
       "path              float64\n",
       "secondary_link    float64\n",
       "living_street     float64\n",
       "primary_link      float64\n",
       "dtype: object"
      ]
     },
     "execution_count": 8,
     "metadata": {},
     "output_type": "execute_result"
    }
   ],
   "source": [
    "# confirm IS_CRASH converted\n",
    "train.dtypes"
   ]
  },
  {
   "cell_type": "code",
   "execution_count": 9,
   "id": "3e7908a3-076f-4006-94a6-15c0b6a28e64",
   "metadata": {},
   "outputs": [],
   "source": [
    "# MDSF Multi-day snowfall total\n",
    "# DASF Days included in MDSF\n",
    "# MDPR Multi-day precipitation total\n",
    "# DAPR Days included in MDPR\n",
    "# PSUN Daily percent of possible sunshine\n",
    "# TSUN Daily total sunshine\n",
    "# TAVG: Average temperature (degrees F)\n",
    "# WESD: Water equivalent of snow on the ground (inches)\n",
    "# WESF: Water equivalent of snowfall (inches)\n",
    "# WSF2: Fastest 2-minute wind speed (mph)\n",
    "# WSF5: Fastest 5-second wind speed (mph)\n",
    "# WDF2: Direction of fastest 2-minute wind (degrees)\n",
    "# WDF5: Direction of fastest 5-minute wind (degrees)\n",
    "\n",
    "# The following columns are continuous:\n",
    "\n",
    "# AWND: Average wind speed (mph)\n",
    "# PGTM: Peak gust time (hours and minutes, i.e., HHMM)\n",
    "# PRCP: Amount of precipitation (inches)\n",
    "# SNOW: Amount of snowfall (inches)\n",
    "# SNWD: Snow depth on ground (inches)\n",
    "# TMAX: Maximum temperature (degrees F)\n",
    "# TMIN: Minimum temperature (degrees F)\n",
    "# TOBS: Temperature at the time of observation (degrees F)\n",
    "# The following columns contain a 1 if the specified weather condition was observed. 0 otherwise.\n",
    "\n",
    "# WT01: Fog, ice fog, or freezing fog (may include heavy fog)\n",
    "# WT02: Heavy fog or heaving freezing fog (not always distinguished from fog)\n",
    "# WT03: Thunder\n",
    "# WT04: Ice pellets, sleet, snow pellets, or small hail\n",
    "# WT05: Hail (may include small hail)\n",
    "# WT06: Glaze or rime\n",
    "# WT08: Smoke or haze\n",
    "# WT09: Blowing or drifting snow\n",
    "# WT11: High or damaging winds\n",
    "# WT13: Mist\n",
    "# WT14: Drizzle\n",
    "# WT15: Freezing Drizzle\n",
    "# WT16: Rain (may include freezing rain, drizzle, and freezing drizzle)\n",
    "# WT18: Snow, snow pellets, snow grains, or ice crystals\n",
    "# WT19: Unknown source of precipitation\n",
    "# WT22: Ice fog or freezing fog\n",
    "   \n",
    "# create lists of duplicate / similar / empty columns\n",
    "cols = train.columns\n",
    "cols_no_values = []\n",
    "cols_remove = []\n",
    "\n",
    "for col in cols:\n",
    "    if sum(train[col]) == 0:\n",
    "        cols_no_values.append(col)\n",
    "        \n",
    "cols_duplicate = ['PGTM', 'SNWD', 'TMAX', 'TMIN', 'TOBS', 'WT01', 'WT02', 'WT05', 'WT06','WT11']"
   ]
  },
  {
   "cell_type": "code",
   "execution_count": 10,
   "id": "627be105-b7f4-4899-9bb1-bc8fe3c5ffb7",
   "metadata": {},
   "outputs": [
    {
     "name": "stdout",
     "output_type": "stream",
     "text": [
      "['WT10', 'WT13', 'WT14', 'WT15', 'WT16', 'WT18', 'WT19', 'WT22']\n",
      "['PGTM', 'SNWD', 'TMAX', 'TMIN', 'TOBS', 'WT01', 'WT02', 'WT05', 'WT06', 'WT11']\n",
      "['WT10', 'WT13', 'WT14', 'WT15', 'WT16', 'WT18', 'WT19', 'WT22', 'PGTM', 'SNWD', 'TMAX', 'TMIN', 'TOBS', 'WT01', 'WT02', 'WT05', 'WT06', 'WT11']\n"
     ]
    },
    {
     "data": {
      "text/plain": [
       "18"
      ]
     },
     "execution_count": 10,
     "metadata": {},
     "output_type": "execute_result"
    }
   ],
   "source": [
    "# create list of columns to drop\n",
    "print(cols_no_values)\n",
    "print(cols_duplicate)\n",
    "cols_remove.extend(cols_no_values)\n",
    "cols_remove.extend(cols_duplicate)\n",
    "print(cols_remove)\n",
    "len(cols_remove)"
   ]
  },
  {
   "cell_type": "code",
   "execution_count": 11,
   "id": "e84c94e6-d62e-44f8-92be-a2a690b1adf1",
   "metadata": {},
   "outputs": [
    {
     "data": {
      "text/plain": [
       "<AxesSubplot:>"
      ]
     },
     "execution_count": 11,
     "metadata": {},
     "output_type": "execute_result"
    },
    {
     "data": {
      "image/png": "[encoded data removed]",
      "text/plain": [
       "<Figure size 432x288 with 2 Axes>"
      ]
     },
     "metadata": {
      "needs_background": "light"
     },
     "output_type": "display_data"
    }
   ],
   "source": [
    "# create smaller sample for correlation plot\n",
    "train_0 = train.loc[train['IS_CRASH'] == 0]\n",
    "train_1 = train.loc[train['IS_CRASH'] == 1]\n",
    "train_0_sample = train_0.sample(n=10000)\n",
    "correlation = pd.concat([train_1,train_0_sample])\n",
    "\n",
    "# create average temperature singular value instead of min and max\n",
    "correlation['TAVG'] = correlation[['TMAX', 'TMIN']].mean(axis=1)\n",
    "\n",
    "# drop unwanted columns\n",
    "correlation = correlation.drop(cols_remove, axis=1)\n",
    "\n",
    "# plot correlations\n",
    "sns.heatmap(correlation.corr())"
   ]
  },
  {
   "cell_type": "code",
   "execution_count": 12,
   "id": "384b83ea-c1d9-4798-95f7-17905c8a71df",
   "metadata": {},
   "outputs": [
    {
     "name": "stdout",
     "output_type": "stream",
     "text": [
      "fraction of train positives:  0.0001438182570075391\n",
      "fraction of dev positives:  0.00015507803803250497\n",
      "fraction of test positives:  0.00014674286767149338\n"
     ]
    }
   ],
   "source": [
    "# look at fraction of 1s v 0s in train, dev, test\n",
    "print(\"fraction of train positives: \", train['IS_CRASH'].sum() / train.shape[0])\n",
    "print(\"fraction of dev positives: \", dev['IS_CRASH'].sum() / dev.shape[0])\n",
    "print(\"fraction of test positives: \", test['IS_CRASH'].sum() / test.shape[0])"
   ]
  },
  {
   "cell_type": "code",
   "execution_count": 13,
   "id": "d32a099e-e517-4928-a854-d07988b5691f",
   "metadata": {},
   "outputs": [],
   "source": [
    "# create average temperature instead of min and max\n",
    "train['TAVG'] = train[['TMAX', 'TMIN']].mean(axis=1)\n",
    "dev['TAVG'] = dev[['TMAX', 'TMIN']].mean(axis=1)\n",
    "test['TAVG'] = test[['TMAX', 'TMIN']].mean(axis=1)\n",
    "\n",
    "# drop columns and create x and y sets\n",
    "train_x = train.drop(cols_remove, axis = 1)\n",
    "train_x = train_x.drop('IS_CRASH', axis = 1)\n",
    "train_y = train['IS_CRASH']\n",
    "\n",
    "dev_x = dev.drop(cols_remove, axis = 1)\n",
    "dev_x = dev_x.drop('IS_CRASH', axis = 1)\n",
    "dev_y = dev['IS_CRASH']\n",
    "\n",
    "test_x = test.drop(cols_remove, axis = 1)\n",
    "test_x = test_x.drop('IS_CRASH', axis = 1)\n",
    "test_y = test['IS_CRASH']"
   ]
  },
  {
   "cell_type": "code",
   "execution_count": 14,
   "id": "5063df97-f123-41d3-b46d-8e8d573a9e5e",
   "metadata": {},
   "outputs": [
    {
     "name": "stdout",
     "output_type": "stream",
     "text": [
      "train_x shape:  (13676984, 23)\n",
      "train_y shape:  (13676984,)\n",
      "dev_x shape:  (4558995, 23)\n",
      "dev_y shape:  (4558995,)\n",
      "test_x shape:  (4558995, 23)\n",
      "test_y shape:  (4558995,)\n"
     ]
    }
   ],
   "source": [
    "# check shapes\n",
    "print( \"train_x shape: \", train_x.shape)\n",
    "print( \"train_y shape: \", train_y.shape)\n",
    "\n",
    "print( \"dev_x shape: \", dev_x.shape)\n",
    "print( \"dev_y shape: \", dev_y.shape)\n",
    "\n",
    "print( \"test_x shape: \", test_x.shape)\n",
    "print( \"test_y shape: \", test_y.shape)"
   ]
  },
  {
   "cell_type": "code",
   "execution_count": 15,
   "id": "adb9334e-afc7-402b-a8a2-3e1f7a7bc261",
   "metadata": {},
   "outputs": [],
   "source": [
    "# scale train dev and test\n",
    "scaler = StandardScaler()\n",
    "\n",
    "train_x = scaler.fit_transform(train_x)\n",
    "dev_x = scaler.fit_transform(dev_x)\n",
    "test_x = scaler.fit_transform(test_x)"
   ]
  },
  {
   "cell_type": "code",
   "execution_count": 16,
   "id": "65cdacc3-eab2-409d-aab9-b18fd65e8766",
   "metadata": {},
   "outputs": [
    {
     "data": {
      "text/plain": [
       "LogisticRegression(max_iter=1000, penalty='none')"
      ]
     },
     "execution_count": 16,
     "metadata": {},
     "output_type": "execute_result"
    }
   ],
   "source": [
    "# train Logistic Regression model with default weights\n",
    "lr1 = LogisticRegression(penalty='none',max_iter=1000)\n",
    "lr1.fit(train_x, train_y)"
   ]
  },
  {
   "cell_type": "code",
   "execution_count": 17,
   "id": "b5e4168b-f622-48e5-af78-3beeb7379b20",
   "metadata": {},
   "outputs": [
    {
     "name": "stdout",
     "output_type": "stream",
     "text": [
      "No Weights train ROC AUC score:  0.6473718010996552\n",
      "No Weights dev ROC AUC score:  0.6572071934389262\n"
     ]
    }
   ],
   "source": [
    "# compute AUC score of fitted model with default weights on train set\n",
    "print(\"No Weights train ROC AUC score: \", roc_auc_score(train_y, lr1.predict_proba(train_x)[:,1]))\n",
    "\n",
    "# compute AUC score of fitted model with default weights on dev set\n",
    "print(\"No Weights dev ROC AUC score: \", roc_auc_score(dev_y, lr1.predict_proba(dev_x)[:,1]))"
   ]
  },
  {
   "cell_type": "code",
   "execution_count": 18,
   "id": "7768840d-3aad-490d-839f-c1d830a16e5b",
   "metadata": {},
   "outputs": [
    {
     "name": "stdout",
     "output_type": "stream",
     "text": [
      "No Weights fraction crash predictions 0.0\n",
      "No Weights fraction true crashes:  0.0001438182570075391\n"
     ]
    }
   ],
   "source": [
    "# look at predictions\n",
    "NoWeightpredictions = lr1.predict_proba(train_x)[:,1]\n",
    "\n",
    "# look at how many CRASH predictions\n",
    "NoWeightbinary_predictions = NoWeightpredictions > 0.5\n",
    "print('No Weights fraction crash predictions', NoWeightbinary_predictions.mean()) \n",
    "\n",
    "# look at true Train crashes\n",
    "NoWeightground_truth = train_y\n",
    "print(\"No Weights fraction true crashes: \", sum(NoWeightground_truth)/(train.shape[0]))"
   ]
  },
  {
   "cell_type": "code",
   "execution_count": 19,
   "id": "5fa38912-f871-4e9d-8220-584f5379ed3a",
   "metadata": {},
   "outputs": [
    {
     "name": "stdout",
     "output_type": "stream",
     "text": [
      "No Weights fnr 1.0\n"
     ]
    },
    {
     "data": {
      "text/plain": [
       "[<matplotlib.lines.Line2D at 0x7fd36448e040>]"
      ]
     },
     "execution_count": 19,
     "metadata": {},
     "output_type": "execute_result"
    },
    {
     "data": {
      "image/png": "[encoded data removed]",
      "text/plain": [
       "<Figure size 288x288 with 1 Axes>"
      ]
     },
     "metadata": {
      "needs_background": "light"
     },
     "output_type": "display_data"
    }
   ],
   "source": [
    "# False positive rate (FPR): nothing is classified as positive\n",
    "# False negative rate (FNR): everything is classified as negative\n",
    "print('No Weights fnr', (NoWeightbinary_predictions == 0)[NoWeightground_truth == 1].mean())\n",
    "\n",
    "from sklearn import metrics \n",
    "fpr1, tpr1, thresholds1 = metrics.roc_curve(y_true=NoWeightground_truth, y_score=NoWeightpredictions)\n",
    "metrics.roc_auc_score(y_true=NoWeightground_truth, y_score=NoWeightpredictions)\n",
    "plt.figure(figsize=[4, 4])\n",
    "plt.plot(fpr1, tpr1)\n",
    "plt.xlim([0, 1])\n",
    "plt.ylim([0, 1])\n",
    "plt.xlabel('FPR')\n",
    "plt.ylabel(\"TPR\")\n",
    "plt.plot([0, 1], [0, 1], linestyle='--')"
   ]
  },
  {
   "cell_type": "code",
   "execution_count": 20,
   "id": "ac127edb-71b2-4dbe-afde-534fb3141bcb",
   "metadata": {},
   "outputs": [
    {
     "data": {
      "text/plain": [
       "LogisticRegression(class_weight={0: 0.0001, 1: 0.9999}, max_iter=1000,\n",
       "                   penalty='none')"
      ]
     },
     "execution_count": 20,
     "metadata": {},
     "output_type": "execute_result"
    }
   ],
   "source": [
    "# train Log Reg model with class weights .0001 and .9999 due to imbalanced data\n",
    "lr2 = LogisticRegression(class_weight={0:0.0001,1:0.9999},penalty='none',max_iter=1000)\n",
    "lr2.fit(train_x, train_y)"
   ]
  },
  {
   "cell_type": "code",
   "execution_count": 21,
   "id": "b1a70338-a51b-44d2-8896-52ed2fb6fa0c",
   "metadata": {},
   "outputs": [
    {
     "name": "stdout",
     "output_type": "stream",
     "text": [
      "Class Weights train ROC AUC score:  0.6467366429365475\n",
      "Class Weights dev ROC AUC score:  0.6563171799590397\n"
     ]
    }
   ],
   "source": [
    "# compute AUC score of fitted model on train set\n",
    "print(\"Class Weights train ROC AUC score: \", roc_auc_score(train_y, lr2.predict_proba(train_x)[:,1]))\n",
    "\n",
    "# compute AUC score of fitted model on dev set\n",
    "print(\"Class Weights dev ROC AUC score: \", roc_auc_score(dev_y, lr2.predict_proba(dev_x)[:,1]))"
   ]
  },
  {
   "cell_type": "code",
   "execution_count": 22,
   "id": "d3fb9b7a-573d-47f7-a0c1-720d8090ed3d",
   "metadata": {},
   "outputs": [
    {
     "name": "stdout",
     "output_type": "stream",
     "text": [
      "fraction crash predictions 0.731982065636693\n",
      "fraction true crashes:  0.0001438182570075391\n"
     ]
    }
   ],
   "source": [
    "# look at predictions\n",
    "predictions = lr2.predict_proba(train_x)[:,1]\n",
    "\n",
    "# look at how many CRASH predictions\n",
    "binary_predictions = predictions > 0.5\n",
    "print('fraction crash predictions', binary_predictions.mean()) \n",
    "\n",
    "# look at how many true crashes\n",
    "ground_truth = train['IS_CRASH'].values\n",
    "print(\"fraction true crashes: \", sum(ground_truth)/(train.shape[0]))"
   ]
  },
  {
   "cell_type": "code",
   "execution_count": 23,
   "id": "653fef12-80d9-4ac0-a1e9-f6bcbbc82c03",
   "metadata": {},
   "outputs": [
    {
     "name": "stdout",
     "output_type": "stream",
     "text": [
      "fnr 0.10930350788002034\n"
     ]
    },
    {
     "data": {
      "text/plain": [
       "[<matplotlib.lines.Line2D at 0x7fd364211b50>]"
      ]
     },
     "execution_count": 23,
     "metadata": {},
     "output_type": "execute_result"
    },
    {
     "data": {
      "image/png": "[encoded data removed]",
      "text/plain": [
       "<Figure size 288x288 with 1 Axes>"
      ]
     },
     "metadata": {
      "needs_background": "light"
     },
     "output_type": "display_data"
    }
   ],
   "source": [
    "# False positive rate (FPR): nothing is classified as positive\n",
    "# False negative rate (FNR): everything is classified as negative\n",
    "print('fnr', (binary_predictions == 0)[ground_truth == 1].mean())\n",
    "\n",
    "from sklearn import metrics \n",
    "fpr, tpr, thresholds = metrics.roc_curve(y_true=ground_truth, y_score=predictions)\n",
    "metrics.roc_auc_score(y_true=ground_truth, y_score=predictions)\n",
    "plt.figure(figsize=[4, 4])\n",
    "plt.plot(fpr, tpr)\n",
    "plt.xlim([0, 1])\n",
    "plt.ylim([0, 1])\n",
    "plt.xlabel('FPR')\n",
    "plt.ylabel(\"TPR\")\n",
    "plt.plot([0, 1], [0, 1], linestyle='--')"
   ]
  },
  {
   "cell_type": "code",
   "execution_count": 34,
   "id": "e63470ac-e407-4757-a209-eb0d6a50388e",
   "metadata": {},
   "outputs": [
    {
     "data": {
      "text/plain": [
       "LogisticRegression(class_weight={0: 0.001, 1: 0.999}, max_iter=1000,\n",
       "                   penalty='none')"
      ]
     },
     "execution_count": 34,
     "metadata": {},
     "output_type": "execute_result"
    }
   ],
   "source": [
    "# train Log Reg model with class weights .001 and .999 due to imbalanced data\n",
    "lr = LogisticRegression(class_weight={0:0.001,1:0.999},penalty='none',max_iter=1000)\n",
    "lr.fit(train_x, train_y)"
   ]
  },
  {
   "cell_type": "code",
   "execution_count": 35,
   "id": "41305e8d-94eb-4416-93d9-271f59081073",
   "metadata": {},
   "outputs": [
    {
     "name": "stdout",
     "output_type": "stream",
     "text": [
      "Class Weights train ROC AUC score:  0.6475217727055628\n",
      "Class Weights dev ROC AUC score:  0.6573528075512464\n",
      "Class Weights test ROC AUC score:  0.6334746689490086\n"
     ]
    }
   ],
   "source": [
    "# compute AUC score of fitted model on train set\n",
    "print(\"Class Weights train ROC AUC score: \", roc_auc_score(train_y, lr.predict_proba(train_x)[:,1]))\n",
    "\n",
    "# compute AUC score of fitted model on dev set\n",
    "print(\"Class Weights dev ROC AUC score: \", roc_auc_score(dev_y, lr.predict_proba(dev_x)[:,1]))\n",
    "\n",
    "# compute AUC score of fitted model on test set\n",
    "print(\"Class Weights test ROC AUC score: \", roc_auc_score(test_y, lr.predict_proba(test_x)[:,1]))"
   ]
  },
  {
   "cell_type": "code",
   "execution_count": 29,
   "id": "174acd64-2b31-496a-a75e-ef87c92cb0bb",
   "metadata": {},
   "outputs": [
    {
     "name": "stdout",
     "output_type": "stream",
     "text": [
      "fraction crash predictions 9.205245834900443e-05\n",
      "fraction true crashes:  0.0001438182570075391\n"
     ]
    }
   ],
   "source": [
    "# look at predictions\n",
    "predictions = lr.predict_proba(train_x)[:,1]\n",
    "\n",
    "# look at how many CRASH predictions\n",
    "binary_predictions = predictions > 0.5\n",
    "print('fraction crash predictions', binary_predictions.mean()) \n",
    "\n",
    "# look at how many true crashes\n",
    "ground_truth = train['IS_CRASH'].values\n",
    "print(\"fraction true crashes: \", sum(ground_truth)/(train.shape[0]))"
   ]
  },
  {
   "cell_type": "code",
   "execution_count": 30,
   "id": "21859ce3-a8d0-4123-9b1c-c51398d3b9fe",
   "metadata": {},
   "outputs": [
    {
     "name": "stdout",
     "output_type": "stream",
     "text": [
      "fnr 0.9989832231825114\n"
     ]
    },
    {
     "data": {
      "text/plain": [
       "[<matplotlib.lines.Line2D at 0x7fd351b514f0>]"
      ]
     },
     "execution_count": 30,
     "metadata": {},
     "output_type": "execute_result"
    },
    {
     "data": {
      "image/png": "[encoded data removed]",
      "text/plain": [
       "<Figure size 288x288 with 1 Axes>"
      ]
     },
     "metadata": {
      "needs_background": "light"
     },
     "output_type": "display_data"
    }
   ],
   "source": [
    "# False positive rate (FPR): nothing is classified as positive\n",
    "# False negative rate (FNR): everything is classified as negative\n",
    "print('fnr', (binary_predictions == 0)[ground_truth == 1].mean())\n",
    "\n",
    "from sklearn import metrics \n",
    "fpr, tpr, thresholds = metrics.roc_curve(y_true=ground_truth, y_score=predictions)\n",
    "metrics.roc_auc_score(y_true=ground_truth, y_score=predictions)\n",
    "plt.figure(figsize=[4, 4])\n",
    "plt.plot(fpr, tpr)\n",
    "plt.xlim([0, 1])\n",
    "plt.ylim([0, 1])\n",
    "plt.xlabel('FPR')\n",
    "plt.ylabel(\"TPR\")\n",
    "plt.plot([0, 1], [0, 1], linestyle='--')"
   ]
  },
  {
   "cell_type": "code",
   "execution_count": 24,
   "id": "d97cf13d-9b97-49ed-a3a9-cf456c1ec670",
   "metadata": {},
   "outputs": [
    {
     "data": {
      "text/plain": [
       "<AxesSubplot:>"
      ]
     },
     "execution_count": 24,
     "metadata": {},
     "output_type": "execute_result"
    },
    {
     "data": {
      "image/png": "[encoded data removed]",
      "text/plain": [
       "<Figure size 432x288 with 1 Axes>"
      ]
     },
     "metadata": {
      "needs_background": "light"
     },
     "output_type": "display_data"
    }
   ],
   "source": [
    "# look at distribution of minimum temperature of crashes\n",
    "train.query('IS_CRASH==1').TMIN.hist()"
   ]
  },
  {
   "cell_type": "code",
   "execution_count": 25,
   "id": "de1a8b37-26ca-4145-9832-7b9f113e6505",
   "metadata": {},
   "outputs": [
    {
     "data": {
      "text/plain": [
       "<AxesSubplot:>"
      ]
     },
     "execution_count": 25,
     "metadata": {},
     "output_type": "execute_result"
    },
    {
     "data": {
      "image/png": "[encoded data removed]",
      "text/plain": [
       "<Figure size 432x288 with 1 Axes>"
      ]
     },
     "metadata": {
      "needs_background": "light"
     },
     "output_type": "display_data"
    }
   ],
   "source": [
    "# look at distribution of maximum temperature of crashes\n",
    "train.query('IS_CRASH==1').TMAX.hist()"
   ]
  },
  {
   "cell_type": "code",
   "execution_count": 26,
   "id": "eaefcb77-f83b-422d-a90a-d97b844c9c4f",
   "metadata": {},
   "outputs": [
    {
     "data": {
      "text/plain": [
       "<AxesSubplot:>"
      ]
     },
     "execution_count": 26,
     "metadata": {},
     "output_type": "execute_result"
    },
    {
     "data": {
      "image/png": "[encoded data removed]",
      "text/plain": [
       "<Figure size 432x288 with 1 Axes>"
      ]
     },
     "metadata": {
      "needs_background": "light"
     },
     "output_type": "display_data"
    }
   ],
   "source": [
    "# look at distribution of time of crashes\n",
    "train.query('IS_CRASH==1').EVENT_TIME.hist()"
   ]
  }
 ],
 "metadata": {
  "kernelspec": {
   "display_name": "Python 3",
   "language": "python",
   "name": "python3"
  },
  "language_info": {
   "codemirror_mode": {
    "name": "ipython",
    "version": 3
   },
   "file_extension": ".py",
   "mimetype": "text/x-python",
   "name": "python",
   "nbconvert_exporter": "python",
   "pygments_lexer": "ipython3",
   "version": "3.8.8"
  }
 },
 "nbformat": 4,
 "nbformat_minor": 5
}
